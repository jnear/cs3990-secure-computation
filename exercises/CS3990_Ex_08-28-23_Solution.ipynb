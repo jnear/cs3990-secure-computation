{
 "cells": [
  {
   "cell_type": "markdown",
   "metadata": {},
   "source": [
    "# CS3990/5990: Secure Distributed Computation\n",
    "## In-Class Exercise, Week of 8/28/2023"
   ]
  },
  {
   "cell_type": "markdown",
   "metadata": {},
   "source": [
    "# Question 1\n",
    "\n",
    "Write functions `enc` and `dec` for an additively homomorphic cryptosystem over the integers."
   ]
  },
  {
   "cell_type": "code",
   "execution_count": 18,
   "metadata": {
    "deletable": false,
    "nbgrader": {
     "cell_type": "code",
     "checksum": "b90a7e981b86dfa5ce956fb09df5fb85",
     "grade": false,
     "grade_id": "cell-16a7ad376675c884",
     "locked": false,
     "schema_version": 3,
     "solution": true,
     "task": false
    }
   },
   "outputs": [],
   "source": [
    "import numpy as np\n",
    "import matplotlib.pyplot as plt\n",
    "\n",
    "def enc(x):\n",
    "    # idea: add a random number to x so that the output looks random\n",
    "    k = np.random.randint(0, 17)\n",
    "    return x+k, k\n",
    "\n",
    "def dec(pair):\n",
    "    c, k = pair\n",
    "    return c - k"
   ]
  },
  {
   "cell_type": "code",
   "execution_count": 19,
   "metadata": {},
   "outputs": [
    {
     "data": {
      "text/plain": [
       "(11, 6)"
      ]
     },
     "execution_count": 19,
     "metadata": {},
     "output_type": "execute_result"
    }
   ],
   "source": [
    "enc(5)"
   ]
  },
  {
   "cell_type": "code",
   "execution_count": null,
   "metadata": {},
   "outputs": [],
   "source": []
  },
  {
   "cell_type": "code",
   "execution_count": 21,
   "metadata": {},
   "outputs": [
    {
     "data": {
      "text/plain": [
       "(array([ 95., 117.,  52., 118.,  72., 120., 127.,  56., 131., 112.]),\n",
       " array([10. , 11.6, 13.2, 14.8, 16.4, 18. , 19.6, 21.2, 22.8, 24.4, 26. ]),\n",
       " <BarContainer object of 10 artists>)"
      ]
     },
     "execution_count": 21,
     "metadata": {},
     "output_type": "execute_result"
    },
    {
     "data": {
      "image/png": "[encoded data removed]",
      "text/plain": [
       "<Figure size 640x480 with 1 Axes>"
      ]
     },
     "metadata": {},
     "output_type": "display_data"
    }
   ],
   "source": [
    "r = [enc(10)[0] for _ in range(1000)]\n",
    "plt.hist(r)"
   ]
  },
  {
   "cell_type": "code",
   "execution_count": 4,
   "metadata": {
    "deletable": false,
    "editable": false,
    "nbgrader": {
     "cell_type": "code",
     "checksum": "838fa3f7b937ac7fe26af6afc6e3c971",
     "grade": true,
     "grade_id": "cell-03410747a69767fb",
     "locked": true,
     "points": 5,
     "schema_version": 3,
     "solution": false,
     "task": false
    }
   },
   "outputs": [],
   "source": [
    "assert dec(enc(5)) == 5\n",
    "assert dec(enc(0)) == 0\n",
    "assert dec(enc(1)) == 1\n",
    "\n",
    "c, k = enc(5)\n",
    "assert dec((c + 10, k)) == 15\n",
    "\n",
    "c2, k2 = enc(20)\n",
    "assert dec((c + c2, k + k2)) == 25"
   ]
  },
  {
   "cell_type": "markdown",
   "metadata": {},
   "source": [
    "# Question 2\n",
    "\n",
    "Why is the above solution considered a *one-time pad*?"
   ]
  },
  {
   "cell_type": "markdown",
   "metadata": {
    "deletable": false,
    "nbgrader": {
     "cell_type": "markdown",
     "checksum": "54285dc1d9023a5f025e1428f788c2f8",
     "grade": true,
     "grade_id": "cell-2307aecc419781d8",
     "locked": false,
     "points": 5,
     "schema_version": 3,
     "solution": true,
     "task": false
    }
   },
   "source": [
    "One-time pad: add a random number or string to the plaintext message to get a random-looking ciphertext.\n",
    "\n",
    "- We encrypt the number by adding another (random) number to it: the key is a random value that is the same length as the plaintext message\n",
    "- We can only use each key once"
   ]
  },
  {
   "cell_type": "markdown",
   "metadata": {},
   "source": [
    "# Question 3\n",
    "\n",
    "What is problematic (for security) about the use of integers in the above solution?"
   ]
  },
  {
   "cell_type": "markdown",
   "metadata": {
    "deletable": false,
    "nbgrader": {
     "cell_type": "markdown",
     "checksum": "fa707c7f9fb5ef2710de2751509c481d",
     "grade": true,
     "grade_id": "cell-52c5ebcaef37ac22",
     "locked": false,
     "points": 0,
     "schema_version": 3,
     "solution": true,
     "task": false
    }
   },
   "source": [
    "The problem is that you can't pick a random integer, because the integers are unbounded\n",
    "\n",
    "If we pick random integers from a bounded interval, then ciphertexts can reveal something to the adversary about the plaintext."
   ]
  },
  {
   "cell_type": "markdown",
   "metadata": {},
   "source": [
    "## Question 4\n",
    "\n",
    "Write functions `plusFE` and `multFE` that add and multiply two field elements in $GF(p)$, respectively."
   ]
  },
  {
   "cell_type": "code",
   "execution_count": 6,
   "metadata": {
    "deletable": false,
    "nbgrader": {
     "cell_type": "code",
     "checksum": "988309066207bd3c396dbdafd4d605ec",
     "grade": false,
     "grade_id": "cell-c9adfe88526cc324",
     "locked": false,
     "schema_version": 3,
     "solution": true,
     "task": false
    }
   },
   "outputs": [],
   "source": [
    "def plusFE(p, a, b):\n",
    "    return (a + b) % p\n",
    "    \n",
    "def multFE(p, a, b):\n",
    "    return (a * b) % p"
   ]
  },
  {
   "cell_type": "code",
   "execution_count": 7,
   "metadata": {},
   "outputs": [
    {
     "data": {
      "text/plain": [
       "12"
      ]
     },
     "execution_count": 7,
     "metadata": {},
     "output_type": "execute_result"
    }
   ],
   "source": [
    "multFE(p, 3, 4)"
   ]
  },
  {
   "cell_type": "code",
   "execution_count": 16,
   "metadata": {
    "deletable": false,
    "editable": false,
    "nbgrader": {
     "cell_type": "code",
     "checksum": "fa7a5429fb920d14cbb6079c6ab13e4b",
     "grade": true,
     "grade_id": "cell-d1dfca2e7cebbcfb",
     "locked": true,
     "points": 5,
     "schema_version": 3,
     "solution": false,
     "task": false
    }
   },
   "outputs": [],
   "source": [
    "assert plusFE(100, 2, 3) == 5\n",
    "assert plusFE(3, 2, 3) == 2\n",
    "assert plusFE(2, 1, 1) == 0\n",
    "assert multFE(100, 2, 5) == 10\n",
    "assert multFE(3, 2, 5) == 1\n",
    "assert multFE(2, 1, 1) == 1\n",
    "assert multFE(2, 1, 0) == 0"
   ]
  },
  {
   "cell_type": "markdown",
   "metadata": {},
   "source": [
    "## Question 5\n",
    "\n",
    "Write functions `enc` and `dec` for an additively homomorphic cryptosystem in the finite field $GF(p)$."
   ]
  },
  {
   "cell_type": "code",
   "execution_count": 22,
   "metadata": {
    "deletable": false,
    "nbgrader": {
     "cell_type": "code",
     "checksum": "cf76d2c7a7a51ae059e74f71fc5cd081",
     "grade": false,
     "grade_id": "cell-7e41c12148039b16",
     "locked": false,
     "schema_version": 3,
     "solution": true,
     "task": false
    }
   },
   "outputs": [],
   "source": [
    "def enc(p, x):\n",
    "    # idea: add a random number to x so that the output looks random\n",
    "    # now: make all arithmetic mod p\n",
    "    k = np.random.randint(0, p)\n",
    "    return (x+k) % p, k\n",
    "\n",
    "def dec(p, pair):\n",
    "    c, k = pair\n",
    "    return (c - k) % p"
   ]
  },
  {
   "cell_type": "code",
   "execution_count": 29,
   "metadata": {},
   "outputs": [
    {
     "data": {
      "text/plain": [
       "11"
      ]
     },
     "execution_count": 29,
     "metadata": {},
     "output_type": "execute_result"
    }
   ],
   "source": [
    "c1, k1 = enc(p, 5)\n",
    "c2, k2 = enc(p, 6)\n",
    "c_sum = plusFE(p, c1, c2)\n",
    "k_sum = plusFE(p, k1, k2)\n",
    "dec(p, (c_sum, k_sum))"
   ]
  },
  {
   "cell_type": "code",
   "execution_count": 10,
   "metadata": {
    "deletable": false,
    "editable": false,
    "nbgrader": {
     "cell_type": "code",
     "checksum": "7d06eade2a3d585f2accadd0038e1dbc",
     "grade": true,
     "grade_id": "cell-94eb8fd487f35605",
     "locked": true,
     "points": 5,
     "schema_version": 3,
     "solution": false,
     "task": false
    }
   },
   "outputs": [],
   "source": [
    "assert dec(100, enc(100, 5)) == 5\n",
    "assert dec(2, enc(2, 0)) == 0\n",
    "assert dec(2, enc(2, 1)) == 1\n",
    "\n",
    "c, k = enc(100, 5)\n",
    "assert dec(100, (c + 10, k)) == 15"
   ]
  },
  {
   "cell_type": "code",
   "execution_count": 15,
   "metadata": {},
   "outputs": [
    {
     "data": {
      "text/plain": [
       "(array([66., 58., 69., 49., 72., 54., 55., 65., 70., 66., 50., 58., 58.,\n",
       "        42., 62., 56., 50.]),\n",
       " array([ 0.        ,  0.94117647,  1.88235294,  2.82352941,  3.76470588,\n",
       "         4.70588235,  5.64705882,  6.58823529,  7.52941176,  8.47058824,\n",
       "         9.41176471, 10.35294118, 11.29411765, 12.23529412, 13.17647059,\n",
       "        14.11764706, 15.05882353, 16.        ]),\n",
       " <BarContainer object of 17 artists>)"
      ]
     },
     "execution_count": 15,
     "metadata": {},
     "output_type": "execute_result"
    },
    {
     "data": {
      "image/png": "[encoded data removed]",
      "text/plain": [
       "<Figure size 640x480 with 1 Axes>"
      ]
     },
     "metadata": {},
     "output_type": "display_data"
    }
   ],
   "source": [
    "r = [enc(17, 10)[0] for _ in range(1000)]\n",
    "plt.hist(r, bins=17)"
   ]
  },
  {
   "cell_type": "markdown",
   "metadata": {},
   "source": [
    "## Question 6\n",
    "\n",
    "Write a function `share` that generates $n$ additive secret shares from a single field element $x \\in GF(p)$."
   ]
  },
  {
   "cell_type": "code",
   "execution_count": 42,
   "metadata": {
    "deletable": false,
    "nbgrader": {
     "cell_type": "code",
     "checksum": "c1b83394b39599d5996094473668f46b",
     "grade": false,
     "grade_id": "cell-fcf3600eacf9c717",
     "locked": false,
     "schema_version": 3,
     "solution": true,
     "task": false
    }
   },
   "outputs": [
    {
     "data": {
      "text/plain": [
       "35"
      ]
     },
     "execution_count": 42,
     "metadata": {},
     "output_type": "execute_result"
    }
   ],
   "source": [
    "def sumFE(p, xs):\n",
    "    total = 0\n",
    "    for x in xs:\n",
    "        total = plusFE(p, x, total)\n",
    "    return total\n",
    "\n",
    "def share(p, n, x):\n",
    "    # want to construct n secret shares from x\n",
    "    # such that I can reconstruct x if I have all n shares\n",
    "    # but I learn nothing if I have fewer than n shares\n",
    "\n",
    "    # want to ensure that if we add up all the shares, we get x\n",
    "    # generate n-1 random shares\n",
    "    # the nth share is x - sum(other shares)\n",
    "    # (x-sum(other shares)) + sum(other shares)\n",
    "    shares = [np.random.randint(0, p) for _ in range(n-1)]\n",
    "    last_share = plusFE(p, x, - sumFE(p, shares))\n",
    "    shares.append(last_share)\n",
    "    return shares\n",
    "sumFE(p, share(p, 5, 10))\n",
    "d1 = 10\n",
    "d2 = 25\n",
    "sA1, sB1 = share(p, 2, d1)\n",
    "sA2, sB2 = share(p, 2, d2)\n",
    "c1 = plusFE(p, a1, b1)\n",
    "c2 = plusFE(p, a2, b2)\n",
    "plusFE(p, c1, c2)\n",
    "sumFE(p, [a1, a2, b1, b2])"
   ]
  },
  {
   "cell_type": "code",
   "execution_count": 34,
   "metadata": {
    "deletable": false,
    "editable": false,
    "nbgrader": {
     "cell_type": "code",
     "checksum": "ac1df6e2d5f0d83b42b277ca50d55b63",
     "grade": true,
     "grade_id": "cell-79cd6b0e56a18701",
     "locked": true,
     "points": 5,
     "schema_version": 3,
     "solution": false,
     "task": false
    }
   },
   "outputs": [],
   "source": [
    "assert sumFE(100, share(100, 2, 5)) == 5\n",
    "assert sumFE(2, share(2, 5, 1)) == 1\n",
    "assert sumFE(2, share(2, 5, 0)) == 0\n",
    "assert sumFE(2, share(2, 50, 1)) == 1"
   ]
  },
  {
   "cell_type": "code",
   "execution_count": null,
   "metadata": {},
   "outputs": [],
   "source": [
    "# Example\n",
    "print(share(100, 2, 5))\n",
    "print(share(2, 5, 1))"
   ]
  }
 ],
 "metadata": {
  "kernelspec": {
   "display_name": "Python 3 (ipykernel)",
   "language": "python",
   "name": "python3"
  },
  "language_info": {
   "codemirror_mode": {
    "name": "ipython",
    "version": 3
   },
   "file_extension": ".py",
   "mimetype": "text/x-python",
   "name": "python",
   "nbconvert_exporter": "python",
   "pygments_lexer": "ipython3",
   "version": "3.10.11"
  }
 },
 "nbformat": 4,
 "nbformat_minor": 4
}
