{
 "cells": [
  {
   "cell_type": "markdown",
   "metadata": {},
   "source": [
    "# CS 3990/5990: Secure Distributed Computation\n",
    "## In-Class Exercise, week of 9/25/2023"
   ]
  },
  {
   "cell_type": "code",
   "execution_count": null,
   "metadata": {},
   "outputs": [],
   "source": [
    "# For later this week:\n",
    "from nacl.public import PrivateKey, Box, SealedBox\n",
    "\n",
    "# PyNaCl is a library for (traditional) encryption\n",
    "# It is easiest to install using: `conda install pynacl`\n",
    "# It can also be installed using: `pip install pynacl`\n",
    "# but the conda version is more likely to work cleanly.\n",
    "# See documentation here: https://pynacl.readthedocs.io/en/latest/"
   ]
  },
  {
   "cell_type": "code",
   "execution_count": null,
   "metadata": {},
   "outputs": [],
   "source": [
    "# Imports and definitions\n",
    "import numpy as np\n",
    "from collections import defaultdict\n",
    "import numpy as np\n",
    "import galois\n",
    "GF = galois.GF(2**13 - 1)\n",
    "\n",
    "# Library for circuits\n",
    "from dataclasses import dataclass\n",
    "\n",
    "@dataclass\n",
    "class Gate:\n",
    "    type: str\n",
    "    in1: int\n",
    "    in2: int\n",
    "    out: int\n",
    "\n",
    "@dataclass\n",
    "class Circuit:\n",
    "    inputs: any\n",
    "    outputs: any\n",
    "    gates: any\n",
    "        \n",
    "def print_circuit(c):\n",
    "    print('inputs:', c.inputs)\n",
    "    print('outputs:', c.outputs)\n",
    "    print('gates:')\n",
    "    for g in c.gates:\n",
    "        print('  ', g)"
   ]
  },
  {
   "cell_type": "markdown",
   "metadata": {},
   "source": [
    "## Party Class and Shamir sharing"
   ]
  },
  {
   "cell_type": "code",
   "execution_count": null,
   "metadata": {},
   "outputs": [],
   "source": [
    "class Party:\n",
    "    \"\"\"A participant in a multiparty computation protocol.\"\"\"\n",
    "    def __init__(self):\n",
    "        \"\"\"Initialize the field size and dictionary to hold received messages.\"\"\"\n",
    "        self.input = None\n",
    "        self.output = None\n",
    "        self.received = defaultdict(list)\n",
    "    \n",
    "    def send(self, other, round, msg):\n",
    "        \"\"\"Simulate sending a message `msg` to another party `other` during round `round`\"\"\"\n",
    "        other.received[round].append(msg)\n",
    "\n",
    "    def get_view(self):\n",
    "        \"\"\"Returns the view of this party: its input, output, and received messages.\"\"\"\n",
    "        return (self.input, self.output, dict(self.received))\n",
    "\n",
    "# Generate Shamir shares for secret v with threshold t and number of shares n\n",
    "def shamir_share(v, t, n):\n",
    "    coefficients = GF([GF.Random() for _ in range(t-1)] + [v])\n",
    "    poly = galois.Poly(coefficients)\n",
    "    shares = [(GF(x), poly(GF(x))) for x in range(1, n+1)]\n",
    "    return shares\n",
    "\n",
    "# Reconstruct the secret from at least t Shamir shares\n",
    "def reconstruct(shares):\n",
    "    xs = GF([s[0] for s in shares])\n",
    "    ys = GF([s[1] for s in shares])\n",
    "    poly = galois.lagrange_poly(xs, ys)\n",
    "    #print(poly)\n",
    "    secret = poly(0)\n",
    "    \n",
    "    return secret"
   ]
  },
  {
   "cell_type": "markdown",
   "metadata": {},
   "source": [
    "# Circuits\n",
    "\n",
    "- Overview of the BGW protocol: [Pragmatic MPC, Section 3.3](https://securecomputation.org/docs/pragmaticmpc.pdf)\n",
    "- Vandermonde Matrices for polynomial evaluation: [Asharov & Lindell, 2011, Section 3.3, Definition 3.6](https://eprint.iacr.org/2011/136.pdf)\n",
    "- Formal protocol description (GRR protocol): [Lindell & Nof, 2017, Appendix B.3 (Protocol B.3)](https://eprint.iacr.org/2017/816.pdf)"
   ]
  },
  {
   "cell_type": "markdown",
   "metadata": {},
   "source": [
    "## Question 1\n",
    "\n",
    "Write a function `sum_circuit` that builds an arithmetic circuit for summing up a set of `n` inputs."
   ]
  },
  {
   "cell_type": "code",
   "execution_count": null,
   "metadata": {
    "deletable": false,
    "nbgrader": {
     "cell_type": "code",
     "checksum": "7b4c9a3e0b8f389c42ca1f5ffd42277a",
     "grade": false,
     "grade_id": "cell-df91e375c98fd148",
     "locked": false,
     "schema_version": 3,
     "solution": true,
     "task": false
    }
   },
   "outputs": [],
   "source": [
    "def sum_circuit(n):\n",
    "    # YOUR CODE HERE\n",
    "    raise NotImplementedError()"
   ]
  },
  {
   "cell_type": "code",
   "execution_count": null,
   "metadata": {},
   "outputs": [],
   "source": [
    "print_circuit(sum_circuit(4))"
   ]
  },
  {
   "cell_type": "code",
   "execution_count": null,
   "metadata": {
    "deletable": false,
    "editable": false,
    "nbgrader": {
     "cell_type": "code",
     "checksum": "21cca98c085b23eeb3cd39de7d5a266c",
     "grade": true,
     "grade_id": "cell-4694c53c288d45f2",
     "locked": true,
     "points": 5,
     "schema_version": 3,
     "solution": false,
     "task": false
    }
   },
   "outputs": [],
   "source": [
    "# TEST CASE\n",
    "\n",
    "assert sum_circuit(2) == \\\n",
    "  Circuit(inputs=[0, 1], outputs=[3], gates=[Gate(type='ADD', in1=0, in2=1, out=3)])"
   ]
  },
  {
   "cell_type": "code",
   "execution_count": null,
   "metadata": {},
   "outputs": [],
   "source": [
    "import urllib.request\n",
    "adder_url = \"https://homes.esat.kuleuven.be/~nsmart/MPC/adder64.txt\"\n",
    "adder_txt = urllib.request.urlopen(adder_url).read().decode(\"utf-8\")"
   ]
  },
  {
   "cell_type": "code",
   "execution_count": null,
   "metadata": {},
   "outputs": [],
   "source": [
    "# Parse a circuit from a Bristol-Fashion specification\n",
    "def parse_circuit(bristol_fashion_text):\n",
    "    lines = [l.strip() for l in bristol_fashion_text.split('\\n') if l != '']\n",
    "    total_wires = int(lines[0].split(' ')[1])\n",
    "    inputs = lines[1]\n",
    "    outputs = lines[2]\n",
    "    gates_txt = lines[3:]\n",
    "    gates = []\n",
    "    \n",
    "    # parse the gates\n",
    "    for g_txt in gates_txt:\n",
    "        sp = g_txt.split(' ')\n",
    "        gate_type = sp[-1]\n",
    "        if gate_type in ['XOR', 'AND']:\n",
    "            _, _, in1, in2, out, typ = g_txt.split(' ')\n",
    "        elif gate_type == 'INV':\n",
    "            _, _, in1, out, typ = g_txt.split(' ')\n",
    "            in2 = -1\n",
    "        else:\n",
    "            raise RuntimeError('unknown gate type:', gate_type)\n",
    "        gates.append(Gate(typ, int(in1), int(in2), int(out)))\n",
    "    \n",
    "    ins = inputs.split(' ')\n",
    "    num_inputs = int(ins[0])\n",
    "    \n",
    "    # generate the bundles of input wires\n",
    "    w = 0\n",
    "    input_bundle_sizes = [int(x) for x in inputs.split(' ')[1:]]\n",
    "    inputs = []\n",
    "    for bundle_size in ins[1:]:\n",
    "        inputs.append(list(range(w, w+int(bundle_size))))\n",
    "        w += int(bundle_size)\n",
    "\n",
    "    # generate the bundles of output wires\n",
    "    output_bundle_sizes = [int(x) for x in outputs.split(' ')[1:]]\n",
    "    total_output_wires = sum(output_bundle_sizes)\n",
    "    w = total_wires - total_output_wires\n",
    "    outputs = []\n",
    "    for bundle_size in output_bundle_sizes:\n",
    "        outputs.append(list(range(w, w+int(bundle_size))))\n",
    "        w += int(bundle_size)\n",
    "    \n",
    "    return Circuit(inputs, outputs, gates)"
   ]
  },
  {
   "cell_type": "code",
   "execution_count": null,
   "metadata": {},
   "outputs": [],
   "source": [
    "print_circuit(parse_circuit(adder_txt))"
   ]
  },
  {
   "cell_type": "markdown",
   "metadata": {},
   "source": [
    "## Question 2\n",
    "\n",
    "Implement a function `eval_circuit` for evaluating circuits."
   ]
  },
  {
   "cell_type": "code",
   "execution_count": null,
   "metadata": {
    "deletable": false,
    "nbgrader": {
     "cell_type": "code",
     "checksum": "80ffbaf8ce402cc193c149246e5cc88d",
     "grade": false,
     "grade_id": "cell-7284d4d25dfd3521",
     "locked": false,
     "schema_version": 3,
     "solution": true,
     "task": false
    }
   },
   "outputs": [],
   "source": [
    "def int_to_bitstring(i, n):\n",
    "    return [int(x) for x in list(reversed('{0:0b}'.format(i).zfill(n)))]\n",
    "\n",
    "def bitstring_to_int(bs):\n",
    "    return sum([x*(2**i) for i, x in enumerate(bs)])\n",
    "\n",
    "def eval_circuit(inputs, circuit):\n",
    "    # YOUR CODE HERE\n",
    "    raise NotImplementedError()"
   ]
  },
  {
   "cell_type": "code",
   "execution_count": null,
   "metadata": {
    "deletable": false,
    "editable": false,
    "nbgrader": {
     "cell_type": "code",
     "checksum": "54458f6db05efb851cc3ac654283e1dd",
     "grade": true,
     "grade_id": "cell-de3b8592144ad435",
     "locked": true,
     "points": 5,
     "schema_version": 3,
     "solution": false,
     "task": false
    }
   },
   "outputs": [],
   "source": [
    "# TEST CASE\n",
    "# Example: 5 + 6 = 11\n",
    "circuit = parse_circuit(adder_txt)\n",
    "inputs = [int_to_bitstring(5, 64), int_to_bitstring(6, 64)]\n",
    "outputs = eval_circuit(inputs, parse_circuit(adder_txt))\n",
    "assert [bitstring_to_int(b) for b in outputs] == [11]"
   ]
  },
  {
   "cell_type": "code",
   "execution_count": null,
   "metadata": {},
   "outputs": [],
   "source": [
    "sha256_url = \"https://homes.esat.kuleuven.be/~nsmart/MPC/sha256.txt\"\n",
    "sha256_txt = urllib.request.urlopen(sha256_url).read().decode(\"utf-8\")\n",
    "\n",
    "sha256_circuit = parse_circuit(sha256_txt)"
   ]
  },
  {
   "cell_type": "code",
   "execution_count": null,
   "metadata": {},
   "outputs": [],
   "source": [
    "# Example: SHA256 hash of a bunch of 1s\n",
    "test_inputs = [[1 for x in y] for y in sha256_circuit.inputs]\n",
    "outputs = eval_circuit(test_inputs, sha256_circuit)\n",
    "bitstring_to_int(outputs[0])"
   ]
  },
  {
   "cell_type": "markdown",
   "metadata": {},
   "source": [
    "## Question 3\n",
    "\n",
    "Sketch the BGW protocol for evaluating an arithmetic or boolean circuit with $n$ parties."
   ]
  },
  {
   "cell_type": "markdown",
   "metadata": {
    "deletable": false,
    "nbgrader": {
     "cell_type": "markdown",
     "checksum": "f7e95bebf9a4b39541e1098c9213a047",
     "grade": true,
     "grade_id": "cell-179ac605162b991c",
     "locked": false,
     "points": 5,
     "schema_version": 3,
     "solution": true,
     "task": false
    }
   },
   "source": [
    "YOUR ANSWER HERE"
   ]
  },
  {
   "cell_type": "markdown",
   "metadata": {},
   "source": [
    "## Question 4\n",
    "\n",
    "Implement the BGW protocol."
   ]
  },
  {
   "cell_type": "code",
   "execution_count": null,
   "metadata": {
    "deletable": false,
    "nbgrader": {
     "cell_type": "code",
     "checksum": "a09115ff7d233dcbaf3807d915a5ef9a",
     "grade": false,
     "grade_id": "cell-63e1be5f60698726",
     "locked": false,
     "schema_version": 3,
     "solution": true,
     "task": false
    }
   },
   "outputs": [],
   "source": [
    "class BGWParty(Party):\n",
    "    def round1(self, parties, circuit, my_inputs):\n",
    "        self.parties = parties\n",
    "        self.is_done = False\n",
    "        self.circuit = circuit\n",
    "        n = len(parties)\n",
    "        t = int(n/2)\n",
    "        \n",
    "        # YOUR CODE HERE\n",
    "        raise NotImplementedError()\n",
    "\n",
    "    def round2(self, my_id):\n",
    "        self.wire_vals = {}\n",
    "\n",
    "        # YOUR CODE HERE\n",
    "        raise NotImplementedError()\n",
    "\n",
    "    def roundn(self, round_num):\n",
    "        n = len(self.parties)\n",
    "        t = int(n/2)\n",
    "        \n",
    "        # YOUR CODE HERE\n",
    "        raise NotImplementedError()"
   ]
  },
  {
   "cell_type": "code",
   "execution_count": null,
   "metadata": {},
   "outputs": [],
   "source": [
    "def run_bgw_protocol():\n",
    "    NUM_PARTIES = 6\n",
    "    n = NUM_PARTIES\n",
    "    \n",
    "    circuit = sum_sq_circuit(6)\n",
    "    \n",
    "    inputs = [[i] for i in range(6)]\n",
    "    print('Inputs:', inputs)\n",
    "    parties = [BGWParty() for _ in range(NUM_PARTIES)]\n",
    "    \n",
    "    for p, i in zip(parties, inputs):\n",
    "        p.round1(parties, circuit, i)\n",
    "    for p in parties:\n",
    "        p.round2(parties)\n",
    "    round_num = 3\n",
    "\n",
    "    while not parties[0].is_done:\n",
    "        for p in parties:\n",
    "            p.roundn(round_num)       \n",
    "        round_num += 1\n",
    "        \n",
    "    for p in parties:\n",
    "        print('Output:', p.output)\n",
    "\n",
    "    outputs = [p.output for p in parties]\n",
    "    return outputs"
   ]
  },
  {
   "cell_type": "code",
   "execution_count": null,
   "metadata": {
    "deletable": false,
    "editable": false,
    "nbgrader": {
     "cell_type": "code",
     "checksum": "7db1cd347faeb1923a550b56c4ffac1e",
     "grade": true,
     "grade_id": "cell-a4c2730dd690b6d5",
     "locked": true,
     "points": 5,
     "schema_version": 3,
     "solution": false,
     "task": false
    }
   },
   "outputs": [],
   "source": [
    "# TEST CASE\n",
    "outputs = run_bgw_protocol()\n",
    "for o in outputs:\n",
    "    assert o == [GF(15), GF(225)]"
   ]
  },
  {
   "cell_type": "markdown",
   "metadata": {},
   "source": [
    "## Question 5\n",
    "\n",
    "Describe the 1-out-of-2 *oblivious transfer* (OT) protocol. Reference Section 3.7 in Pragmatic MPC."
   ]
  },
  {
   "cell_type": "markdown",
   "metadata": {
    "deletable": false,
    "nbgrader": {
     "cell_type": "markdown",
     "checksum": "9b7cd57bc761bb6c61d8eed21c02674a",
     "grade": true,
     "grade_id": "cell-ab7252ab9d473712",
     "locked": false,
     "points": 5,
     "schema_version": 3,
     "solution": true,
     "task": false
    }
   },
   "source": [
    "YOUR ANSWER HERE"
   ]
  },
  {
   "cell_type": "markdown",
   "metadata": {},
   "source": [
    "## Question 6\n",
    "\n",
    "Why is the oblivious transfer protocol secure against semi-honest adversaries? Why is it not secure against malicious adversaries?"
   ]
  },
  {
   "cell_type": "markdown",
   "metadata": {
    "deletable": false,
    "nbgrader": {
     "cell_type": "markdown",
     "checksum": "3c93044d2417974e1ce80034d57fdab0",
     "grade": true,
     "grade_id": "cell-56f846b72270e760",
     "locked": false,
     "points": 5,
     "schema_version": 3,
     "solution": true,
     "task": false
    }
   },
   "source": [
    "YOUR ANSWER HERE"
   ]
  },
  {
   "cell_type": "markdown",
   "metadata": {},
   "source": [
    "## Question 7\n",
    "\n",
    "Implement 1-out-of-2 OT."
   ]
  },
  {
   "cell_type": "code",
   "execution_count": null,
   "metadata": {
    "deletable": false,
    "nbgrader": {
     "cell_type": "code",
     "checksum": "1a63dadcaf8f787571990ca810b3b0c8",
     "grade": false,
     "grade_id": "cell-1804b306c9f5b962",
     "locked": false,
     "schema_version": 3,
     "solution": true,
     "task": false
    }
   },
   "outputs": [],
   "source": [
    "class OT_Sender(Party):\n",
    "    # x1 and x2 are the secrets\n",
    "    def round1(self, x1, x2, receiver):\n",
    "        self.x1 = x1\n",
    "        self.x2 = x2\n",
    "        self.receiver = receiver\n",
    "\n",
    "    def round2(self):\n",
    "        # YOUR CODE HERE\n",
    "        raise NotImplementedError()\n",
    "    \n",
    "    def round3(self):\n",
    "        pass\n",
    "\n",
    "class OT_Receiver(Party):\n",
    "    def round1(self, b, sender):\n",
    "        self.sender = sender\n",
    "        self.b = b\n",
    "        # YOUR CODE HERE\n",
    "        raise NotImplementedError()\n",
    "    \n",
    "    def round2(self):\n",
    "        pass\n",
    "    \n",
    "    def round3(self):\n",
    "        # YOUR CODE HERE\n",
    "        raise NotImplementedError()"
   ]
  },
  {
   "cell_type": "code",
   "execution_count": null,
   "metadata": {
    "deletable": false,
    "editable": false,
    "nbgrader": {
     "cell_type": "code",
     "checksum": "8b063733cf6cc464890ffef078e583e3",
     "grade": true,
     "grade_id": "cell-0228c49e37ea5d20",
     "locked": true,
     "points": 5,
     "schema_version": 3,
     "solution": false,
     "task": false
    }
   },
   "outputs": [],
   "source": [
    "# TEST CASE\n",
    "GF_2 = galois.GF(2)\n",
    "\n",
    "sender = OT_Sender()\n",
    "receiver = OT_Receiver()\n",
    "\n",
    "# Round 1\n",
    "sender.round1(GF_2(0), GF_2(1), receiver)\n",
    "receiver.round1(GF_2(1), sender)\n",
    "\n",
    "# Round 2\n",
    "sender.round2()\n",
    "receiver.round2()\n",
    "\n",
    "# Round 3\n",
    "sender.round3()\n",
    "output = receiver.round3()\n",
    "\n",
    "print(\"Receiver's output:\", output)\n",
    "assert output == 1"
   ]
  },
  {
   "cell_type": "markdown",
   "metadata": {},
   "source": [
    "## Question 8\n",
    "\n",
    "Describe 1-out-of-4 OT."
   ]
  },
  {
   "cell_type": "markdown",
   "metadata": {
    "deletable": false,
    "nbgrader": {
     "cell_type": "markdown",
     "checksum": "52270589cfe55c2364894d193e53c338",
     "grade": true,
     "grade_id": "cell-160870ed747f99e7",
     "locked": false,
     "points": 5,
     "schema_version": 3,
     "solution": true,
     "task": false
    }
   },
   "source": [
    "YOUR ANSWER HERE"
   ]
  },
  {
   "cell_type": "markdown",
   "metadata": {},
   "source": [
    "## Question 9\n",
    "\n",
    "Describe the GMW protocol for evaluating a binary circuit."
   ]
  },
  {
   "cell_type": "markdown",
   "metadata": {
    "deletable": false,
    "nbgrader": {
     "cell_type": "markdown",
     "checksum": "b852276462a613e0ded9f33e2284d5ab",
     "grade": true,
     "grade_id": "cell-b74bf235539d3182",
     "locked": false,
     "points": 5,
     "schema_version": 3,
     "solution": true,
     "task": false
    }
   },
   "source": [
    "YOUR ANSWER HERE"
   ]
  }
 ],
 "metadata": {
  "kernelspec": {
   "display_name": "Python 3 (ipykernel)",
   "language": "python",
   "name": "python3"
  },
  "language_info": {
   "codemirror_mode": {
    "name": "ipython",
    "version": 3
   },
   "file_extension": ".py",
   "mimetype": "text/x-python",
   "name": "python",
   "nbconvert_exporter": "python",
   "pygments_lexer": "ipython3",
   "version": "3.10.12"
  }
 },
 "nbformat": 4,
 "nbformat_minor": 4
}
