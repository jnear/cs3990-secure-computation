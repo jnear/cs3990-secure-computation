{
 "cells": [
  {
   "cell_type": "markdown",
   "metadata": {},
   "source": [
    "# CS295/395: Secure Distributed Computation\n",
    "## In-Class Exercise, week of 10/24/2022"
   ]
  },
  {
   "cell_type": "markdown",
   "metadata": {},
   "source": [
    "## Useful Definitions for FV FHE Scheme\n",
    "\n",
    "Reference: [Somewhat Practical Fully Homomorphic Encryption](https://eprint.iacr.org/2012/144.pdf) (2012)."
   ]
  },
  {
   "cell_type": "code",
   "execution_count": null,
   "metadata": {},
   "outputs": [],
   "source": [
    "import random\n",
    "import numpy as np\n",
    "\n",
    "q = 2**16\n",
    "p = q**3\n",
    "\n",
    "t = 2\n",
    "\n",
    "def noise():\n",
    "    return random.randint(-5, 5) % q"
   ]
  },
  {
   "cell_type": "markdown",
   "metadata": {},
   "source": [
    "## Question 1\n",
    "\n",
    "Implement key generation for the somewhat homomorphic scheme in [FV12]."
   ]
  },
  {
   "cell_type": "code",
   "execution_count": null,
   "metadata": {
    "deletable": false,
    "nbgrader": {
     "cell_type": "code",
     "checksum": "7fb28c15be17761f07a011a35e133202",
     "grade": false,
     "grade_id": "cell-db5837ddd9e3f3dd",
     "locked": false,
     "schema_version": 3,
     "solution": true,
     "task": false
    }
   },
   "outputs": [],
   "source": [
    "def keygen():\n",
    "    # YOUR CODE HERE\n",
    "    raise NotImplementedError()\n",
    "\n",
    "keygen()"
   ]
  },
  {
   "cell_type": "markdown",
   "metadata": {},
   "source": [
    "## Question 2\n",
    "\n",
    "Implement encryption for the somewhat homomorphic scheme from [FV12]."
   ]
  },
  {
   "cell_type": "code",
   "execution_count": null,
   "metadata": {
    "deletable": false,
    "nbgrader": {
     "cell_type": "code",
     "checksum": "772519cd4d91bf72b5518a7e4779c870",
     "grade": false,
     "grade_id": "cell-f9ac89e2e958a188",
     "locked": false,
     "schema_version": 3,
     "solution": true,
     "task": false
    }
   },
   "outputs": [],
   "source": [
    "def encrypt(pk, m):\n",
    "    # YOUR CODE HERE\n",
    "    raise NotImplementedError()"
   ]
  },
  {
   "cell_type": "markdown",
   "metadata": {},
   "source": [
    "## Question 3\n",
    "\n",
    "Implement decryption for the somewhat homomorphic scheme from [FV12]."
   ]
  },
  {
   "cell_type": "code",
   "execution_count": null,
   "metadata": {
    "deletable": false,
    "nbgrader": {
     "cell_type": "code",
     "checksum": "1f1517643bbf37e9a2d8f68df77e138b",
     "grade": false,
     "grade_id": "cell-f8a4f184e804c5fb",
     "locked": false,
     "schema_version": 3,
     "solution": true,
     "task": false
    }
   },
   "outputs": [],
   "source": [
    "def decrypt(sk, ct):\n",
    "    # YOUR CODE HERE\n",
    "    raise NotImplementedError()"
   ]
  },
  {
   "cell_type": "code",
   "execution_count": null,
   "metadata": {
    "deletable": false,
    "editable": false,
    "nbgrader": {
     "cell_type": "code",
     "checksum": "88997f1e45d4d3f1c8dd1bd833bdbc9f",
     "grade": true,
     "grade_id": "cell-b03b8f6f96180d97",
     "locked": true,
     "points": 5,
     "schema_version": 3,
     "solution": false,
     "task": false
    }
   },
   "outputs": [],
   "source": [
    "# TEST CASE\n",
    "sk, pk = keygen()\n",
    "m_orig = 1\n",
    "print('Message:', m_orig)\n",
    "ct = encrypt(pk, m_orig)\n",
    "print('Ciphertext:', ct)\n",
    "m = decrypt(sk, ct)\n",
    "print('Decrypted message:', m)\n",
    "assert m == m_orig"
   ]
  },
  {
   "cell_type": "markdown",
   "metadata": {},
   "source": [
    "## Question 4\n",
    "\n",
    "Implement addition for the somewhat homomorphic scheme of [FV12]."
   ]
  },
  {
   "cell_type": "code",
   "execution_count": null,
   "metadata": {
    "deletable": false,
    "nbgrader": {
     "cell_type": "code",
     "checksum": "353f770eba653d47f31ae3f9db581ed3",
     "grade": false,
     "grade_id": "cell-199cca6c84ee542e",
     "locked": false,
     "schema_version": 3,
     "solution": true,
     "task": false
    }
   },
   "outputs": [],
   "source": [
    "def e_add(ct1, ct2):\n",
    "    # YOUR CODE HERE\n",
    "    raise NotImplementedError()"
   ]
  },
  {
   "cell_type": "code",
   "execution_count": null,
   "metadata": {
    "deletable": false,
    "editable": false,
    "nbgrader": {
     "cell_type": "code",
     "checksum": "30cef19b3cb27e21e832cb1bf449d608",
     "grade": true,
     "grade_id": "cell-02bce19dd026cd5c",
     "locked": true,
     "points": 5,
     "schema_version": 3,
     "solution": false,
     "task": false
    }
   },
   "outputs": [],
   "source": [
    "# TEST CASE\n",
    "sk, pk = keygen()\n",
    "ct1 = encrypt(pk, 1)\n",
    "ct2 = encrypt(pk, 1)\n",
    "ct3 = e_add(ct1, ct2)\n",
    "m = decrypt(sk, ct3)\n",
    "print('Addition result:', m)\n",
    "assert m == 0"
   ]
  },
  {
   "cell_type": "markdown",
   "metadata": {},
   "source": [
    "## Question 5\n",
    "\n",
    "Implement multiplication for the somewhat homomorphic cryptosystem of FV12."
   ]
  },
  {
   "cell_type": "code",
   "execution_count": null,
   "metadata": {
    "deletable": false,
    "nbgrader": {
     "cell_type": "code",
     "checksum": "b12e7e16027db1d0e6dcc39c2d0b6be3",
     "grade": false,
     "grade_id": "cell-f7a1870c97744c01",
     "locked": false,
     "schema_version": 3,
     "solution": true,
     "task": false
    }
   },
   "outputs": [],
   "source": [
    "def eval_keygen(sk):\n",
    "    # YOUR CODE HERE\n",
    "    raise NotImplementedError()\n",
    "\n",
    "def e_mul(ct1, ct2, rlk):\n",
    "    # YOUR CODE HERE\n",
    "    raise NotImplementedError()"
   ]
  },
  {
   "cell_type": "code",
   "execution_count": null,
   "metadata": {
    "deletable": false,
    "editable": false,
    "nbgrader": {
     "cell_type": "code",
     "checksum": "c0631e53673e073f0dc12dd83b194e81",
     "grade": true,
     "grade_id": "cell-f2ff026faaba6ca1",
     "locked": true,
     "points": 5,
     "schema_version": 3,
     "solution": false,
     "task": false
    }
   },
   "outputs": [],
   "source": [
    "# TEST CASE\n",
    "sk, pk = keygen()\n",
    "rlk = eval_keygen(sk)\n",
    "ct1 = encrypt(pk, 1)\n",
    "ct2 = encrypt(pk, 1)\n",
    "ct3 = e_mul(ct1, ct2, rlk)\n",
    "m = decrypt(sk, ct3)\n",
    "print('Multiplication result:', m)\n",
    "assert m == 1"
   ]
  },
  {
   "cell_type": "code",
   "execution_count": null,
   "metadata": {
    "deletable": false,
    "editable": false,
    "nbgrader": {
     "cell_type": "code",
     "checksum": "31d7e0837dbea45535f7045efc429d45",
     "grade": true,
     "grade_id": "cell-a066975f838dbc1c",
     "locked": true,
     "points": 0,
     "schema_version": 3,
     "solution": false,
     "task": false
    }
   },
   "outputs": [],
   "source": [
    "# TEST CASE: How much noise is there?\n",
    "MULTS = 10\n",
    "TRIALS = 100\n",
    "\n",
    "failures = 0\n",
    "for _ in range(TRIALS):\n",
    "    total = encrypt(pk, 1)\n",
    "\n",
    "    for i in range(MULTS):\n",
    "        new_bit = encrypt(pk, 1)\n",
    "        total = e_mul(total, new_bit, rlk)\n",
    "\n",
    "    m = decrypt(sk, total)\n",
    "    if m != 1:\n",
    "        failures += 1\n",
    "print('Percentage failed results:', failures / TRIALS * 100.0)"
   ]
  }
 ],
 "metadata": {
  "kernelspec": {
   "display_name": "Python 3 (ipykernel)",
   "language": "python",
   "name": "python3"
  },
  "language_info": {
   "codemirror_mode": {
    "name": "ipython",
    "version": 3
   },
   "file_extension": ".py",
   "mimetype": "text/x-python",
   "name": "python",
   "nbconvert_exporter": "python",
   "pygments_lexer": "ipython3",
   "version": "3.10.4"
  }
 },
 "nbformat": 4,
 "nbformat_minor": 4
}
