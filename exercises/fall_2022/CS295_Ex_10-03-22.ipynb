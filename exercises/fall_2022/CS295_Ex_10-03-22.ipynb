{
 "cells": [
  {
   "cell_type": "markdown",
   "metadata": {},
   "source": [
    "# CS295/395: Secure Distributed Computation\n",
    "## In-Class Exercise, week of 10/03/2022"
   ]
  },
  {
   "cell_type": "code",
   "execution_count": null,
   "metadata": {},
   "outputs": [],
   "source": [
    "# Imports and definitions\n",
    "import numpy as np\n",
    "from collections import defaultdict\n",
    "import numpy as np\n",
    "import galois\n",
    "\n",
    "from nacl.public import PrivateKey, Box, SealedBox\n",
    "\n",
    "# GF = galois.GF(2**13 - 1)\n",
    "GF_2 = galois.GF(2) # we work in the binary field this week!\n",
    "\n",
    "# Library for circuits\n",
    "from dataclasses import dataclass\n",
    "\n",
    "@dataclass\n",
    "class Gate:\n",
    "    type: str\n",
    "    in1: int\n",
    "    in2: int\n",
    "    out: int\n",
    "\n",
    "@dataclass\n",
    "class Circuit:\n",
    "    inputs: any\n",
    "    outputs: any\n",
    "    gates: any\n",
    "        \n",
    "def print_circuit(c):\n",
    "    print('inputs:', c.inputs)\n",
    "    print('outputs:', c.outputs)\n",
    "    print('gates:')\n",
    "    for g in c.gates:\n",
    "        print('  ', g)"
   ]
  },
  {
   "cell_type": "markdown",
   "metadata": {},
   "source": [
    "## Party Class"
   ]
  },
  {
   "cell_type": "code",
   "execution_count": null,
   "metadata": {},
   "outputs": [],
   "source": [
    "class Party:\n",
    "    \"\"\"A participant in a multiparty computation protocol.\"\"\"\n",
    "    def __init__(self):\n",
    "        \"\"\"Initialize the field size and dictionary to hold received messages.\"\"\"\n",
    "        self.input = None\n",
    "        self.output = None\n",
    "        self.received = defaultdict(list)\n",
    "    \n",
    "    def send(self, other, round, msg):\n",
    "        \"\"\"Simulate sending a message `msg` to another party `other` during round `round`\"\"\"\n",
    "        other.received[round].append(msg)\n",
    "\n",
    "    def get_view(self):\n",
    "        \"\"\"Returns the view of this party: its input, output, and received messages.\"\"\"\n",
    "        return (self.input, self.output, dict(self.received))"
   ]
  },
  {
   "cell_type": "markdown",
   "metadata": {},
   "source": [
    "## Question 1\n",
    "\n",
    "Describe the 1-out-of-2 *oblivious transfer* (OT) protocol. Reference Section 3.7 in Pragmatic MPC."
   ]
  },
  {
   "cell_type": "markdown",
   "metadata": {
    "deletable": false,
    "nbgrader": {
     "cell_type": "markdown",
     "checksum": "9b7cd57bc761bb6c61d8eed21c02674a",
     "grade": true,
     "grade_id": "cell-ab7252ab9d473712",
     "locked": false,
     "points": 5,
     "schema_version": 3,
     "solution": true,
     "task": false
    }
   },
   "source": [
    "YOUR ANSWER HERE"
   ]
  },
  {
   "cell_type": "markdown",
   "metadata": {},
   "source": [
    "## Question 2\n",
    "\n",
    "Why is the oblivious transfer protocol secure against semi-honest adversaries? Why is it not secure against malicious adversaries?"
   ]
  },
  {
   "cell_type": "markdown",
   "metadata": {
    "deletable": false,
    "nbgrader": {
     "cell_type": "markdown",
     "checksum": "3c93044d2417974e1ce80034d57fdab0",
     "grade": true,
     "grade_id": "cell-56f846b72270e760",
     "locked": false,
     "points": 5,
     "schema_version": 3,
     "solution": true,
     "task": false
    }
   },
   "source": [
    "YOUR ANSWER HERE"
   ]
  },
  {
   "cell_type": "markdown",
   "metadata": {},
   "source": [
    "## Question 3\n",
    "\n",
    "Implement 1-out-of-2 OT."
   ]
  },
  {
   "cell_type": "code",
   "execution_count": null,
   "metadata": {
    "deletable": false,
    "nbgrader": {
     "cell_type": "code",
     "checksum": "1a63dadcaf8f787571990ca810b3b0c8",
     "grade": false,
     "grade_id": "cell-1804b306c9f5b962",
     "locked": false,
     "schema_version": 3,
     "solution": true,
     "task": false
    }
   },
   "outputs": [],
   "source": [
    "class OT_Sender(Party):\n",
    "    # x1 and x2 are the secrets\n",
    "    def round1(self, x1, x2, receiver):\n",
    "        self.x1 = x1\n",
    "        self.x2 = x2\n",
    "        self.receiver = receiver\n",
    "\n",
    "    def round2(self):\n",
    "        # YOUR CODE HERE\n",
    "        raise NotImplementedError()\n",
    "    \n",
    "    def round3(self):\n",
    "        pass\n",
    "\n",
    "class OT_Receiver(Party):\n",
    "    def round1(self, b, sender):\n",
    "        self.sender = sender\n",
    "        self.b = b\n",
    "        # YOUR CODE HERE\n",
    "        raise NotImplementedError()\n",
    "    \n",
    "    def round2(self):\n",
    "        pass\n",
    "    \n",
    "    def round3(self):\n",
    "        # YOUR CODE HERE\n",
    "        raise NotImplementedError()"
   ]
  },
  {
   "cell_type": "code",
   "execution_count": null,
   "metadata": {
    "deletable": false,
    "editable": false,
    "nbgrader": {
     "cell_type": "code",
     "checksum": "ff8a12d5138c828d5d9b9257e2949b86",
     "grade": true,
     "grade_id": "cell-0228c49e37ea5d20",
     "locked": true,
     "points": 5,
     "schema_version": 3,
     "solution": false,
     "task": false
    }
   },
   "outputs": [],
   "source": [
    "# TEST CASE\n",
    "sender = OT_Sender()\n",
    "receiver = OT_Receiver()\n",
    "\n",
    "# Round 1\n",
    "sender.round1(GF_2(0), GF_2(1), receiver)\n",
    "receiver.round1(GF_2(1), sender)\n",
    "\n",
    "# Round 2\n",
    "sender.round2()\n",
    "receiver.round2()\n",
    "\n",
    "# Round 3\n",
    "sender.round3()\n",
    "output = receiver.round3()\n",
    "\n",
    "print(\"Receiver's output:\", output)\n",
    "assert output == 1"
   ]
  },
  {
   "cell_type": "markdown",
   "metadata": {},
   "source": [
    "## Question 4\n",
    "\n",
    "Describe 1-out-of-4 OT."
   ]
  },
  {
   "cell_type": "markdown",
   "metadata": {
    "deletable": false,
    "nbgrader": {
     "cell_type": "markdown",
     "checksum": "52270589cfe55c2364894d193e53c338",
     "grade": true,
     "grade_id": "cell-160870ed747f99e7",
     "locked": false,
     "points": 5,
     "schema_version": 3,
     "solution": true,
     "task": false
    }
   },
   "source": [
    "YOUR ANSWER HERE"
   ]
  },
  {
   "cell_type": "markdown",
   "metadata": {},
   "source": [
    "## Question 5\n",
    "\n",
    "Describe a method for evaluating an `AND` gate using 1-out-of-4 OT on additive-secret-shared inputs."
   ]
  },
  {
   "cell_type": "markdown",
   "metadata": {
    "deletable": false,
    "nbgrader": {
     "cell_type": "markdown",
     "checksum": "4c5d4aac1b715cd41f0ddc36580e868b",
     "grade": true,
     "grade_id": "cell-8d6663d6ef6c33ce",
     "locked": false,
     "points": 5,
     "schema_version": 3,
     "solution": true,
     "task": false
    }
   },
   "source": [
    "YOUR ANSWER HERE"
   ]
  },
  {
   "cell_type": "markdown",
   "metadata": {},
   "source": [
    "## Question 6\n",
    "\n",
    "Implement the function $T_G$ that computes the truth table for an `AND` gate with input wires $i$ and $j$ based on input shares of P1 and P2 and output share $r$ for P1."
   ]
  },
  {
   "cell_type": "code",
   "execution_count": null,
   "metadata": {
    "deletable": false,
    "nbgrader": {
     "cell_type": "code",
     "checksum": "b1176cfd97b34b85f68cd2ceffd64719",
     "grade": false,
     "grade_id": "cell-be7d30c983fc3dd1",
     "locked": false,
     "schema_version": 3,
     "solution": true,
     "task": false
    }
   },
   "outputs": [],
   "source": [
    "# P1 holds shares s1_*\n",
    "# P2 holds shares s2_*\n",
    "def S(s1_i, s1_j, s2_i, s2_j):\n",
    "    return (s1_i + s2_i) * (s1_j + s2_j)\n",
    "\n",
    "# P1 holds shares s1_*\n",
    "# P1 generates a random output share r\n",
    "def T_G(r, s1_i, s1_j):\n",
    "    # YOUR CODE HERE\n",
    "    raise NotImplementedError()\n",
    "\n",
    "T_G(GF_2(0), GF_2(1), GF_2(0))"
   ]
  },
  {
   "cell_type": "code",
   "execution_count": null,
   "metadata": {
    "deletable": false,
    "editable": false,
    "nbgrader": {
     "cell_type": "code",
     "checksum": "648ff2180ce750923e3937ca7419ecc0",
     "grade": true,
     "grade_id": "cell-578af5379b6ccd43",
     "locked": true,
     "points": 5,
     "schema_version": 3,
     "solution": false,
     "task": false
    }
   },
   "outputs": [],
   "source": [
    "# TEST CASE\n",
    "s1_i, s1_j, s2_i, s2_j = GF_2([0, 1, 1, 0])\n",
    "row_num = 2 # because of the position of (1, 0) in the table computed by T_G\n",
    "for _ in range(10): # try it 10 times, to account for randomness\n",
    "    r = GF_2.Random()\n",
    "    table = T_G(r, s1_i, s1_j)\n",
    "    p2_share = table[row_num]\n",
    "    output_result = r + p2_share\n",
    "    assert output_result == GF_2(1)"
   ]
  },
  {
   "cell_type": "markdown",
   "metadata": {},
   "source": [
    "## Question 7\n",
    "\n",
    "Implement the `AND` gate protocol from above."
   ]
  },
  {
   "cell_type": "code",
   "execution_count": null,
   "metadata": {
    "deletable": false,
    "nbgrader": {
     "cell_type": "code",
     "checksum": "d4763ef6fafbb01c4e47903bdb3edce6",
     "grade": false,
     "grade_id": "cell-e4f3af39a6f8fe28",
     "locked": false,
     "schema_version": 3,
     "solution": true,
     "task": false
    }
   },
   "outputs": [],
   "source": [
    "class AND_P1(Party):\n",
    "    # x1 and x2 are the secrets\n",
    "    def round1(self, s1_i, s1_j, p2):\n",
    "        self.s1_i = s1_i\n",
    "        self.s1_j = s1_j\n",
    "        self.p2 = p2\n",
    "\n",
    "    def round2(self):\n",
    "        # YOUR CODE HERE\n",
    "        raise NotImplementedError()\n",
    "    \n",
    "    def round3(self):\n",
    "        return self.output\n",
    "\n",
    "class AND_P2(Party):\n",
    "    def round1(self, s2_i, s2_j, p1):\n",
    "        self.p1 = p1\n",
    "        # YOUR CODE HERE\n",
    "        raise NotImplementedError()\n",
    "    \n",
    "    def round2(self):\n",
    "        pass\n",
    "    \n",
    "    def round3(self):\n",
    "        # YOUR CODE HERE\n",
    "        raise NotImplementedError()"
   ]
  },
  {
   "cell_type": "code",
   "execution_count": null,
   "metadata": {
    "deletable": false,
    "editable": false,
    "nbgrader": {
     "cell_type": "code",
     "checksum": "259864cc1758ab7774df520ac0b1837a",
     "grade": true,
     "grade_id": "cell-39115b567b872cd6",
     "locked": true,
     "points": 5,
     "schema_version": 3,
     "solution": false,
     "task": false
    }
   },
   "outputs": [],
   "source": [
    "# TEST CASE\n",
    "\n",
    "for _ in range(5): # try it a few times\n",
    "    p1 = AND_P1()\n",
    "    p2 = AND_P2()\n",
    "    s1_i, s1_j, s2_i, s2_j = GF_2([0, 1, 1, 0])\n",
    "\n",
    "    # Round 1\n",
    "    p1.round1(s1_i, s1_j, p2)\n",
    "    p2.round1(s2_i, s2_j, p1)\n",
    "\n",
    "    # Round 2\n",
    "    p1.round2()\n",
    "    p2.round2()\n",
    "\n",
    "    # Round 3\n",
    "    output_share1 = p1.round3()\n",
    "    output_share2 = p2.round3()\n",
    "\n",
    "    print(\"P1's output:\", output_share1)\n",
    "    print(\"P2's output:\", output_share2)\n",
    "    assert output_share1 + output_share2 == 1"
   ]
  },
  {
   "cell_type": "markdown",
   "metadata": {},
   "source": [
    "## Question 8\n",
    "\n",
    "Describe the GMW protocol for evaluating a binary circuit."
   ]
  },
  {
   "cell_type": "markdown",
   "metadata": {
    "deletable": false,
    "nbgrader": {
     "cell_type": "markdown",
     "checksum": "b852276462a613e0ded9f33e2284d5ab",
     "grade": true,
     "grade_id": "cell-b74bf235539d3182",
     "locked": false,
     "points": 5,
     "schema_version": 3,
     "solution": true,
     "task": false
    }
   },
   "source": [
    "YOUR ANSWER HERE"
   ]
  },
  {
   "cell_type": "markdown",
   "metadata": {},
   "source": [
    "## Question 9\n",
    "\n",
    "Describe the main idea behind Yao's garbled circuit protocol."
   ]
  },
  {
   "cell_type": "markdown",
   "metadata": {
    "deletable": false,
    "nbgrader": {
     "cell_type": "markdown",
     "checksum": "a71df5c8bd7c7968dd00219922e5bd1e",
     "grade": true,
     "grade_id": "cell-5823e1abb2be85a3",
     "locked": false,
     "points": 5,
     "schema_version": 3,
     "solution": true,
     "task": false
    }
   },
   "source": [
    "YOUR ANSWER HERE"
   ]
  },
  {
   "cell_type": "markdown",
   "metadata": {},
   "source": [
    "## Question 10\n",
    "\n",
    "What are the primary advantages and disadvantages of Yao's garbled circuit protocol?"
   ]
  },
  {
   "cell_type": "markdown",
   "metadata": {
    "deletable": false,
    "nbgrader": {
     "cell_type": "markdown",
     "checksum": "a4838b1dc6d0e8d6608bb07042c4ed8f",
     "grade": true,
     "grade_id": "cell-ae2c4c602f1e12d6",
     "locked": false,
     "points": 5,
     "schema_version": 3,
     "solution": true,
     "task": false
    }
   },
   "source": [
    "YOUR ANSWER HERE"
   ]
  }
 ],
 "metadata": {
  "kernelspec": {
   "display_name": "Python 3 (ipykernel)",
   "language": "python",
   "name": "python3"
  },
  "language_info": {
   "codemirror_mode": {
    "name": "ipython",
    "version": 3
   },
   "file_extension": ".py",
   "mimetype": "text/x-python",
   "name": "python",
   "nbconvert_exporter": "python",
   "pygments_lexer": "ipython3",
   "version": "3.10.4"
  }
 },
 "nbformat": 4,
 "nbformat_minor": 4
}
