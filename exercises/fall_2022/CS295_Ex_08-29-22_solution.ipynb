{
 "cells": [
  {
   "cell_type": "markdown",
   "metadata": {},
   "source": [
    "# CS295/395: Secure Distributed Computation\n",
    "## In-Class Exercise, Week of 8/29/2022"
   ]
  },
  {
   "cell_type": "markdown",
   "metadata": {},
   "source": [
    "# Question 1\n",
    "\n",
    "Write functions `enc` and `dec` for an additively homomorphic cryptosystem over the integers."
   ]
  },
  {
   "cell_type": "code",
   "execution_count": 2,
   "metadata": {
    "deletable": false,
    "nbgrader": {
     "cell_type": "code",
     "checksum": "b90a7e981b86dfa5ce956fb09df5fb85",
     "grade": false,
     "grade_id": "cell-16a7ad376675c884",
     "locked": false,
     "schema_version": 3,
     "solution": true,
     "task": false
    }
   },
   "outputs": [],
   "source": [
    "import numpy as np\n",
    "\n",
    "def enc(x):\n",
    "    assert x < (2**31) - 1\n",
    "    k = np.random.randint(0, (2**31)-1)\n",
    "    ciphertext = (x + k) % ((2**31)-1)\n",
    "    return ciphertext, k\n",
    "\n",
    "def dec(pair):\n",
    "    c, k = pair\n",
    "    plaintext = (c - k) % ((2**31)-1)\n",
    "    return plaintext"
   ]
  },
  {
   "cell_type": "code",
   "execution_count": 3,
   "metadata": {},
   "outputs": [
    {
     "data": {
      "text/plain": [
       "9"
      ]
     },
     "execution_count": 3,
     "metadata": {},
     "output_type": "execute_result"
    }
   ],
   "source": [
    "#dec(enc(2**32))\n",
    "dec(enc(9))"
   ]
  },
  {
   "cell_type": "code",
   "execution_count": 4,
   "metadata": {},
   "outputs": [],
   "source": [
    "import matplotlib.pyplot as plt"
   ]
  },
  {
   "cell_type": "code",
   "execution_count": 5,
   "metadata": {},
   "outputs": [
    {
     "data": {
      "image/png": "[encoded data removed]",
      "text/plain": [
       "<Figure size 432x288 with 1 Axes>"
      ]
     },
     "metadata": {
      "needs_background": "light"
     },
     "output_type": "display_data"
    }
   ],
   "source": [
    "results = [enc(9)[0] for _ in range(1000)]\n",
    "plt.hist(results);\n",
    "#results"
   ]
  },
  {
   "cell_type": "code",
   "execution_count": 6,
   "metadata": {},
   "outputs": [
    {
     "data": {
      "text/plain": [
       "1180591620717411303425"
      ]
     },
     "execution_count": 6,
     "metadata": {},
     "output_type": "execute_result"
    }
   ],
   "source": [
    "2**70+1"
   ]
  },
  {
   "cell_type": "code",
   "execution_count": 7,
   "metadata": {},
   "outputs": [
    {
     "data": {
      "text/plain": [
       "25"
      ]
     },
     "execution_count": 7,
     "metadata": {},
     "output_type": "execute_result"
    }
   ],
   "source": [
    "c, k = enc(5)\n",
    "c2, k2 = enc(20)\n",
    "cp = c + c2\n",
    "kp = k + k2\n",
    "dec((cp, kp))"
   ]
  },
  {
   "cell_type": "code",
   "execution_count": 8,
   "metadata": {
    "deletable": false,
    "editable": false,
    "nbgrader": {
     "cell_type": "code",
     "checksum": "838fa3f7b937ac7fe26af6afc6e3c971",
     "grade": true,
     "grade_id": "cell-03410747a69767fb",
     "locked": true,
     "points": 5,
     "schema_version": 3,
     "solution": false,
     "task": false
    }
   },
   "outputs": [],
   "source": [
    "assert dec(enc(5)) == 5\n",
    "assert dec(enc(0)) == 0\n",
    "assert dec(enc(1)) == 1\n",
    "\n",
    "c, k = enc(5)\n",
    "assert dec((c + 10, k)) == 15\n",
    "\n",
    "c2, k2 = enc(20)\n",
    "assert dec((c + c2, k + k2)) == 25"
   ]
  },
  {
   "cell_type": "code",
   "execution_count": 9,
   "metadata": {},
   "outputs": [
    {
     "data": {
      "text/plain": [
       "(65, 75)"
      ]
     },
     "execution_count": 9,
     "metadata": {},
     "output_type": "execute_result"
    }
   ],
   "source": [
    "k = 55\n",
    "x1 = 10 # the adversary knows x1\n",
    "x2 = 20\n",
    "\n",
    "(x1 +k, x2 +k)"
   ]
  },
  {
   "cell_type": "code",
   "execution_count": 10,
   "metadata": {},
   "outputs": [],
   "source": [
    "# I want to encrypt n numbers\n",
    "# That means I need to generate n keys"
   ]
  },
  {
   "cell_type": "markdown",
   "metadata": {},
   "source": [
    "# Question 2\n",
    "\n",
    "Why is the above solution considered a *one-time pad*?"
   ]
  },
  {
   "cell_type": "markdown",
   "metadata": {
    "deletable": false,
    "nbgrader": {
     "cell_type": "markdown",
     "checksum": "54285dc1d9023a5f025e1428f788c2f8",
     "grade": true,
     "grade_id": "cell-2307aecc419781d8",
     "locked": false,
     "points": 5,
     "schema_version": 3,
     "solution": true,
     "task": false
    }
   },
   "source": [
    "1. The key is as long as the message or plaintext\n",
    "2. You can only use each key once"
   ]
  },
  {
   "cell_type": "markdown",
   "metadata": {},
   "source": [
    "# Question 3\n",
    "\n",
    "What is problematic (for security) about the use of integers in the above solution?"
   ]
  },
  {
   "cell_type": "markdown",
   "metadata": {
    "deletable": false,
    "nbgrader": {
     "cell_type": "markdown",
     "checksum": "fa707c7f9fb5ef2710de2751509c481d",
     "grade": true,
     "grade_id": "cell-52c5ebcaef37ac22",
     "locked": false,
     "points": 0,
     "schema_version": 3,
     "solution": true,
     "task": false
    }
   },
   "source": [
    "Without modular arithmetic, the ciphertext leaks statistical information about the plaintext."
   ]
  },
  {
   "cell_type": "markdown",
   "metadata": {},
   "source": [
    "## Question 4\n",
    "\n",
    "Write functions `plusFE` and `multFE` that add and multiply two field elements in $GF(p)$, respectively."
   ]
  },
  {
   "cell_type": "code",
   "execution_count": 11,
   "metadata": {
    "deletable": false,
    "nbgrader": {
     "cell_type": "code",
     "checksum": "988309066207bd3c396dbdafd4d605ec",
     "grade": false,
     "grade_id": "cell-c9adfe88526cc324",
     "locked": false,
     "schema_version": 3,
     "solution": true,
     "task": false
    }
   },
   "outputs": [],
   "source": [
    "def plusFE(p, a, b):\n",
    "    return (a+b) % p\n",
    "    \n",
    "def multFE(p, a, b):\n",
    "    return (a*b) % p"
   ]
  },
  {
   "cell_type": "code",
   "execution_count": 12,
   "metadata": {
    "deletable": false,
    "editable": false,
    "nbgrader": {
     "cell_type": "code",
     "checksum": "fa7a5429fb920d14cbb6079c6ab13e4b",
     "grade": true,
     "grade_id": "cell-d1dfca2e7cebbcfb",
     "locked": true,
     "points": 5,
     "schema_version": 3,
     "solution": false,
     "task": false
    }
   },
   "outputs": [],
   "source": [
    "assert plusFE(100, 2, 3) == 5\n",
    "assert plusFE(3, 2, 3) == 2\n",
    "assert plusFE(2, 1, 1) == 0\n",
    "assert multFE(100, 2, 5) == 10\n",
    "assert multFE(3, 2, 5) == 1\n",
    "assert multFE(2, 1, 1) == 1\n",
    "assert multFE(2, 1, 0) == 0"
   ]
  },
  {
   "cell_type": "code",
   "execution_count": 13,
   "metadata": {},
   "outputs": [
    {
     "data": {
      "text/plain": [
       "[[0, 0, 0, 0, 0, 0, 0, 0, 0, 0, 0],\n",
       " [0, 1, 2, 3, 4, 5, 6, 7, 8, 9, 10],\n",
       " [0, 2, 4, 6, 8, 10, 1, 3, 5, 7, 9],\n",
       " [0, 3, 6, 9, 1, 4, 7, 10, 2, 5, 8],\n",
       " [0, 4, 8, 1, 5, 9, 2, 6, 10, 3, 7],\n",
       " [0, 5, 10, 4, 9, 3, 8, 2, 7, 1, 6],\n",
       " [0, 6, 1, 7, 2, 8, 3, 9, 4, 10, 5],\n",
       " [0, 7, 3, 10, 6, 2, 9, 5, 1, 8, 4],\n",
       " [0, 8, 5, 2, 10, 7, 4, 1, 9, 6, 3],\n",
       " [0, 9, 7, 5, 3, 1, 10, 8, 6, 4, 2],\n",
       " [0, 10, 9, 8, 7, 6, 5, 4, 3, 2, 1]]"
      ]
     },
     "execution_count": 13,
     "metadata": {},
     "output_type": "execute_result"
    }
   ],
   "source": [
    "[[x*a%11 for a in range(0, 11)] for x in range(0, 11)]"
   ]
  },
  {
   "cell_type": "markdown",
   "metadata": {},
   "source": [
    "## Question 5\n",
    "\n",
    "Write functions `enc` and `dec` for an additively homomorphic cryptosystem in the finite field $GF(p)$."
   ]
  },
  {
   "cell_type": "code",
   "execution_count": 14,
   "metadata": {
    "deletable": false,
    "nbgrader": {
     "cell_type": "code",
     "checksum": "cf76d2c7a7a51ae059e74f71fc5cd081",
     "grade": false,
     "grade_id": "cell-7e41c12148039b16",
     "locked": false,
     "schema_version": 3,
     "solution": true,
     "task": false
    }
   },
   "outputs": [],
   "source": [
    "def enc(p, x):\n",
    "    assert x < p\n",
    "    k = np.random.randint(0, p)\n",
    "    ciphertext = (x + k) % p\n",
    "    return ciphertext, k\n",
    "\n",
    "def dec(p, pair):\n",
    "    c, k = pair\n",
    "    plaintext = (c - k) % p\n",
    "    return plaintext"
   ]
  },
  {
   "cell_type": "code",
   "execution_count": 15,
   "metadata": {
    "deletable": false,
    "editable": false,
    "nbgrader": {
     "cell_type": "code",
     "checksum": "7d06eade2a3d585f2accadd0038e1dbc",
     "grade": true,
     "grade_id": "cell-94eb8fd487f35605",
     "locked": true,
     "points": 5,
     "schema_version": 3,
     "solution": false,
     "task": false
    }
   },
   "outputs": [],
   "source": [
    "assert dec(100, enc(100, 5)) == 5\n",
    "assert dec(2, enc(2, 0)) == 0\n",
    "assert dec(2, enc(2, 1)) == 1\n",
    "\n",
    "c, k = enc(100, 5)\n",
    "assert dec(100, (c + 10, k)) == 15"
   ]
  },
  {
   "cell_type": "code",
   "execution_count": 18,
   "metadata": {},
   "outputs": [
    {
     "data": {
      "text/plain": [
       "25"
      ]
     },
     "execution_count": 18,
     "metadata": {},
     "output_type": "execute_result"
    }
   ],
   "source": [
    "# this part happens on the client (\"me\")\n",
    "p = 2**31 - 1\n",
    "c1, k1 = enc(p, 5)\n",
    "c2, k2 = enc(p, 20)\n",
    "\n",
    "# send c1, c2 to server 1\n",
    "# send k1, k2 to server 2\n",
    "\n",
    "# computation on server 1\n",
    "c = c1 + c2\n",
    "# send c to client\n",
    "\n",
    "# computation on server 2\n",
    "k = k1 + k2\n",
    "# send k to client\n",
    "\n",
    "# computation on client\n",
    "result = dec(p, (c, k))\n",
    "result"
   ]
  },
  {
   "cell_type": "markdown",
   "metadata": {},
   "source": [
    "## Question 6\n",
    "\n",
    "Write a function `share` that generates $n$ additive secret shares from a single field element $x \\in GF(p)$."
   ]
  },
  {
   "cell_type": "code",
   "execution_count": 26,
   "metadata": {
    "deletable": false,
    "nbgrader": {
     "cell_type": "code",
     "checksum": "c1b83394b39599d5996094473668f46b",
     "grade": false,
     "grade_id": "cell-fcf3600eacf9c717",
     "locked": false,
     "schema_version": 3,
     "solution": true,
     "task": false
    }
   },
   "outputs": [
    {
     "data": {
      "text/plain": [
       "5"
      ]
     },
     "execution_count": 26,
     "metadata": {},
     "output_type": "execute_result"
    }
   ],
   "source": [
    "def sumFE(p, xs):\n",
    "    total = 0\n",
    "    for x in xs:\n",
    "        total = plusFE(p, x, total)\n",
    "    return total\n",
    "\n",
    "def share(p, n, x):\n",
    "    # first, generate n - 1 random numbers\n",
    "    random_shares = [np.random.randint(0, p) for _ in range(n-1)]\n",
    "    total = sumFE(p, random_shares)\n",
    "    # last share should be such that last + total = x\n",
    "    # x - total = last share\n",
    "    # total + last = x\n",
    "    last = plusFE(p, x, -total)\n",
    "    return random_shares + [last]\n",
    "    \n",
    "sum(share(p, 3, 5)) % p"
   ]
  },
  {
   "cell_type": "code",
   "execution_count": 23,
   "metadata": {
    "deletable": false,
    "editable": false,
    "nbgrader": {
     "cell_type": "code",
     "checksum": "ac1df6e2d5f0d83b42b277ca50d55b63",
     "grade": true,
     "grade_id": "cell-79cd6b0e56a18701",
     "locked": true,
     "points": 5,
     "schema_version": 3,
     "solution": false,
     "task": false
    }
   },
   "outputs": [],
   "source": [
    "assert sumFE(100, share(100, 2, 5)) == 5\n",
    "assert sumFE(2, share(2, 5, 1)) == 1\n",
    "assert sumFE(2, share(2, 5, 0)) == 0\n",
    "assert sumFE(2, share(2, 50, 1)) == 1"
   ]
  },
  {
   "cell_type": "code",
   "execution_count": 24,
   "metadata": {},
   "outputs": [
    {
     "name": "stdout",
     "output_type": "stream",
     "text": [
      "[36, 69]\n",
      "[1, 0, 1, 1, 0]\n"
     ]
    }
   ],
   "source": [
    "# Example\n",
    "print(share(100, 2, 5))\n",
    "print(share(2, 5, 1))"
   ]
  },
  {
   "cell_type": "code",
   "execution_count": null,
   "metadata": {},
   "outputs": [],
   "source": []
  }
 ],
 "metadata": {
  "kernelspec": {
   "display_name": "Python 3 (ipykernel)",
   "language": "python",
   "name": "python3"
  },
  "language_info": {
   "codemirror_mode": {
    "name": "ipython",
    "version": 3
   },
   "file_extension": ".py",
   "mimetype": "text/x-python",
   "name": "python",
   "nbconvert_exporter": "python",
   "pygments_lexer": "ipython3",
   "version": "3.8.11"
  }
 },
 "nbformat": 4,
 "nbformat_minor": 4
}
