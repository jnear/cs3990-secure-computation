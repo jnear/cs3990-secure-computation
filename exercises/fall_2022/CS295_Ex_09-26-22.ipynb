{
 "cells": [
  {
   "cell_type": "markdown",
   "metadata": {},
   "source": [
    "# CS295/395: Secure Distributed Computation\n",
    "## In-Class Exercise, week of 9/26/2022"
   ]
  },
  {
   "cell_type": "code",
   "execution_count": null,
   "metadata": {},
   "outputs": [],
   "source": [
    "# For later this week:\n",
    "from nacl.public import PrivateKey, Box, SealedBox\n",
    "\n",
    "# PyNaCl is a library for (traditional) encryption\n",
    "# It is easiest to install using: `conda install pynacl`\n",
    "# It can also be installed using: `pip install pynacl`\n",
    "# but the conda version is more likely to work cleanly.\n",
    "# See documentation here: https://pynacl.readthedocs.io/en/latest/"
   ]
  },
  {
   "cell_type": "code",
   "execution_count": null,
   "metadata": {},
   "outputs": [],
   "source": [
    "# Imports and definitions\n",
    "import numpy as np\n",
    "from collections import defaultdict\n",
    "import numpy as np\n",
    "import galois\n",
    "GF = galois.GF(2**13 - 1)\n",
    "\n",
    "# Library for circuits\n",
    "from dataclasses import dataclass\n",
    "\n",
    "@dataclass\n",
    "class Gate:\n",
    "    type: str\n",
    "    in1: int\n",
    "    in2: int\n",
    "    out: int\n",
    "\n",
    "@dataclass\n",
    "class Circuit:\n",
    "    inputs: any\n",
    "    outputs: any\n",
    "    gates: any\n",
    "        \n",
    "def print_circuit(c):\n",
    "    print('inputs:', c.inputs)\n",
    "    print('outputs:', c.outputs)\n",
    "    print('gates:')\n",
    "    for g in c.gates:\n",
    "        print('  ', g)"
   ]
  },
  {
   "cell_type": "markdown",
   "metadata": {},
   "source": [
    "## Party Class and Shamir sharing"
   ]
  },
  {
   "cell_type": "code",
   "execution_count": null,
   "metadata": {},
   "outputs": [],
   "source": [
    "class Party:\n",
    "    \"\"\"A participant in a multiparty computation protocol.\"\"\"\n",
    "    def __init__(self):\n",
    "        \"\"\"Initialize the field size and dictionary to hold received messages.\"\"\"\n",
    "        self.input = None\n",
    "        self.output = None\n",
    "        self.received = defaultdict(list)\n",
    "    \n",
    "    def send(self, other, round, msg):\n",
    "        \"\"\"Simulate sending a message `msg` to another party `other` during round `round`\"\"\"\n",
    "        other.received[round].append(msg)\n",
    "\n",
    "    def get_view(self):\n",
    "        \"\"\"Returns the view of this party: its input, output, and received messages.\"\"\"\n",
    "        return (self.input, self.output, dict(self.received))\n",
    "\n",
    "# Generate Shamir shares for secret v with threshold t and number of shares n\n",
    "def shamir_share(v, t, n):\n",
    "    coefficients = GF([GF.Random() for _ in range(t-1)] + [v])\n",
    "    poly = galois.Poly(coefficients)\n",
    "    shares = [(GF(x), poly(GF(x))) for x in range(1, n+1)]\n",
    "    return shares\n",
    "\n",
    "# Reconstruct the secret from at least t Shamir shares\n",
    "def reconstruct(shares):\n",
    "    xs = GF([s[0] for s in shares])\n",
    "    ys = GF([s[1] for s in shares])\n",
    "    poly = galois.lagrange_poly(xs, ys)\n",
    "    #print(poly)\n",
    "    secret = poly(0)\n",
    "    \n",
    "    return secret"
   ]
  },
  {
   "cell_type": "markdown",
   "metadata": {},
   "source": [
    "## Question 1\n",
    "\n",
    "Implement a function `sum_sq_circuit` that returns the sum and the squared sum of a list of numbers."
   ]
  },
  {
   "cell_type": "code",
   "execution_count": null,
   "metadata": {
    "deletable": false,
    "nbgrader": {
     "cell_type": "code",
     "checksum": "27b3081fa552b771c201c9153262f6f8",
     "grade": true,
     "grade_id": "cell-1427ec12c4bb0c18",
     "locked": false,
     "points": 5,
     "schema_version": 3,
     "solution": true,
     "task": false
    }
   },
   "outputs": [],
   "source": [
    "def sum_sq_circuit(n):\n",
    "    inputs = [[i] for i in range(n)]\n",
    "\n",
    "    # YOUR CODE HERE\n",
    "    raise NotImplementedError()\n",
    "\n",
    "print_circuit(sum_sq_circuit(6))"
   ]
  },
  {
   "cell_type": "markdown",
   "metadata": {},
   "source": [
    "## Question 2\n",
    "\n",
    "Implement a function `eval_circuit` for evaluating circuits."
   ]
  },
  {
   "cell_type": "code",
   "execution_count": null,
   "metadata": {
    "deletable": false,
    "nbgrader": {
     "cell_type": "code",
     "checksum": "cf564ae6e8b2c168aa0c59579b1495eb",
     "grade": false,
     "grade_id": "cell-7284d4d25dfd3521",
     "locked": false,
     "schema_version": 3,
     "solution": true,
     "task": false
    }
   },
   "outputs": [],
   "source": [
    "def eval_circuit(inputs, circuit):\n",
    "    # YOUR CODE HERE\n",
    "    raise NotImplementedError()"
   ]
  },
  {
   "cell_type": "code",
   "execution_count": null,
   "metadata": {
    "deletable": false,
    "editable": false,
    "nbgrader": {
     "cell_type": "code",
     "checksum": "d90bcc77eb291d5738a44eb970189a71",
     "grade": true,
     "grade_id": "cell-de3b8592144ad435",
     "locked": true,
     "points": 5,
     "schema_version": 3,
     "solution": false,
     "task": false
    }
   },
   "outputs": [],
   "source": [
    "# TEST CASE\n",
    "# Example: sum of 0 to 6 = 15\n",
    "circuit = sum_sq_circuit(6)\n",
    "inputs = [[i] for i in range(6)]\n",
    "outputs = eval_circuit(inputs, circuit)\n",
    "assert outputs == [GF(15), GF(225)]"
   ]
  },
  {
   "cell_type": "markdown",
   "metadata": {},
   "source": [
    "## Question 3\n",
    "\n",
    "Sketch the BGW protocol for evaluating an arithmetic or boolean circuit with $n$ parties."
   ]
  },
  {
   "cell_type": "markdown",
   "metadata": {
    "deletable": false,
    "nbgrader": {
     "cell_type": "markdown",
     "checksum": "f7e95bebf9a4b39541e1098c9213a047",
     "grade": true,
     "grade_id": "cell-179ac605162b991c",
     "locked": false,
     "points": 5,
     "schema_version": 3,
     "solution": true,
     "task": false
    }
   },
   "source": [
    "YOUR ANSWER HERE"
   ]
  },
  {
   "cell_type": "markdown",
   "metadata": {},
   "source": [
    "## Question 4\n",
    "\n",
    "Implement the BGW protocol."
   ]
  },
  {
   "cell_type": "code",
   "execution_count": null,
   "metadata": {
    "deletable": false,
    "nbgrader": {
     "cell_type": "code",
     "checksum": "a09115ff7d233dcbaf3807d915a5ef9a",
     "grade": false,
     "grade_id": "cell-63e1be5f60698726",
     "locked": false,
     "schema_version": 3,
     "solution": true,
     "task": false
    }
   },
   "outputs": [],
   "source": [
    "class BGWParty(Party):\n",
    "    def round1(self, parties, circuit, my_inputs):\n",
    "        self.parties = parties\n",
    "        self.is_done = False\n",
    "        self.circuit = circuit\n",
    "        n = len(parties)\n",
    "        t = int(n/2)\n",
    "        \n",
    "        # YOUR CODE HERE\n",
    "        raise NotImplementedError()\n",
    "\n",
    "    def round2(self, my_id):\n",
    "        self.wire_vals = {}\n",
    "\n",
    "        # YOUR CODE HERE\n",
    "        raise NotImplementedError()\n",
    "\n",
    "    def roundn(self, round_num):\n",
    "        n = len(self.parties)\n",
    "        t = int(n/2)\n",
    "        \n",
    "        # YOUR CODE HERE\n",
    "        raise NotImplementedError()"
   ]
  },
  {
   "cell_type": "code",
   "execution_count": null,
   "metadata": {},
   "outputs": [],
   "source": [
    "def run_bgw_protocol():\n",
    "    NUM_PARTIES = 6\n",
    "    n = NUM_PARTIES\n",
    "    \n",
    "    circuit = sum_sq_circuit(6)\n",
    "    \n",
    "    inputs = [[i] for i in range(6)]\n",
    "    print('Inputs:', inputs)\n",
    "    parties = [BGWParty() for _ in range(NUM_PARTIES)]\n",
    "    \n",
    "    for p, i in zip(parties, inputs):\n",
    "        p.round1(parties, circuit, i)\n",
    "    for p in parties:\n",
    "        p.round2(parties)\n",
    "    round_num = 3\n",
    "\n",
    "    while not parties[0].is_done:\n",
    "        for p in parties:\n",
    "            p.roundn(round_num)       \n",
    "        round_num += 1\n",
    "        \n",
    "    for p in parties:\n",
    "        print('Output:', p.output)\n",
    "\n",
    "    outputs = [p.output for p in parties]\n",
    "    return outputs"
   ]
  },
  {
   "cell_type": "code",
   "execution_count": null,
   "metadata": {
    "deletable": false,
    "editable": false,
    "nbgrader": {
     "cell_type": "code",
     "checksum": "7db1cd347faeb1923a550b56c4ffac1e",
     "grade": true,
     "grade_id": "cell-a4c2730dd690b6d5",
     "locked": true,
     "points": 5,
     "schema_version": 3,
     "solution": false,
     "task": false
    }
   },
   "outputs": [],
   "source": [
    "# TEST CASE\n",
    "outputs = run_bgw_protocol()\n",
    "for o in outputs:\n",
    "    assert o == [GF(15), GF(225)]"
   ]
  },
  {
   "cell_type": "markdown",
   "metadata": {},
   "source": [
    "## Question 5\n",
    "\n",
    "Describe the 1-out-of-2 *oblivious transfer* (OT) protocol. Reference Section 3.7 in Pragmatic MPC."
   ]
  },
  {
   "cell_type": "markdown",
   "metadata": {
    "deletable": false,
    "nbgrader": {
     "cell_type": "markdown",
     "checksum": "9b7cd57bc761bb6c61d8eed21c02674a",
     "grade": true,
     "grade_id": "cell-ab7252ab9d473712",
     "locked": false,
     "points": 5,
     "schema_version": 3,
     "solution": true,
     "task": false
    }
   },
   "source": [
    "YOUR ANSWER HERE"
   ]
  },
  {
   "cell_type": "markdown",
   "metadata": {},
   "source": [
    "## Question 6\n",
    "\n",
    "Why is the oblivious transfer protocol secure against semi-honest adversaries? Why is it not secure against malicious adversaries?"
   ]
  },
  {
   "cell_type": "markdown",
   "metadata": {
    "deletable": false,
    "nbgrader": {
     "cell_type": "markdown",
     "checksum": "3c93044d2417974e1ce80034d57fdab0",
     "grade": true,
     "grade_id": "cell-56f846b72270e760",
     "locked": false,
     "points": 5,
     "schema_version": 3,
     "solution": true,
     "task": false
    }
   },
   "source": [
    "YOUR ANSWER HERE"
   ]
  },
  {
   "cell_type": "markdown",
   "metadata": {},
   "source": [
    "## Question 7\n",
    "\n",
    "Implement 1-out-of-2 OT."
   ]
  },
  {
   "cell_type": "code",
   "execution_count": null,
   "metadata": {
    "deletable": false,
    "nbgrader": {
     "cell_type": "code",
     "checksum": "1a63dadcaf8f787571990ca810b3b0c8",
     "grade": false,
     "grade_id": "cell-1804b306c9f5b962",
     "locked": false,
     "schema_version": 3,
     "solution": true,
     "task": false
    }
   },
   "outputs": [],
   "source": [
    "class OT_Sender(Party):\n",
    "    # x1 and x2 are the secrets\n",
    "    def round1(self, x1, x2, receiver):\n",
    "        self.x1 = x1\n",
    "        self.x2 = x2\n",
    "        self.receiver = receiver\n",
    "\n",
    "    def round2(self):\n",
    "        # YOUR CODE HERE\n",
    "        raise NotImplementedError()\n",
    "    \n",
    "    def round3(self):\n",
    "        pass\n",
    "\n",
    "class OT_Receiver(Party):\n",
    "    def round1(self, b, sender):\n",
    "        self.sender = sender\n",
    "        self.b = b\n",
    "        # YOUR CODE HERE\n",
    "        raise NotImplementedError()\n",
    "    \n",
    "    def round2(self):\n",
    "        pass\n",
    "    \n",
    "    def round3(self):\n",
    "        # YOUR CODE HERE\n",
    "        raise NotImplementedError()"
   ]
  },
  {
   "cell_type": "code",
   "execution_count": null,
   "metadata": {
    "deletable": false,
    "editable": false,
    "nbgrader": {
     "cell_type": "code",
     "checksum": "8b063733cf6cc464890ffef078e583e3",
     "grade": true,
     "grade_id": "cell-0228c49e37ea5d20",
     "locked": true,
     "points": 5,
     "schema_version": 3,
     "solution": false,
     "task": false
    }
   },
   "outputs": [],
   "source": [
    "# TEST CASE\n",
    "GF_2 = galois.GF(2)\n",
    "\n",
    "sender = OT_Sender()\n",
    "receiver = OT_Receiver()\n",
    "\n",
    "# Round 1\n",
    "sender.round1(GF_2(0), GF_2(1), receiver)\n",
    "receiver.round1(GF_2(1), sender)\n",
    "\n",
    "# Round 2\n",
    "sender.round2()\n",
    "receiver.round2()\n",
    "\n",
    "# Round 3\n",
    "sender.round3()\n",
    "output = receiver.round3()\n",
    "\n",
    "print(\"Receiver's output:\", output)\n",
    "assert output == 1"
   ]
  },
  {
   "cell_type": "markdown",
   "metadata": {},
   "source": [
    "## Question 8\n",
    "\n",
    "Describe 1-out-of-4 OT."
   ]
  },
  {
   "cell_type": "markdown",
   "metadata": {
    "deletable": false,
    "nbgrader": {
     "cell_type": "markdown",
     "checksum": "52270589cfe55c2364894d193e53c338",
     "grade": true,
     "grade_id": "cell-160870ed747f99e7",
     "locked": false,
     "points": 5,
     "schema_version": 3,
     "solution": true,
     "task": false
    }
   },
   "source": [
    "YOUR ANSWER HERE"
   ]
  },
  {
   "cell_type": "markdown",
   "metadata": {},
   "source": [
    "## Question 9\n",
    "\n",
    "Describe the GMW protocol for evaluating a binary circuit."
   ]
  },
  {
   "cell_type": "markdown",
   "metadata": {
    "deletable": false,
    "nbgrader": {
     "cell_type": "markdown",
     "checksum": "b852276462a613e0ded9f33e2284d5ab",
     "grade": true,
     "grade_id": "cell-b74bf235539d3182",
     "locked": false,
     "points": 5,
     "schema_version": 3,
     "solution": true,
     "task": false
    }
   },
   "source": [
    "YOUR ANSWER HERE"
   ]
  }
 ],
 "metadata": {
  "kernelspec": {
   "display_name": "Python 3 (ipykernel)",
   "language": "python",
   "name": "python3"
  },
  "language_info": {
   "codemirror_mode": {
    "name": "ipython",
    "version": 3
   },
   "file_extension": ".py",
   "mimetype": "text/x-python",
   "name": "python",
   "nbconvert_exporter": "python",
   "pygments_lexer": "ipython3",
   "version": "3.10.4"
  }
 },
 "nbformat": 4,
 "nbformat_minor": 4
}
