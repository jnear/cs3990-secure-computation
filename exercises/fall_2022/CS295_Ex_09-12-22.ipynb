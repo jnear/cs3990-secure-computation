{
 "cells": [
  {
   "cell_type": "markdown",
   "metadata": {},
   "source": [
    "# CS295/395: Secure Distributed Computation\n",
    "## In-Class Exercise, Week of 9/12/2022"
   ]
  },
  {
   "cell_type": "code",
   "execution_count": null,
   "metadata": {},
   "outputs": [],
   "source": [
    "# Imports and definitions\n",
    "import numpy as np\n",
    "from collections import defaultdict\n",
    "import galois\n",
    "\n",
    "GF = galois.GF(97)"
   ]
  },
  {
   "cell_type": "markdown",
   "metadata": {},
   "source": [
    "## Question 1\n",
    "\n",
    "Write code to generate shares of a secret $x$ in a $(t, n)$-secret sharing scheme using Shamir's technique, where $n = 5$ and $t = 2$."
   ]
  },
  {
   "cell_type": "code",
   "execution_count": null,
   "metadata": {
    "deletable": false,
    "nbgrader": {
     "cell_type": "code",
     "checksum": "0c1e6f11f56316761bc9751dca4721e7",
     "grade": false,
     "grade_id": "cell-5009ee71e62855fc",
     "locked": false,
     "schema_version": 3,
     "solution": true,
     "task": false
    }
   },
   "outputs": [],
   "source": [
    "def shr_2_5(v):\n",
    "    # YOUR CODE HERE\n",
    "    raise NotImplementedError()"
   ]
  },
  {
   "cell_type": "code",
   "execution_count": null,
   "metadata": {},
   "outputs": [],
   "source": [
    "# Example for question 1\n",
    "\n",
    "shr_2_5(GF(5))"
   ]
  },
  {
   "cell_type": "code",
   "execution_count": null,
   "metadata": {
    "deletable": false,
    "editable": false,
    "nbgrader": {
     "cell_type": "code",
     "checksum": "789ac0549119ca349821b9730c3f9de3",
     "grade": true,
     "grade_id": "cell-555fb4fef5fb1a22",
     "locked": true,
     "points": 5,
     "schema_version": 3,
     "solution": false,
     "task": false
    }
   },
   "outputs": [],
   "source": [
    "# TEST CASE for question 1\n",
    "\n",
    "assert len(shr_2_5(GF(5))) == 5"
   ]
  },
  {
   "cell_type": "markdown",
   "metadata": {},
   "source": [
    "## Question 2\n",
    "\n",
    "Write a function to reconstruct the secret, using only two shares."
   ]
  },
  {
   "cell_type": "code",
   "execution_count": null,
   "metadata": {
    "deletable": false,
    "nbgrader": {
     "cell_type": "code",
     "checksum": "36cad7bc3f8a20ed6211f16a1fc5dbf9",
     "grade": false,
     "grade_id": "cell-e32dd909f78b8f42",
     "locked": false,
     "schema_version": 3,
     "solution": true,
     "task": false
    }
   },
   "outputs": [],
   "source": [
    "def reconstruct(s1, s2):\n",
    "    # YOUR CODE HERE\n",
    "    raise NotImplementedError()\n",
    "\n",
    "shares = shr_2_5(GF(5))\n",
    "reconstruct(shares[0], shares[1])"
   ]
  },
  {
   "cell_type": "code",
   "execution_count": null,
   "metadata": {
    "deletable": false,
    "editable": false,
    "nbgrader": {
     "cell_type": "code",
     "checksum": "006f385aa7d0b15bb9c4687d650c5c71",
     "grade": true,
     "grade_id": "cell-65162c80c83feaa7",
     "locked": true,
     "points": 5,
     "schema_version": 3,
     "solution": false,
     "task": false
    }
   },
   "outputs": [],
   "source": [
    "# TEST CASE\n",
    "shares = shr_2_5(GF(5))\n",
    "assert reconstruct(shares[0], shares[1]) == GF(5)"
   ]
  },
  {
   "cell_type": "markdown",
   "metadata": {},
   "source": [
    "## Question 3\n",
    "\n",
    "Why is a threshold secret sharing scheme more useful than the simpler additive secret sharing scheme we saw earlier?"
   ]
  },
  {
   "cell_type": "markdown",
   "metadata": {
    "deletable": false,
    "nbgrader": {
     "cell_type": "markdown",
     "checksum": "53e5a1f680ae79d21d0e09da61ab5aeb",
     "grade": true,
     "grade_id": "cell-021796358da78ff7",
     "locked": false,
     "points": 5,
     "schema_version": 3,
     "solution": true,
     "task": false
    }
   },
   "source": [
    "YOUR ANSWER HERE"
   ]
  },
  {
   "cell_type": "markdown",
   "metadata": {},
   "source": [
    "## Question 4\n",
    "\n",
    "Write code to generate shares of a secret $x$ in a $(t, n)$-secret sharing scheme using Shamir's technique, for any $t$ and $n$."
   ]
  },
  {
   "cell_type": "code",
   "execution_count": null,
   "metadata": {
    "deletable": false,
    "nbgrader": {
     "cell_type": "code",
     "checksum": "66b9acd0a36169cab906fedd756517dd",
     "grade": false,
     "grade_id": "cell-34c3029e58f042c0",
     "locked": false,
     "schema_version": 3,
     "solution": true,
     "task": false
    }
   },
   "outputs": [],
   "source": [
    "def shamir_share(v, t, n):\n",
    "    # YOUR CODE HERE\n",
    "    raise NotImplementedError()\n",
    "\n",
    "shamir_share(GF(5), 3, 6)"
   ]
  },
  {
   "cell_type": "code",
   "execution_count": null,
   "metadata": {},
   "outputs": [],
   "source": [
    "# Example for question 1\n",
    "\n",
    "shr_2_5(GF(5))"
   ]
  },
  {
   "cell_type": "code",
   "execution_count": null,
   "metadata": {
    "deletable": false,
    "editable": false,
    "nbgrader": {
     "cell_type": "code",
     "checksum": "86264221a6cf08afd47cd22c816d3187",
     "grade": true,
     "grade_id": "cell-a6374001a42a98cf",
     "locked": true,
     "points": 5,
     "schema_version": 3,
     "solution": false,
     "task": false
    }
   },
   "outputs": [],
   "source": [
    "# TEST CASE\n",
    "assert len(shamir_share(GF(5), 3, 6)) == 6\n",
    "shares = shamir_share(GF(5), 2, 6)\n",
    "assert reconstruct(shares[0], shares[1]) == GF(5)"
   ]
  },
  {
   "cell_type": "markdown",
   "metadata": {},
   "source": [
    "## Question 5\n",
    "\n",
    "Given the two sets of shares `shares1` and `shares2` below, write a function whose output is their sum (as a set of shares)."
   ]
  },
  {
   "cell_type": "code",
   "execution_count": null,
   "metadata": {
    "deletable": false,
    "nbgrader": {
     "cell_type": "code",
     "checksum": "54d4dfaed6dda4687694107739af00a1",
     "grade": false,
     "grade_id": "cell-96a3bb1415b78611",
     "locked": false,
     "schema_version": 3,
     "solution": true,
     "task": false
    }
   },
   "outputs": [],
   "source": [
    "shares1 = shamir_share(GF(20), 2, 6)\n",
    "shares2 = shamir_share(GF(5), 2, 6)\n",
    "\n",
    "def add_shares(shares1, shares2):\n",
    "    # YOUR CODE HERE\n",
    "    raise NotImplementedError()\n",
    "\n",
    "added_shares = add_shares(shares1, shares2)\n",
    "print(added_shares)\n",
    "reconstruct(added_shares[0], added_shares[1])"
   ]
  },
  {
   "cell_type": "code",
   "execution_count": null,
   "metadata": {
    "deletable": false,
    "editable": false,
    "nbgrader": {
     "cell_type": "code",
     "checksum": "defc408c2c7e4e211850672743d18b3b",
     "grade": true,
     "grade_id": "cell-fc07ee60a24605f8",
     "locked": true,
     "points": 5,
     "schema_version": 3,
     "solution": false,
     "task": false
    }
   },
   "outputs": [],
   "source": [
    "# TEST CASE\n",
    "added_shares = add_shares(shares1, shares2)\n",
    "assert reconstruct(added_shares[0], added_shares[2]) == GF(25)"
   ]
  },
  {
   "cell_type": "markdown",
   "metadata": {},
   "source": [
    "## Question 6\n",
    "\n",
    "Write a function to reconstruct a secret from a set of at least $t$ shares. Use the `galois.lagrange_poly` function, which implements [Lagrange interpolation](https://en.wikipedia.org/wiki/Lagrange_polynomial)."
   ]
  },
  {
   "cell_type": "code",
   "execution_count": null,
   "metadata": {
    "deletable": false,
    "nbgrader": {
     "cell_type": "code",
     "checksum": "51ec718588dc29e2c4da9d837fd6a582",
     "grade": false,
     "grade_id": "cell-8e6f22549d0766db",
     "locked": false,
     "schema_version": 3,
     "solution": true,
     "task": false
    }
   },
   "outputs": [],
   "source": [
    "def reconstruct(shares):\n",
    "    # YOUR CODE HERE\n",
    "    raise NotImplementedError()\n",
    "\n",
    "reconstruct(added_shares)"
   ]
  },
  {
   "cell_type": "code",
   "execution_count": null,
   "metadata": {
    "deletable": false,
    "editable": false,
    "nbgrader": {
     "cell_type": "code",
     "checksum": "663d090acc4bedbabd75a690d3a22954",
     "grade": true,
     "grade_id": "cell-0fc28d5b0ecdae18",
     "locked": true,
     "points": 5,
     "schema_version": 3,
     "solution": false,
     "task": false
    }
   },
   "outputs": [],
   "source": [
    "# TEST CASE\n",
    "shares = shamir_share(GF(30), 5, 10)\n",
    "assert reconstruct(shares) == GF(30)\n",
    "assert reconstruct(shares[:5]) == GF(30)  # t shares are sufficient\n",
    "assert reconstruct(shares[:4]) != GF(30)  # t - 1 shares are not sufficient"
   ]
  },
  {
   "cell_type": "markdown",
   "metadata": {},
   "source": [
    "## Question 7\n",
    "\n",
    "Given the two sets of shares `shares1` and `shares2` below, write a function whose output is their product (as a set of shares)."
   ]
  },
  {
   "cell_type": "code",
   "execution_count": null,
   "metadata": {
    "deletable": false,
    "nbgrader": {
     "cell_type": "code",
     "checksum": "b9cf0a10cb95f631d81ad82372ce164d",
     "grade": false,
     "grade_id": "cell-27b6a75239e0abfc",
     "locked": false,
     "schema_version": 3,
     "solution": true,
     "task": false
    }
   },
   "outputs": [],
   "source": [
    "shares1 = shamir_share(GF(20), 3, 6)\n",
    "shares2 = shamir_share(GF(3), 3, 6)\n",
    "\n",
    "def mult_shares(shares1, shares2):\n",
    "    # YOUR CODE HERE\n",
    "    raise NotImplementedError()\n",
    "\n",
    "product_shares = mult_shares(shares1, shares2)\n",
    "print(product_shares)\n",
    "reconstruct(shares1)\n",
    "reconstruct(product_shares)"
   ]
  },
  {
   "cell_type": "code",
   "execution_count": null,
   "metadata": {
    "deletable": false,
    "editable": false,
    "nbgrader": {
     "cell_type": "code",
     "checksum": "701c49445c25c5a0eac46ac6120e8d2e",
     "grade": true,
     "grade_id": "cell-a208fe44dcacec08",
     "locked": true,
     "points": 5,
     "schema_version": 3,
     "solution": false,
     "task": false
    }
   },
   "outputs": [],
   "source": [
    "# TEST CASE\n",
    "product_shares = mult_shares(shares1, shares2)\n",
    "\n",
    "assert reconstruct(product_shares) == GF(60)\n",
    "assert reconstruct(product_shares[:4]) != GF(60)  # t shares are no longer sufficient"
   ]
  }
 ],
 "metadata": {
  "kernelspec": {
   "display_name": "Python 3 (ipykernel)",
   "language": "python",
   "name": "python3"
  },
  "language_info": {
   "codemirror_mode": {
    "name": "ipython",
    "version": 3
   },
   "file_extension": ".py",
   "mimetype": "text/x-python",
   "name": "python",
   "nbconvert_exporter": "python",
   "pygments_lexer": "ipython3",
   "version": "3.10.4"
  }
 },
 "nbformat": 4,
 "nbformat_minor": 4
}
