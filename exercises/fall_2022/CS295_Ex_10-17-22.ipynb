{
 "cells": [
  {
   "cell_type": "markdown",
   "metadata": {},
   "source": [
    "# CS295/395: Secure Distributed Computation\n",
    "## In-Class Exercise, week of 10/17/2022\n",
    "\n",
    "## References:\n",
    "- [The Paillier Cryptosystem](https://en.wikipedia.org/wiki/Paillier_cryptosystem)\n",
    "- [The ElGamal Cryptosystem](https://en.wikipedia.org/wiki/ElGamal_encryption)"
   ]
  },
  {
   "cell_type": "code",
   "execution_count": null,
   "metadata": {},
   "outputs": [],
   "source": [
    "import galois\n",
    "import random\n",
    "bits = 128"
   ]
  },
  {
   "cell_type": "markdown",
   "metadata": {},
   "source": [
    "## Question -2\n",
    "\n",
    "Describe the main idea behind Yao's garbled circuit protocol."
   ]
  },
  {
   "cell_type": "markdown",
   "metadata": {
    "deletable": false,
    "nbgrader": {
     "cell_type": "markdown",
     "checksum": "a71df5c8bd7c7968dd00219922e5bd1e",
     "grade": true,
     "grade_id": "cell-5823e1abb2be85a3",
     "locked": false,
     "points": 5,
     "schema_version": 3,
     "solution": true,
     "task": false
    }
   },
   "source": [
    "YOUR ANSWER HERE"
   ]
  },
  {
   "cell_type": "markdown",
   "metadata": {},
   "source": [
    "## Question -1\n",
    "\n",
    "What are the primary advantages and disadvantages of Yao's garbled circuit protocol?"
   ]
  },
  {
   "cell_type": "markdown",
   "metadata": {
    "deletable": false,
    "nbgrader": {
     "cell_type": "markdown",
     "checksum": "a4838b1dc6d0e8d6608bb07042c4ed8f",
     "grade": true,
     "grade_id": "cell-ae2c4c602f1e12d6",
     "locked": false,
     "points": 5,
     "schema_version": 3,
     "solution": true,
     "task": false
    }
   },
   "source": [
    "YOUR ANSWER HERE"
   ]
  },
  {
   "cell_type": "markdown",
   "metadata": {},
   "source": [
    "## Question 1\n",
    "\n",
    "Implement key generation for the Paillier cryptosystem."
   ]
  },
  {
   "cell_type": "code",
   "execution_count": null,
   "metadata": {
    "deletable": false,
    "nbgrader": {
     "cell_type": "code",
     "checksum": "4a67492ff7288921ba635eb262917a8e",
     "grade": false,
     "grade_id": "cell-9cfbfca746bcf461",
     "locked": false,
     "schema_version": 3,
     "solution": true,
     "task": false
    }
   },
   "outputs": [],
   "source": [
    "def keygen(bits):\n",
    "    \"\"\"Generates keys with `bits`-bits of security. Returns a pair: (secret key, public key).\"\"\"\n",
    "    # YOUR CODE HERE\n",
    "    raise NotImplementedError()"
   ]
  },
  {
   "cell_type": "markdown",
   "metadata": {},
   "source": [
    "## Question 2\n",
    "\n",
    "Implement encryption for the Pallier cryptosystem."
   ]
  },
  {
   "cell_type": "code",
   "execution_count": null,
   "metadata": {
    "deletable": false,
    "nbgrader": {
     "cell_type": "code",
     "checksum": "958df898f8c4ca532fe17fd1da70277a",
     "grade": false,
     "grade_id": "cell-204dfea9c3351633",
     "locked": false,
     "schema_version": 3,
     "solution": true,
     "task": false
    }
   },
   "outputs": [],
   "source": [
    "def encrypt(m, pk):\n",
    "    \"\"\"Encrypts the message `m` with public key `pk`.\"\"\"\n",
    "    # YOUR CODE HERE\n",
    "    raise NotImplementedError()"
   ]
  },
  {
   "cell_type": "markdown",
   "metadata": {},
   "source": [
    "## Question 3\n",
    "\n",
    "Implement decryption for the Pallier cryptosystem."
   ]
  },
  {
   "cell_type": "code",
   "execution_count": null,
   "metadata": {
    "deletable": false,
    "nbgrader": {
     "cell_type": "code",
     "checksum": "19a4fca5cb8030e0a52ab6916e7c7b57",
     "grade": false,
     "grade_id": "cell-fbdbb69c15a99cc5",
     "locked": false,
     "schema_version": 3,
     "solution": true,
     "task": false
    }
   },
   "outputs": [],
   "source": [
    "def decrypt(c, sk, pk):\n",
    "    \"\"\"Decrypts the ciphertext `c` using secret key `sk` and public key `pk`.\"\"\"\n",
    "    # YOUR CODE HERE\n",
    "    raise NotImplementedError()"
   ]
  },
  {
   "cell_type": "code",
   "execution_count": null,
   "metadata": {
    "deletable": false,
    "editable": false,
    "nbgrader": {
     "cell_type": "code",
     "checksum": "151fee751bfd58334e93c70a03286668",
     "grade": true,
     "grade_id": "cell-b5a185ca2a26020f",
     "locked": true,
     "points": 10,
     "schema_version": 3,
     "solution": false,
     "task": false
    }
   },
   "outputs": [],
   "source": [
    "# TEST CASE\n",
    "sk, pk = keygen(128)\n",
    "ciphertext = encrypt(25, pk)\n",
    "plaintext = decrypt(ciphertext, sk, pk)\n",
    "plaintext"
   ]
  },
  {
   "cell_type": "markdown",
   "metadata": {},
   "source": [
    "## Question 4\n",
    "\n",
    "Define addition for ciphertexts."
   ]
  },
  {
   "cell_type": "code",
   "execution_count": null,
   "metadata": {
    "deletable": false,
    "nbgrader": {
     "cell_type": "code",
     "checksum": "eb697d87754c535c8d7eb2047c3d91ee",
     "grade": false,
     "grade_id": "cell-88de461defcc5020",
     "locked": false,
     "schema_version": 3,
     "solution": true,
     "task": false
    }
   },
   "outputs": [],
   "source": [
    "def e_add(c1, c2, pk):\n",
    "    \"\"\"Add one encrypted integer to another\"\"\"\n",
    "    n, g = pk\n",
    "\n",
    "    # YOUR CODE HERE\n",
    "    raise NotImplementedError()"
   ]
  },
  {
   "cell_type": "code",
   "execution_count": null,
   "metadata": {
    "deletable": false,
    "editable": false,
    "nbgrader": {
     "cell_type": "code",
     "checksum": "3e1f248a01dab7ab88e1c89c3204bb95",
     "grade": true,
     "grade_id": "cell-947746edfac16b56",
     "locked": true,
     "points": 5,
     "schema_version": 3,
     "solution": false,
     "task": false
    }
   },
   "outputs": [],
   "source": [
    "# TEST CASE\n",
    "sk, pk = keygen(128)\n",
    "ct1 = encrypt(50, pk)\n",
    "ct2 = encrypt(10, pk)\n",
    "ct3 = e_add(ct1, ct2, pk)\n",
    "\n",
    "assert decrypt(ct3, sk, pk) == 60"
   ]
  },
  {
   "cell_type": "markdown",
   "metadata": {},
   "source": [
    "## Question 5\n",
    "\n",
    "Define addition-by-constant for ciphertexts."
   ]
  },
  {
   "cell_type": "code",
   "execution_count": null,
   "metadata": {
    "deletable": false,
    "nbgrader": {
     "cell_type": "code",
     "checksum": "0faf46af5f0a685d552f1c31e7a516bf",
     "grade": false,
     "grade_id": "cell-3331edb24d2e0750",
     "locked": false,
     "schema_version": 3,
     "solution": true,
     "task": false
    }
   },
   "outputs": [],
   "source": [
    "def e_add_const(c, m, pk):\n",
    "    \"\"\"Add constant n to an encrypted integer\"\"\"\n",
    "    n, g = pk\n",
    "\n",
    "    # YOUR CODE HERE\n",
    "    raise NotImplementedError()"
   ]
  },
  {
   "cell_type": "code",
   "execution_count": null,
   "metadata": {
    "deletable": false,
    "editable": false,
    "nbgrader": {
     "cell_type": "code",
     "checksum": "10993812eb1db52c1bf48c60d4185e6a",
     "grade": true,
     "grade_id": "cell-c8b3fb96cd63d1b2",
     "locked": true,
     "points": 5,
     "schema_version": 3,
     "solution": false,
     "task": false
    }
   },
   "outputs": [],
   "source": [
    "# TEST CASE\n",
    "sk, pk = keygen(128)\n",
    "ct1 = encrypt(50, pk)\n",
    "ct3 = e_add_const(ct1, 10, pk)\n",
    "\n",
    "assert decrypt(ct3, sk, pk) == 60"
   ]
  },
  {
   "cell_type": "markdown",
   "metadata": {},
   "source": [
    "## Question 6\n",
    "\n",
    "Define multiplication-by-constant for ciphertexts."
   ]
  },
  {
   "cell_type": "code",
   "execution_count": null,
   "metadata": {
    "deletable": false,
    "nbgrader": {
     "cell_type": "code",
     "checksum": "a7380c549fd04c89f6826c046f7aa354",
     "grade": false,
     "grade_id": "cell-4858d470b77fcfb4",
     "locked": false,
     "schema_version": 3,
     "solution": true,
     "task": false
    }
   },
   "outputs": [],
   "source": [
    "def e_mul_const(c, m, pk):\n",
    "    \"\"\"Multiplies an ancrypted integer by a constant\"\"\"\n",
    "    n, g = pk\n",
    "    \n",
    "    # YOUR CODE HERE\n",
    "    raise NotImplementedError()"
   ]
  },
  {
   "cell_type": "code",
   "execution_count": null,
   "metadata": {
    "nbgrader": {
     "grade": false,
     "grade_id": "cell-4c7241659c8e3c9b",
     "locked": false,
     "schema_version": 3,
     "solution": false,
     "task": false
    }
   },
   "outputs": [],
   "source": [
    "# TEST CASE\n",
    "sk, pk = keygen(128)\n",
    "ct1 = encrypt(50, pk)\n",
    "ct3 = e_mul_const(ct1, 3, pk)\n",
    "\n",
    "assert decrypt(ct3, sk, pk) == 150"
   ]
  },
  {
   "cell_type": "markdown",
   "metadata": {},
   "source": [
    "## Question 7\n",
    "\n",
    "Implement key generation, encryption, and decryption for the ElGamal cryptosystem."
   ]
  },
  {
   "cell_type": "code",
   "execution_count": null,
   "metadata": {
    "deletable": false,
    "nbgrader": {
     "cell_type": "code",
     "checksum": "25755fb0b09dfa264e91532ee4d73df4",
     "grade": false,
     "grade_id": "cell-18ca2f5e2b7f9bec",
     "locked": false,
     "schema_version": 3,
     "solution": true,
     "task": false
    }
   },
   "outputs": [],
   "source": [
    "def keygen(q):\n",
    "    # Public key: (G, q, g, h)\n",
    "    # (G is implicit here)\n",
    "    # Private key: x\n",
    "\n",
    "    # YOUR CODE HERE\n",
    "    raise NotImplementedError()"
   ]
  },
  {
   "cell_type": "code",
   "execution_count": null,
   "metadata": {
    "deletable": false,
    "nbgrader": {
     "cell_type": "code",
     "checksum": "3cedc775da3cac87a2ba5a048b2de49f",
     "grade": false,
     "grade_id": "cell-79992aaf2027f199",
     "locked": false,
     "schema_version": 3,
     "solution": true,
     "task": false
    }
   },
   "outputs": [],
   "source": [
    "def encrypt(msg, pk):\n",
    "    q, g, h = pk\n",
    "    \n",
    "    # YOUR CODE HERE\n",
    "    raise NotImplementedError()"
   ]
  },
  {
   "cell_type": "code",
   "execution_count": null,
   "metadata": {
    "deletable": false,
    "nbgrader": {
     "cell_type": "code",
     "checksum": "fe4a9ad1484df910b897f610fcbcfac0",
     "grade": false,
     "grade_id": "cell-95ebe53b4bd6cbb7",
     "locked": false,
     "schema_version": 3,
     "solution": true,
     "task": false
    }
   },
   "outputs": [],
   "source": [
    "def decrypt(c, x, pk):\n",
    "    c1, c2 = c\n",
    "    q, g, h = pk\n",
    "\n",
    "    # YOUR CODE HERE\n",
    "    raise NotImplementedError()"
   ]
  },
  {
   "cell_type": "code",
   "execution_count": null,
   "metadata": {
    "deletable": false,
    "editable": false,
    "nbgrader": {
     "cell_type": "code",
     "checksum": "3e667832ef55164ef0d6eaccc2dad18a",
     "grade": true,
     "grade_id": "cell-b28eaa34531ddcba",
     "locked": true,
     "points": 5,
     "schema_version": 3,
     "solution": false,
     "task": false
    }
   },
   "outputs": [],
   "source": [
    "# TEST CASE\n",
    "q = 2**127 - 1\n",
    "\n",
    "sk, pk = keygen(q)\n",
    "c = encrypt(50, pk) \n",
    "\n",
    "decrypt(c, sk, pk)"
   ]
  },
  {
   "cell_type": "markdown",
   "metadata": {},
   "source": [
    "## Question 8\n",
    "\n",
    "Implement multiplication of ElGamal ciphertexts."
   ]
  },
  {
   "cell_type": "code",
   "execution_count": null,
   "metadata": {
    "deletable": false,
    "nbgrader": {
     "cell_type": "code",
     "checksum": "03b2887b8c0c4d3bb0a0f664285aba5c",
     "grade": false,
     "grade_id": "cell-0e9ac5e36bbf07c6",
     "locked": false,
     "schema_version": 3,
     "solution": true,
     "task": false
    }
   },
   "outputs": [],
   "source": [
    "def e_mult(c1, c2, pk):\n",
    "    q, g, h = pk\n",
    "\n",
    "    # YOUR CODE HERE\n",
    "    raise NotImplementedError()"
   ]
  },
  {
   "cell_type": "code",
   "execution_count": null,
   "metadata": {
    "deletable": false,
    "editable": false,
    "nbgrader": {
     "cell_type": "code",
     "checksum": "51794538fbbbeeb66b41e9a89c53e89f",
     "grade": true,
     "grade_id": "cell-ca093a01b7afda2a",
     "locked": true,
     "points": 5,
     "schema_version": 3,
     "solution": false,
     "task": false
    }
   },
   "outputs": [],
   "source": [
    "# TEST CASE\n",
    "sk, pk = keygen(q)\n",
    "c1 = encrypt(5, pk)\n",
    "c2 = encrypt(10, pk)\n",
    "c3 = e_mult(c1, c2, pk)\n",
    "\n",
    "assert decrypt(c3, sk, pk) == 50"
   ]
  },
  {
   "cell_type": "markdown",
   "metadata": {},
   "source": [
    "## Question 9\n",
    "\n",
    "Describe the differences between the Pallier and ElGamal cryptosystems."
   ]
  },
  {
   "cell_type": "markdown",
   "metadata": {
    "deletable": false,
    "nbgrader": {
     "cell_type": "markdown",
     "checksum": "744fa57b0775891366dcc1a981db1a85",
     "grade": true,
     "grade_id": "cell-a4d17fe6ac46f2a0",
     "locked": false,
     "points": 5,
     "schema_version": 3,
     "solution": true,
     "task": false
    }
   },
   "source": [
    "YOUR ANSWER HERE"
   ]
  }
 ],
 "metadata": {
  "kernelspec": {
   "display_name": "Python 3 (ipykernel)",
   "language": "python",
   "name": "python3"
  },
  "language_info": {
   "codemirror_mode": {
    "name": "ipython",
    "version": 3
   },
   "file_extension": ".py",
   "mimetype": "text/x-python",
   "name": "python",
   "nbconvert_exporter": "python",
   "pygments_lexer": "ipython3",
   "version": "3.10.4"
  }
 },
 "nbformat": 4,
 "nbformat_minor": 4
}
