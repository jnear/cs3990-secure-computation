{
 "cells": [
  {
   "cell_type": "markdown",
   "metadata": {},
   "source": [
    "# CS 3990/5990: Secure Distributed Computation\n",
    "## In-Class Exercise, week of 9/18/2023"
   ]
  },
  {
   "cell_type": "code",
   "execution_count": null,
   "metadata": {},
   "outputs": [],
   "source": [
    "# Imports and definitions\n",
    "import numpy as np\n",
    "from collections import defaultdict\n",
    "import numpy as np\n",
    "import galois\n",
    "GF = galois.GF(2 ** 13 - 1)"
   ]
  },
  {
   "cell_type": "code",
   "execution_count": null,
   "metadata": {},
   "outputs": [],
   "source": [
    "class Party:\n",
    "    \"\"\"A participant in a multiparty computation protocol.\"\"\"\n",
    "    def __init__(self):\n",
    "        \"\"\"Initialize the field size and dictionary to hold received messages.\"\"\"\n",
    "        self.input = None\n",
    "        self.output = None\n",
    "        self.received = defaultdict(list)\n",
    "    \n",
    "    def send(self, other, round, msg):\n",
    "        \"\"\"Simulate sending a message `msg` to another party `other` during round `round`\"\"\"\n",
    "        other.received[round].append(msg)\n",
    "\n",
    "    def get_view(self):\n",
    "        \"\"\"Returns the view of this party: its input, output, and received messages.\"\"\"\n",
    "        return (self.input, self.output, dict(self.received))\n",
    "\n",
    "# Generate Shamir shares for secret v with threshold t and number of shares n\n",
    "def shamir_share(v, t, n):\n",
    "    coefficients = GF([GF.Random() for _ in range(t-1)] + [v])\n",
    "    poly = galois.Poly(coefficients)\n",
    "    shares = [(GF(x), poly(GF(x))) for x in range(1, n+1)]\n",
    "    return shares\n",
    "\n",
    "# Reconstruct the secret from at least t Shamir shares\n",
    "def reconstruct(shares):\n",
    "    xs = GF([s[0] for s in shares])\n",
    "    ys = GF([s[1] for s in shares])\n",
    "    poly = galois.lagrange_poly(xs, ys)\n",
    "    #print(poly)\n",
    "    secret = poly(0)\n",
    "    \n",
    "    return secret"
   ]
  },
  {
   "cell_type": "markdown",
   "metadata": {},
   "source": [
    "## Question 1\n",
    "\n",
    "Write code to generate shares of a secret $x$ in a $(t, n)$-secret sharing scheme using Shamir's technique, where $n = 5$ and $t = 2$."
   ]
  },
  {
   "cell_type": "code",
   "execution_count": null,
   "metadata": {
    "deletable": false,
    "nbgrader": {
     "cell_type": "code",
     "checksum": "0c1e6f11f56316761bc9751dca4721e7",
     "grade": false,
     "grade_id": "cell-5009ee71e62855fc",
     "locked": false,
     "schema_version": 3,
     "solution": true,
     "task": false
    }
   },
   "outputs": [],
   "source": [
    "def shr_2_5(v):\n",
    "    # YOUR CODE HERE\n",
    "    raise NotImplementedError()"
   ]
  },
  {
   "cell_type": "code",
   "execution_count": null,
   "metadata": {},
   "outputs": [],
   "source": [
    "# Example for question 1\n",
    "\n",
    "shr_2_5(GF(5))"
   ]
  },
  {
   "cell_type": "code",
   "execution_count": null,
   "metadata": {
    "deletable": false,
    "editable": false,
    "nbgrader": {
     "cell_type": "code",
     "checksum": "789ac0549119ca349821b9730c3f9de3",
     "grade": true,
     "grade_id": "cell-555fb4fef5fb1a22",
     "locked": true,
     "points": 5,
     "schema_version": 3,
     "solution": false,
     "task": false
    }
   },
   "outputs": [],
   "source": [
    "# TEST CASE for question 1\n",
    "\n",
    "assert len(shr_2_5(GF(5))) == 5"
   ]
  },
  {
   "cell_type": "markdown",
   "metadata": {},
   "source": [
    "## Question 2\n",
    "\n",
    "Write a function to reconstruct the secret, using only two shares."
   ]
  },
  {
   "cell_type": "code",
   "execution_count": null,
   "metadata": {
    "deletable": false,
    "nbgrader": {
     "cell_type": "code",
     "checksum": "36cad7bc3f8a20ed6211f16a1fc5dbf9",
     "grade": false,
     "grade_id": "cell-e32dd909f78b8f42",
     "locked": false,
     "schema_version": 3,
     "solution": true,
     "task": false
    }
   },
   "outputs": [],
   "source": [
    "def reconstruct(s1, s2):\n",
    "    # YOUR CODE HERE\n",
    "    raise NotImplementedError()\n",
    "\n",
    "shares = shr_2_5(GF(5))\n",
    "reconstruct(shares[0], shares[1])"
   ]
  },
  {
   "cell_type": "code",
   "execution_count": null,
   "metadata": {
    "deletable": false,
    "editable": false,
    "nbgrader": {
     "cell_type": "code",
     "checksum": "006f385aa7d0b15bb9c4687d650c5c71",
     "grade": true,
     "grade_id": "cell-65162c80c83feaa7",
     "locked": true,
     "points": 5,
     "schema_version": 3,
     "solution": false,
     "task": false
    }
   },
   "outputs": [],
   "source": [
    "# TEST CASE\n",
    "shares = shr_2_5(GF(5))\n",
    "assert reconstruct(shares[0], shares[1]) == GF(5)"
   ]
  },
  {
   "cell_type": "markdown",
   "metadata": {},
   "source": [
    "## Question 3\n",
    "\n",
    "Why is a threshold secret sharing scheme more useful than the simpler additive secret sharing scheme we saw earlier?"
   ]
  },
  {
   "cell_type": "markdown",
   "metadata": {
    "deletable": false,
    "nbgrader": {
     "cell_type": "markdown",
     "checksum": "53e5a1f680ae79d21d0e09da61ab5aeb",
     "grade": true,
     "grade_id": "cell-021796358da78ff7",
     "locked": false,
     "points": 5,
     "schema_version": 3,
     "solution": true,
     "task": false
    }
   },
   "source": [
    "YOUR ANSWER HERE"
   ]
  },
  {
   "cell_type": "markdown",
   "metadata": {},
   "source": [
    "## Question 4\n",
    "\n",
    "Write code to generate shares of a secret $x$ in a $(t, n)$-secret sharing scheme using Shamir's technique, for any $t$ and $n$."
   ]
  },
  {
   "cell_type": "code",
   "execution_count": null,
   "metadata": {
    "deletable": false,
    "nbgrader": {
     "cell_type": "code",
     "checksum": "66b9acd0a36169cab906fedd756517dd",
     "grade": false,
     "grade_id": "cell-34c3029e58f042c0",
     "locked": false,
     "schema_version": 3,
     "solution": true,
     "task": false
    }
   },
   "outputs": [],
   "source": [
    "def shamir_share(v, t, n):\n",
    "    # YOUR CODE HERE\n",
    "    raise NotImplementedError()\n",
    "\n",
    "shamir_share(GF(5), 3, 6)"
   ]
  },
  {
   "cell_type": "code",
   "execution_count": null,
   "metadata": {},
   "outputs": [],
   "source": [
    "# Example for question 1\n",
    "\n",
    "shr_2_5(GF(5))"
   ]
  },
  {
   "cell_type": "code",
   "execution_count": null,
   "metadata": {
    "deletable": false,
    "editable": false,
    "nbgrader": {
     "cell_type": "code",
     "checksum": "86264221a6cf08afd47cd22c816d3187",
     "grade": true,
     "grade_id": "cell-a6374001a42a98cf",
     "locked": true,
     "points": 5,
     "schema_version": 3,
     "solution": false,
     "task": false
    }
   },
   "outputs": [],
   "source": [
    "# TEST CASE\n",
    "assert len(shamir_share(GF(5), 3, 6)) == 6\n",
    "shares = shamir_share(GF(5), 2, 6)\n",
    "assert reconstruct(shares[0], shares[1]) == GF(5)"
   ]
  },
  {
   "cell_type": "markdown",
   "metadata": {},
   "source": [
    "## Question 5\n",
    "\n",
    "Given the two sets of shares `shares1` and `shares2` below, write a function whose output is their sum (as a set of shares)."
   ]
  },
  {
   "cell_type": "code",
   "execution_count": null,
   "metadata": {
    "deletable": false,
    "nbgrader": {
     "cell_type": "code",
     "checksum": "54d4dfaed6dda4687694107739af00a1",
     "grade": false,
     "grade_id": "cell-96a3bb1415b78611",
     "locked": false,
     "schema_version": 3,
     "solution": true,
     "task": false
    }
   },
   "outputs": [],
   "source": [
    "shares1 = shamir_share(GF(20), 2, 6)\n",
    "shares2 = shamir_share(GF(5), 2, 6)\n",
    "\n",
    "def add_shares(shares1, shares2):\n",
    "    # YOUR CODE HERE\n",
    "    raise NotImplementedError()\n",
    "\n",
    "added_shares = add_shares(shares1, shares2)\n",
    "print(added_shares)\n",
    "reconstruct(added_shares[0], added_shares[1])"
   ]
  },
  {
   "cell_type": "code",
   "execution_count": null,
   "metadata": {
    "deletable": false,
    "editable": false,
    "nbgrader": {
     "cell_type": "code",
     "checksum": "defc408c2c7e4e211850672743d18b3b",
     "grade": true,
     "grade_id": "cell-fc07ee60a24605f8",
     "locked": true,
     "points": 5,
     "schema_version": 3,
     "solution": false,
     "task": false
    }
   },
   "outputs": [],
   "source": [
    "# TEST CASE\n",
    "added_shares = add_shares(shares1, shares2)\n",
    "assert reconstruct(added_shares[0], added_shares[2]) == GF(25)"
   ]
  },
  {
   "cell_type": "markdown",
   "metadata": {},
   "source": [
    "## Question 6\n",
    "\n",
    "Write a function to reconstruct a secret from a set of at least $t$ shares. Use the `galois.lagrange_poly` function, which implements [Lagrange interpolation](https://en.wikipedia.org/wiki/Lagrange_polynomial)."
   ]
  },
  {
   "cell_type": "code",
   "execution_count": null,
   "metadata": {
    "deletable": false,
    "nbgrader": {
     "cell_type": "code",
     "checksum": "51ec718588dc29e2c4da9d837fd6a582",
     "grade": false,
     "grade_id": "cell-8e6f22549d0766db",
     "locked": false,
     "schema_version": 3,
     "solution": true,
     "task": false
    }
   },
   "outputs": [],
   "source": [
    "def reconstruct(shares):\n",
    "    # YOUR CODE HERE\n",
    "    raise NotImplementedError()\n",
    "\n",
    "reconstruct(added_shares)"
   ]
  },
  {
   "cell_type": "code",
   "execution_count": null,
   "metadata": {
    "deletable": false,
    "editable": false,
    "nbgrader": {
     "cell_type": "code",
     "checksum": "663d090acc4bedbabd75a690d3a22954",
     "grade": true,
     "grade_id": "cell-0fc28d5b0ecdae18",
     "locked": true,
     "points": 5,
     "schema_version": 3,
     "solution": false,
     "task": false
    }
   },
   "outputs": [],
   "source": [
    "# TEST CASE\n",
    "shares = shamir_share(GF(30), 5, 10)\n",
    "assert reconstruct(shares) == GF(30)\n",
    "assert reconstruct(shares[:5]) == GF(30)  # t shares are sufficient\n",
    "assert reconstruct(shares[:4]) != GF(30)  # t - 1 shares are not sufficient"
   ]
  },
  {
   "cell_type": "markdown",
   "metadata": {},
   "source": [
    "## Question 7\n",
    "\n",
    "Given the two sets of shares `shares1` and `shares2` below, write a function whose output is their product (as a set of shares)."
   ]
  },
  {
   "cell_type": "code",
   "execution_count": null,
   "metadata": {
    "deletable": false,
    "nbgrader": {
     "cell_type": "code",
     "checksum": "b9cf0a10cb95f631d81ad82372ce164d",
     "grade": false,
     "grade_id": "cell-27b6a75239e0abfc",
     "locked": false,
     "schema_version": 3,
     "solution": true,
     "task": false
    }
   },
   "outputs": [],
   "source": [
    "shares1 = shamir_share(GF(20), 3, 6)\n",
    "shares2 = shamir_share(GF(3), 3, 6)\n",
    "\n",
    "def mult_shares(shares1, shares2):\n",
    "    # YOUR CODE HERE\n",
    "    raise NotImplementedError()\n",
    "\n",
    "product_shares = mult_shares(shares1, shares2)\n",
    "print(product_shares)\n",
    "reconstruct(shares1)\n",
    "reconstruct(product_shares)"
   ]
  },
  {
   "cell_type": "code",
   "execution_count": null,
   "metadata": {
    "deletable": false,
    "editable": false,
    "nbgrader": {
     "cell_type": "code",
     "checksum": "701c49445c25c5a0eac46ac6120e8d2e",
     "grade": true,
     "grade_id": "cell-a208fe44dcacec08",
     "locked": true,
     "points": 5,
     "schema_version": 3,
     "solution": false,
     "task": false
    }
   },
   "outputs": [],
   "source": [
    "# TEST CASE\n",
    "product_shares = mult_shares(shares1, shares2)\n",
    "\n",
    "assert reconstruct(product_shares) == GF(60)\n",
    "assert reconstruct(product_shares[:4]) != GF(60)  # t shares are no longer sufficient"
   ]
  },
  {
   "cell_type": "markdown",
   "metadata": {},
   "source": [
    "## Question 8\n",
    "\n",
    "Describe a protocol to multiply two input numbers. The input numbers will be secret-shared according to a $(t,n)$ Shamir secret sharing scheme before the protocol starts, and each party will receive one share of both numbers. Each party should output *one share of the product*, using a $(t, n)$ Shamir secret sharing scheme (i.e. the threshold for the output should be the same as the threshold for the input).\n",
    "\n",
    "\\begin{equation*}\n",
    "\\textbf{Functionality: Multiply Two Numbers}\\\\\n",
    "\\fbox{$\\mathcal{F}(a, b) = a \\cdot b$}\n",
    "\\end{equation*}\n",
    "\n",
    "\n"
   ]
  },
  {
   "cell_type": "markdown",
   "metadata": {
    "deletable": false,
    "nbgrader": {
     "cell_type": "markdown",
     "checksum": "82256c3a02c15ef5669cc35767c84f8f",
     "grade": true,
     "grade_id": "cell-6df68c07c24abf58",
     "locked": false,
     "points": 5,
     "schema_version": 3,
     "solution": true,
     "task": false
    }
   },
   "source": [
    "YOUR ANSWER HERE"
   ]
  },
  {
   "cell_type": "markdown",
   "metadata": {},
   "source": [
    "## Question 9\n",
    "\n",
    "Implement your protocol from the last question."
   ]
  },
  {
   "cell_type": "code",
   "execution_count": null,
   "metadata": {
    "deletable": false,
    "nbgrader": {
     "cell_type": "code",
     "checksum": "3104eb3ae28c671b394d1b837d2438d9",
     "grade": false,
     "grade_id": "cell-47362684de6912c6",
     "locked": false,
     "schema_version": 3,
     "solution": true,
     "task": false
    }
   },
   "outputs": [],
   "source": [
    "class MultTwoParty(Party):\n",
    "    def round1(self, parties, a_shr, b_shr, t):\n",
    "        self.input = (a_shr, b_shr)\n",
    "        self.parties = parties\n",
    "        n = len(parties)\n",
    "        assert t <= n/2\n",
    "        \n",
    "        # YOUR CODE HERE\n",
    "        raise NotImplementedError()\n",
    "\n",
    "    def round2(self):\n",
    "        n = len(self.parties)\n",
    "        \n",
    "        # YOUR CODE HERE\n",
    "        raise NotImplementedError()"
   ]
  },
  {
   "cell_type": "code",
   "execution_count": null,
   "metadata": {
    "deletable": false,
    "editable": false,
    "nbgrader": {
     "cell_type": "code",
     "checksum": "4ab5079b515793ce8c850da2f5bdc5f6",
     "grade": true,
     "grade_id": "cell-0151a9043c28b815",
     "locked": true,
     "points": 5,
     "schema_version": 3,
     "solution": false,
     "task": false
    }
   },
   "outputs": [],
   "source": [
    "NUM_PARTIES = 6\n",
    "# (t, n)-Shamir scheme\n",
    "n = NUM_PARTIES\n",
    "t = 3\n",
    "\n",
    "shares1 = shamir_share(5, t, n)\n",
    "shares2 = shamir_share(6, t, n)\n",
    "\n",
    "parties = [MultTwoParty() for _ in range(NUM_PARTIES)]\n",
    "\n",
    "for p,s1,s2 in zip(parties, shares1, shares2):\n",
    "    p.round1(parties, s1, s2, t)\n",
    "for p in parties:\n",
    "    p.round2()\n",
    "for p in parties:\n",
    "    print(p.get_view())\n",
    "\n",
    "output_shares = [p.output for p in parties]\n",
    "print('Reconstruction, with all shares:', reconstruct(output_shares))\n",
    "print('Reconstruction, with 3 shares:', reconstruct(output_shares[:3]))\n",
    "print('Reconstruction, with 2 shares:', reconstruct(output_shares[:2]))\n",
    "\n",
    "assert reconstruct(output_shares) == 30\n",
    "assert reconstruct(output_shares[:3]) == 30\n",
    "assert reconstruct(output_shares[:2]) != 30"
   ]
  },
  {
   "cell_type": "markdown",
   "metadata": {},
   "source": [
    "# Circuits\n",
    "\n",
    "- Overview of the BGW protocol: [Pragmatic MPC, Section 3.3](https://securecomputation.org/docs/pragmaticmpc.pdf)\n",
    "- Vandermonde Matrices for polynomial evaluation: [Asharov & Lindell, 2011, Section 3.3, Definition 3.6](https://eprint.iacr.org/2011/136.pdf)\n",
    "- Formal protocol description (GRR protocol): [Lindell & Nof, 2017, Appendix B.3 (Protocol B.3)](https://eprint.iacr.org/2017/816.pdf)"
   ]
  },
  {
   "cell_type": "code",
   "execution_count": null,
   "metadata": {},
   "outputs": [],
   "source": [
    "# Library for binary circuits\n",
    "from collections import namedtuple\n",
    "AddGate = namedtuple('AddGate', ['in1', 'in2'])\n",
    "MultGate = namedtuple('MultGate', ['in1', 'in2'])\n",
    "#Gate = namedtuple('Gate', ['type', 'in1', 'in2', 'out'])\n",
    "\n",
    "from dataclasses import dataclass\n",
    "\n",
    "@dataclass\n",
    "class Gate:\n",
    "    type: str\n",
    "    in1: int\n",
    "    in2: int\n",
    "    out: int\n",
    "\n",
    "@dataclass\n",
    "class Circuit:\n",
    "    inputs: any\n",
    "    outputs: any\n",
    "    gates: any\n",
    "        \n",
    "def print_circuit(c):\n",
    "    print('inputs:', c.inputs)\n",
    "    print('outputs:', c.outputs)\n",
    "    print('gates:')\n",
    "    for g in c.gates:\n",
    "        print('  ', g)"
   ]
  },
  {
   "cell_type": "markdown",
   "metadata": {},
   "source": [
    "## Question 10\n",
    "\n",
    "Write a function `sum_circuit` that builds an arithmetic circuit for summing up a set of `n` inputs."
   ]
  },
  {
   "cell_type": "code",
   "execution_count": null,
   "metadata": {
    "deletable": false,
    "nbgrader": {
     "cell_type": "code",
     "checksum": "7b4c9a3e0b8f389c42ca1f5ffd42277a",
     "grade": false,
     "grade_id": "cell-df91e375c98fd148",
     "locked": false,
     "schema_version": 3,
     "solution": true,
     "task": false
    }
   },
   "outputs": [],
   "source": [
    "def sum_circuit(n):\n",
    "    # YOUR CODE HERE\n",
    "    raise NotImplementedError()"
   ]
  },
  {
   "cell_type": "code",
   "execution_count": null,
   "metadata": {},
   "outputs": [],
   "source": [
    "print_circuit(sum_circuit(4))"
   ]
  },
  {
   "cell_type": "code",
   "execution_count": null,
   "metadata": {
    "deletable": false,
    "editable": false,
    "nbgrader": {
     "cell_type": "code",
     "checksum": "21cca98c085b23eeb3cd39de7d5a266c",
     "grade": true,
     "grade_id": "cell-4694c53c288d45f2",
     "locked": true,
     "points": 5,
     "schema_version": 3,
     "solution": false,
     "task": false
    }
   },
   "outputs": [],
   "source": [
    "# TEST CASE\n",
    "\n",
    "assert sum_circuit(2) == \\\n",
    "  Circuit(inputs=[0, 1], outputs=[3], gates=[Gate(type='ADD', in1=0, in2=1, out=3)])"
   ]
  },
  {
   "cell_type": "code",
   "execution_count": null,
   "metadata": {},
   "outputs": [],
   "source": [
    "import urllib.request\n",
    "adder_url = \"https://homes.esat.kuleuven.be/~nsmart/MPC/adder64.txt\"\n",
    "adder_txt = urllib.request.urlopen(adder_url).read().decode(\"utf-8\")"
   ]
  },
  {
   "cell_type": "code",
   "execution_count": null,
   "metadata": {},
   "outputs": [],
   "source": [
    "# Parse a circuit from a Bristol-Fashion specification\n",
    "def parse_circuit(bristol_fashion_text):\n",
    "    lines = [l.strip() for l in bristol_fashion_text.split('\\n') if l != '']\n",
    "    total_wires = int(lines[0].split(' ')[1])\n",
    "    inputs = lines[1]\n",
    "    outputs = lines[2]\n",
    "    gates_txt = lines[3:]\n",
    "    gates = []\n",
    "    \n",
    "    # parse the gates\n",
    "    for g_txt in gates_txt:\n",
    "        sp = g_txt.split(' ')\n",
    "        gate_type = sp[-1]\n",
    "        if gate_type in ['XOR', 'AND']:\n",
    "            _, _, in1, in2, out, typ = g_txt.split(' ')\n",
    "        elif gate_type == 'INV':\n",
    "            _, _, in1, out, typ = g_txt.split(' ')\n",
    "            in2 = -1\n",
    "        else:\n",
    "            raise RuntimeError('unknown gate type:', gate_type)\n",
    "        gates.append(Gate(typ, int(in1), int(in2), int(out)))\n",
    "    \n",
    "    ins = inputs.split(' ')\n",
    "    num_inputs = int(ins[0])\n",
    "    \n",
    "    # generate the bundles of input wires\n",
    "    w = 0\n",
    "    input_bundle_sizes = [int(x) for x in inputs.split(' ')[1:]]\n",
    "    inputs = []\n",
    "    for bundle_size in ins[1:]:\n",
    "        inputs.append(list(range(w, w+int(bundle_size))))\n",
    "        w += int(bundle_size)\n",
    "\n",
    "    # generate the bundles of output wires\n",
    "    output_bundle_sizes = [int(x) for x in outputs.split(' ')[1:]]\n",
    "    total_output_wires = sum(output_bundle_sizes)\n",
    "    w = total_wires - total_output_wires\n",
    "    outputs = []\n",
    "    for bundle_size in output_bundle_sizes:\n",
    "        outputs.append(list(range(w, w+int(bundle_size))))\n",
    "        w += int(bundle_size)\n",
    "    \n",
    "    return Circuit(inputs, outputs, gates)"
   ]
  },
  {
   "cell_type": "code",
   "execution_count": null,
   "metadata": {},
   "outputs": [],
   "source": [
    "print_circuit(parse_circuit(adder_txt))"
   ]
  },
  {
   "cell_type": "markdown",
   "metadata": {},
   "source": [
    "## Question 11\n",
    "\n",
    "Implement a function `eval_circuit` for evaluating circuits."
   ]
  },
  {
   "cell_type": "code",
   "execution_count": null,
   "metadata": {
    "deletable": false,
    "nbgrader": {
     "cell_type": "code",
     "checksum": "80ffbaf8ce402cc193c149246e5cc88d",
     "grade": false,
     "grade_id": "cell-7284d4d25dfd3521",
     "locked": false,
     "schema_version": 3,
     "solution": true,
     "task": false
    }
   },
   "outputs": [],
   "source": [
    "def int_to_bitstring(i, n):\n",
    "    return [int(x) for x in list(reversed('{0:0b}'.format(i).zfill(n)))]\n",
    "\n",
    "def bitstring_to_int(bs):\n",
    "    return sum([x*(2**i) for i, x in enumerate(bs)])\n",
    "\n",
    "def eval_circuit(inputs, circuit):\n",
    "    # YOUR CODE HERE\n",
    "    raise NotImplementedError()"
   ]
  },
  {
   "cell_type": "code",
   "execution_count": null,
   "metadata": {
    "deletable": false,
    "editable": false,
    "nbgrader": {
     "cell_type": "code",
     "checksum": "54458f6db05efb851cc3ac654283e1dd",
     "grade": true,
     "grade_id": "cell-de3b8592144ad435",
     "locked": true,
     "points": 5,
     "schema_version": 3,
     "solution": false,
     "task": false
    }
   },
   "outputs": [],
   "source": [
    "# TEST CASE\n",
    "# Example: 5 + 6 = 11\n",
    "circuit = parse_circuit(adder_txt)\n",
    "inputs = [int_to_bitstring(5, 64), int_to_bitstring(6, 64)]\n",
    "outputs = eval_circuit(inputs, parse_circuit(adder_txt))\n",
    "assert [bitstring_to_int(b) for b in outputs] == [11]"
   ]
  },
  {
   "cell_type": "code",
   "execution_count": null,
   "metadata": {},
   "outputs": [],
   "source": [
    "sha256_url = \"https://homes.esat.kuleuven.be/~nsmart/MPC/sha256.txt\"\n",
    "sha256_txt = urllib.request.urlopen(sha256_url).read().decode(\"utf-8\")\n",
    "\n",
    "sha256_circuit = parse_circuit(sha256_txt)"
   ]
  },
  {
   "cell_type": "code",
   "execution_count": null,
   "metadata": {},
   "outputs": [],
   "source": [
    "# Example: SHA256 hash of a bunch of 1s\n",
    "test_inputs = [[1 for x in y] for y in sha256_circuit.inputs]\n",
    "outputs = eval_circuit(test_inputs, sha256_circuit)\n",
    "bitstring_to_int(outputs[0])"
   ]
  },
  {
   "cell_type": "markdown",
   "metadata": {},
   "source": [
    "## Question 12\n",
    "\n",
    "Sketch the BGW protocol for evaluating an arithmetic or boolean circuit with $n$ parties."
   ]
  },
  {
   "cell_type": "markdown",
   "metadata": {
    "deletable": false,
    "nbgrader": {
     "cell_type": "markdown",
     "checksum": "f7e95bebf9a4b39541e1098c9213a047",
     "grade": true,
     "grade_id": "cell-179ac605162b991c",
     "locked": false,
     "points": 5,
     "schema_version": 3,
     "solution": true,
     "task": false
    }
   },
   "source": [
    "YOUR ANSWER HERE"
   ]
  }
 ],
 "metadata": {
  "kernelspec": {
   "display_name": "Python 3 (ipykernel)",
   "language": "python",
   "name": "python3"
  },
  "language_info": {
   "codemirror_mode": {
    "name": "ipython",
    "version": 3
   },
   "file_extension": ".py",
   "mimetype": "text/x-python",
   "name": "python",
   "nbconvert_exporter": "python",
   "pygments_lexer": "ipython3",
   "version": "3.10.12"
  }
 },
 "nbformat": 4,
 "nbformat_minor": 4
}
