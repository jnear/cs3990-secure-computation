{
 "cells": [
  {
   "cell_type": "markdown",
   "metadata": {},
   "source": [
    "# CS3990/5990: Secure Distributed Computation\n",
    "## In-Class Exercise, Week of 8/28/2023"
   ]
  },
  {
   "cell_type": "markdown",
   "metadata": {},
   "source": [
    "# Question 1\n",
    "\n",
    "Write functions `enc` and `dec` for an additively homomorphic cryptosystem over the integers."
   ]
  },
  {
   "cell_type": "code",
   "execution_count": null,
   "metadata": {
    "deletable": false,
    "nbgrader": {
     "cell_type": "code",
     "checksum": "b90a7e981b86dfa5ce956fb09df5fb85",
     "grade": false,
     "grade_id": "cell-16a7ad376675c884",
     "locked": false,
     "schema_version": 3,
     "solution": true,
     "task": false
    }
   },
   "outputs": [],
   "source": [
    "import numpy as np\n",
    "\n",
    "def enc(x):\n",
    "    # YOUR CODE HERE\n",
    "    raise NotImplementedError()\n",
    "\n",
    "def dec(pair):\n",
    "    c, k = pair\n",
    "    # YOUR CODE HERE\n",
    "    raise NotImplementedError()"
   ]
  },
  {
   "cell_type": "code",
   "execution_count": null,
   "metadata": {
    "deletable": false,
    "editable": false,
    "nbgrader": {
     "cell_type": "code",
     "checksum": "838fa3f7b937ac7fe26af6afc6e3c971",
     "grade": true,
     "grade_id": "cell-03410747a69767fb",
     "locked": true,
     "points": 5,
     "schema_version": 3,
     "solution": false,
     "task": false
    }
   },
   "outputs": [],
   "source": [
    "assert dec(enc(5)) == 5\n",
    "assert dec(enc(0)) == 0\n",
    "assert dec(enc(1)) == 1\n",
    "\n",
    "c, k = enc(5)\n",
    "assert dec((c + 10, k)) == 15\n",
    "\n",
    "c2, k2 = enc(20)\n",
    "assert dec((c + c2, k + k2)) == 25"
   ]
  },
  {
   "cell_type": "markdown",
   "metadata": {},
   "source": [
    "# Question 2\n",
    "\n",
    "Why is the above solution considered a *one-time pad*?"
   ]
  },
  {
   "cell_type": "markdown",
   "metadata": {
    "deletable": false,
    "nbgrader": {
     "cell_type": "markdown",
     "checksum": "54285dc1d9023a5f025e1428f788c2f8",
     "grade": true,
     "grade_id": "cell-2307aecc419781d8",
     "locked": false,
     "points": 5,
     "schema_version": 3,
     "solution": true,
     "task": false
    }
   },
   "source": [
    "YOUR ANSWER HERE"
   ]
  },
  {
   "cell_type": "markdown",
   "metadata": {},
   "source": [
    "# Question 3\n",
    "\n",
    "What is problematic (for security) about the use of integers in the above solution?"
   ]
  },
  {
   "cell_type": "markdown",
   "metadata": {
    "deletable": false,
    "nbgrader": {
     "cell_type": "markdown",
     "checksum": "fa707c7f9fb5ef2710de2751509c481d",
     "grade": true,
     "grade_id": "cell-52c5ebcaef37ac22",
     "locked": false,
     "points": 0,
     "schema_version": 3,
     "solution": true,
     "task": false
    }
   },
   "source": [
    "YOUR ANSWER HERE"
   ]
  },
  {
   "cell_type": "markdown",
   "metadata": {},
   "source": [
    "## Question 4\n",
    "\n",
    "Write functions `plusFE` and `multFE` that add and multiply two field elements in $GF(p)$, respectively."
   ]
  },
  {
   "cell_type": "code",
   "execution_count": null,
   "metadata": {
    "deletable": false,
    "nbgrader": {
     "cell_type": "code",
     "checksum": "988309066207bd3c396dbdafd4d605ec",
     "grade": false,
     "grade_id": "cell-c9adfe88526cc324",
     "locked": false,
     "schema_version": 3,
     "solution": true,
     "task": false
    }
   },
   "outputs": [],
   "source": [
    "def plusFE(p, a, b):\n",
    "    # YOUR CODE HERE\n",
    "    raise NotImplementedError()\n",
    "    \n",
    "def multFE(p, a, b):\n",
    "    # YOUR CODE HERE\n",
    "    raise NotImplementedError()"
   ]
  },
  {
   "cell_type": "code",
   "execution_count": null,
   "metadata": {
    "deletable": false,
    "editable": false,
    "nbgrader": {
     "cell_type": "code",
     "checksum": "fa7a5429fb920d14cbb6079c6ab13e4b",
     "grade": true,
     "grade_id": "cell-d1dfca2e7cebbcfb",
     "locked": true,
     "points": 5,
     "schema_version": 3,
     "solution": false,
     "task": false
    }
   },
   "outputs": [],
   "source": [
    "assert plusFE(100, 2, 3) == 5\n",
    "assert plusFE(3, 2, 3) == 2\n",
    "assert plusFE(2, 1, 1) == 0\n",
    "assert multFE(100, 2, 5) == 10\n",
    "assert multFE(3, 2, 5) == 1\n",
    "assert multFE(2, 1, 1) == 1\n",
    "assert multFE(2, 1, 0) == 0"
   ]
  },
  {
   "cell_type": "markdown",
   "metadata": {},
   "source": [
    "## Question 5\n",
    "\n",
    "Write functions `enc` and `dec` for an additively homomorphic cryptosystem in the finite field $GF(p)$."
   ]
  },
  {
   "cell_type": "code",
   "execution_count": null,
   "metadata": {
    "deletable": false,
    "nbgrader": {
     "cell_type": "code",
     "checksum": "cf76d2c7a7a51ae059e74f71fc5cd081",
     "grade": false,
     "grade_id": "cell-7e41c12148039b16",
     "locked": false,
     "schema_version": 3,
     "solution": true,
     "task": false
    }
   },
   "outputs": [],
   "source": [
    "def enc(p, x):\n",
    "    # YOUR CODE HERE\n",
    "    raise NotImplementedError()\n",
    "\n",
    "def dec(p, pair):\n",
    "    c, k = pair\n",
    "    # YOUR CODE HERE\n",
    "    raise NotImplementedError()"
   ]
  },
  {
   "cell_type": "code",
   "execution_count": null,
   "metadata": {
    "deletable": false,
    "editable": false,
    "nbgrader": {
     "cell_type": "code",
     "checksum": "7d06eade2a3d585f2accadd0038e1dbc",
     "grade": true,
     "grade_id": "cell-94eb8fd487f35605",
     "locked": true,
     "points": 5,
     "schema_version": 3,
     "solution": false,
     "task": false
    }
   },
   "outputs": [],
   "source": [
    "assert dec(100, enc(100, 5)) == 5\n",
    "assert dec(2, enc(2, 0)) == 0\n",
    "assert dec(2, enc(2, 1)) == 1\n",
    "\n",
    "c, k = enc(100, 5)\n",
    "assert dec(100, (c + 10, k)) == 15"
   ]
  },
  {
   "cell_type": "markdown",
   "metadata": {},
   "source": [
    "## Question 6\n",
    "\n",
    "Write a function `share` that generates $n$ additive secret shares from a single field element $x \\in GF(p)$."
   ]
  },
  {
   "cell_type": "code",
   "execution_count": null,
   "metadata": {
    "deletable": false,
    "nbgrader": {
     "cell_type": "code",
     "checksum": "c1b83394b39599d5996094473668f46b",
     "grade": false,
     "grade_id": "cell-fcf3600eacf9c717",
     "locked": false,
     "schema_version": 3,
     "solution": true,
     "task": false
    }
   },
   "outputs": [],
   "source": [
    "def sumFE(p, xs):\n",
    "    total = 0\n",
    "    for x in xs:\n",
    "        total = plusFE(p, x, total)\n",
    "    return total\n",
    "\n",
    "def share(p, n, x):\n",
    "    # YOUR CODE HERE\n",
    "    raise NotImplementedError()"
   ]
  },
  {
   "cell_type": "code",
   "execution_count": null,
   "metadata": {
    "deletable": false,
    "editable": false,
    "nbgrader": {
     "cell_type": "code",
     "checksum": "ac1df6e2d5f0d83b42b277ca50d55b63",
     "grade": true,
     "grade_id": "cell-79cd6b0e56a18701",
     "locked": true,
     "points": 5,
     "schema_version": 3,
     "solution": false,
     "task": false
    }
   },
   "outputs": [],
   "source": [
    "assert sumFE(100, share(100, 2, 5)) == 5\n",
    "assert sumFE(2, share(2, 5, 1)) == 1\n",
    "assert sumFE(2, share(2, 5, 0)) == 0\n",
    "assert sumFE(2, share(2, 50, 1)) == 1"
   ]
  },
  {
   "cell_type": "code",
   "execution_count": null,
   "metadata": {},
   "outputs": [],
   "source": [
    "# Example\n",
    "print(share(100, 2, 5))\n",
    "print(share(2, 5, 1))"
   ]
  }
 ],
 "metadata": {
  "kernelspec": {
   "display_name": "Python 3 (ipykernel)",
   "language": "python",
   "name": "python3"
  },
  "language_info": {
   "codemirror_mode": {
    "name": "ipython",
    "version": 3
   },
   "file_extension": ".py",
   "mimetype": "text/x-python",
   "name": "python",
   "nbconvert_exporter": "python",
   "pygments_lexer": "ipython3",
   "version": "3.9.13"
  }
 },
 "nbformat": 4,
 "nbformat_minor": 4
}
