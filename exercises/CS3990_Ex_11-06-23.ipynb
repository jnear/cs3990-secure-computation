{
 "cells": [
  {
   "cell_type": "markdown",
   "metadata": {},
   "source": [
    "# CS 3990/5990: Secure Distributed Computation\n",
    "## In-Class Exercise, 11/06/2023"
   ]
  },
  {
   "cell_type": "code",
   "execution_count": null,
   "metadata": {},
   "outputs": [],
   "source": [
    "# Imports and definitions\n",
    "import numpy as np\n",
    "from collections import defaultdict\n",
    "from collections import namedtuple\n",
    "import urllib.request\n",
    "import hashlib"
   ]
  },
  {
   "cell_type": "code",
   "execution_count": null,
   "metadata": {},
   "outputs": [],
   "source": [
    "HashPointer = namedtuple('HashPointer', ['hash', 'pointer'])\n",
    "Transaction = namedtuple('Transaction', ['payer', 'payee', 'amount'])\n",
    "\n",
    "class Block:\n",
    "    def __init__(self, transaction, prev, nonce):\n",
    "        self.transaction = transaction\n",
    "        self.prev = prev\n",
    "        self.nonce = nonce\n",
    "    \n",
    "    def __repr__(self):\n",
    "        return f'\\nBlock(\\n transaction: {self.transaction},\\n nonce: {self.nonce},\\n prev: {self.prev})'"
   ]
  },
  {
   "cell_type": "markdown",
   "metadata": {},
   "source": [
    "## Question 1\n",
    "\n",
    "Implement `add_block`, which constructs a new block to hold a transaction and adds it to the blockchain."
   ]
  },
  {
   "cell_type": "code",
   "execution_count": null,
   "metadata": {
    "deletable": false,
    "nbgrader": {
     "cell_type": "code",
     "checksum": "25147fd480c68e29f7c13594b05962fd",
     "grade": false,
     "grade_id": "cell-5f12b4adc6a1dbb3",
     "locked": false,
     "schema_version": 3,
     "solution": true,
     "task": false
    }
   },
   "outputs": [],
   "source": [
    "def add_block(transaction, blockchain, nonce):\n",
    "    # YOUR CODE HERE\n",
    "    raise NotImplementedError()"
   ]
  },
  {
   "cell_type": "code",
   "execution_count": null,
   "metadata": {
    "deletable": false,
    "editable": false,
    "nbgrader": {
     "cell_type": "code",
     "checksum": "0bdf03e75faa58612c05994d4f2234ec",
     "grade": true,
     "grade_id": "cell-27469c5b8916bc1b",
     "locked": true,
     "points": 5,
     "schema_version": 3,
     "solution": false,
     "task": false
    }
   },
   "outputs": [],
   "source": [
    "first_transaction = Transaction(None, 'Joe', 50000)\n",
    "blockchain = Block(first_transaction, None, None)\n",
    "blockchain"
   ]
  },
  {
   "cell_type": "code",
   "execution_count": null,
   "metadata": {},
   "outputs": [],
   "source": [
    "blockchain, final_hash = add_block(Transaction('Joe', 'Bob', 500), blockchain, None)\n",
    "blockchain"
   ]
  },
  {
   "cell_type": "markdown",
   "metadata": {},
   "source": [
    "## Question 2\n",
    "\n",
    "Implement `check_blockchain`, which checks that the blockchain hasn't been tampered with. The `check_blockchain` function takes the expected hash for the last block in the blockchain, and throws an error if any issue is found."
   ]
  },
  {
   "cell_type": "code",
   "execution_count": null,
   "metadata": {
    "deletable": false,
    "nbgrader": {
     "cell_type": "code",
     "checksum": "f879f45d1442e52cc411bf02597cf1f9",
     "grade": false,
     "grade_id": "cell-1ac19f6470abf808",
     "locked": false,
     "schema_version": 3,
     "solution": true,
     "task": false
    }
   },
   "outputs": [],
   "source": [
    "def check_blockchain(blockchain, expected_hash):\n",
    "    # YOUR CODE HERE\n",
    "    raise NotImplementedError()"
   ]
  },
  {
   "cell_type": "code",
   "execution_count": null,
   "metadata": {
    "deletable": false,
    "editable": false,
    "nbgrader": {
     "cell_type": "code",
     "checksum": "8d76c3b4c3c42e928991a98c117ad8d8",
     "grade": true,
     "grade_id": "cell-9b3cc4b7cb7fd6c0",
     "locked": true,
     "points": 5,
     "schema_version": 3,
     "solution": false,
     "task": false
    }
   },
   "outputs": [],
   "source": [
    "# Test no cheating\n",
    "\n",
    "check_blockchain(blockchain, final_hash)"
   ]
  },
  {
   "cell_type": "code",
   "execution_count": null,
   "metadata": {},
   "outputs": [],
   "source": [
    "# Test cheating!\n",
    "\n",
    "blockchain.transaction = Transaction('Joe', 'Bob', 20)\n",
    "check_blockchain(blockchain, final_hash)"
   ]
  },
  {
   "cell_type": "markdown",
   "metadata": {},
   "source": [
    "## Mining Difficulty"
   ]
  },
  {
   "cell_type": "code",
   "execution_count": null,
   "metadata": {},
   "outputs": [],
   "source": [
    "example_hash = hashlib.sha256(bytes('hello', encoding='utf-8')).digest()\n",
    "print('Length of sha256 hash (bytes):', len(example_hash))\n",
    "print('Max int represented by a sha256 hash:', 2**(len(example_hash) * 8))\n",
    "print('50% difficulty number:', int(2**(len(example_hash) * 8)/2))\n",
    "\n",
    "difficulty_50 = int(2**(len(example_hash) * 8)/2)"
   ]
  },
  {
   "cell_type": "markdown",
   "metadata": {},
   "source": [
    "## Question 1\n",
    "\n",
    "Implement `mine_for_block`, which constructs a new block to hold a transaction and adds it to the blockchain *by mining*."
   ]
  },
  {
   "cell_type": "code",
   "execution_count": null,
   "metadata": {
    "deletable": false,
    "nbgrader": {
     "cell_type": "code",
     "checksum": "67c69509a87f431a8ca417d8bb3243ed",
     "grade": true,
     "grade_id": "cell-8fbcb6841fbd4aad",
     "locked": false,
     "points": 5,
     "schema_version": 3,
     "solution": true,
     "task": false
    }
   },
   "outputs": [],
   "source": [
    "def mine_for_block(transaction, blockchain, difficulty):\n",
    "    # YOUR CODE HERE\n",
    "    raise NotImplementedError()\n",
    "\n",
    "new_transaction = Transaction('Joe', 'Bob', 30)\n",
    "mine_for_block(new_transaction, blockchain, difficulty_50)"
   ]
  },
  {
   "cell_type": "code",
   "execution_count": null,
   "metadata": {},
   "outputs": [],
   "source": [
    "difficulty_1 = int(2**(len(example_hash) * 8)/100)\n",
    "mine_for_block(new_transaction, blockchain, difficulty_1)"
   ]
  },
  {
   "cell_type": "code",
   "execution_count": null,
   "metadata": {},
   "outputs": [],
   "source": [
    "difficulty_001 = int(2**(len(example_hash) * 8)/10000)\n",
    "mine_for_block(new_transaction, blockchain, difficulty_001)"
   ]
  },
  {
   "cell_type": "code",
   "execution_count": null,
   "metadata": {},
   "outputs": [],
   "source": [
    "%%time\n",
    "difficulty_00001 = int(2**(len(example_hash) * 8)/100000)\n",
    "mine_for_block(new_transaction, blockchain, difficulty_00001)"
   ]
  },
  {
   "cell_type": "code",
   "execution_count": null,
   "metadata": {},
   "outputs": [],
   "source": [
    "%%time \n",
    "final_difficulty = int(2**(len(example_hash) * 8)/10000000)\n",
    "print('Difficulty:', final_difficulty)\n",
    "mine_for_block(new_transaction, blockchain, final_difficulty)"
   ]
  }
 ],
 "metadata": {
  "kernelspec": {
   "display_name": "Python 3 (ipykernel)",
   "language": "python",
   "name": "python3"
  },
  "language_info": {
   "codemirror_mode": {
    "name": "ipython",
    "version": 3
   },
   "file_extension": ".py",
   "mimetype": "text/x-python",
   "name": "python",
   "nbconvert_exporter": "python",
   "pygments_lexer": "ipython3",
   "version": "3.10.12"
  }
 },
 "nbformat": 4,
 "nbformat_minor": 4
}
