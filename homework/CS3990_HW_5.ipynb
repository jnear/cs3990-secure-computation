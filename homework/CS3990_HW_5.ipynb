{
 "cells": [
  {
   "cell_type": "markdown",
   "metadata": {},
   "source": [
    "# CS 3990/5990: Secure Distributed Computation\n",
    "## Homework 5"
   ]
  },
  {
   "cell_type": "markdown",
   "metadata": {},
   "source": [
    "## Definitions"
   ]
  },
  {
   "cell_type": "code",
   "execution_count": null,
   "metadata": {},
   "outputs": [],
   "source": [
    "# Imports and definitions\n",
    "import numpy as np\n",
    "from collections import defaultdict\n",
    "import urllib.request\n",
    "import galois\n",
    "from nacl.public import PrivateKey, Box, SealedBox\n",
    "\n",
    "GF_2 = galois.GF(2) # we work in the binary field this week!\n",
    "\n",
    "# Library for circuits\n",
    "from dataclasses import dataclass\n",
    "\n",
    "@dataclass\n",
    "class Gate:\n",
    "    type: str\n",
    "    in1: int\n",
    "    in2: int\n",
    "    out: int\n",
    "\n",
    "@dataclass\n",
    "class Circuit:\n",
    "    inputs: any\n",
    "    outputs: any\n",
    "    gates: any\n",
    "\n",
    "class Party:\n",
    "    \"\"\"A participant in a multiparty computation protocol.\"\"\"\n",
    "    def __init__(self):\n",
    "        \"\"\"Initialize the field size and dictionary to hold received messages.\"\"\"\n",
    "        self.input = None\n",
    "        self.output = None\n",
    "        self.received = defaultdict(list)\n",
    "    \n",
    "    def send(self, other, round, msg):\n",
    "        \"\"\"Simulate sending a message `msg` to another party `other` during round `round`\"\"\"\n",
    "        other.received[round].append(msg)\n",
    "\n",
    "    def get_view(self):\n",
    "        \"\"\"Returns the view of this party: its input, output, and received messages.\"\"\"\n",
    "        return (self.input, self.output, dict(self.received))"
   ]
  },
  {
   "cell_type": "markdown",
   "metadata": {},
   "source": [
    "# Parsing Circuits"
   ]
  },
  {
   "cell_type": "code",
   "execution_count": null,
   "metadata": {},
   "outputs": [],
   "source": [
    "import urllib.request\n",
    "adder_url = \"https://homes.esat.kuleuven.be/~nsmart/MPC/adder64.txt\"\n",
    "adder_txt = urllib.request.urlopen(adder_url).read().decode(\"utf-8\")\n",
    "sha256_url = \"https://homes.esat.kuleuven.be/~nsmart/MPC/sha256.txt\"\n",
    "sha256_txt = urllib.request.urlopen(sha256_url).read().decode(\"utf-8\")"
   ]
  },
  {
   "cell_type": "code",
   "execution_count": null,
   "metadata": {},
   "outputs": [],
   "source": [
    "# Parse a circuit from a Bristol-Fashion specification\n",
    "def parse_circuit(bristol_fashion_text):\n",
    "    lines = [l.strip() for l in bristol_fashion_text.split('\\n') if l != '']\n",
    "    total_wires = int(lines[0].split(' ')[1])\n",
    "    inputs = lines[1]\n",
    "    outputs = lines[2]\n",
    "    gates_txt = lines[3:]\n",
    "    gates = []\n",
    "    \n",
    "    # parse the gates\n",
    "    for g_txt in gates_txt:\n",
    "        sp = g_txt.split(' ')\n",
    "        gate_type = sp[-1]\n",
    "        if gate_type in ['XOR', 'AND']:\n",
    "            _, _, in1, in2, out, typ = g_txt.split(' ')\n",
    "        elif gate_type == 'INV':\n",
    "            _, _, in1, out, typ = g_txt.split(' ')\n",
    "            in2 = -1\n",
    "        else:\n",
    "            raise RuntimeError('unknown gate type:', gate_type)\n",
    "        gates.append(Gate(typ, int(in1), int(in2), int(out)))\n",
    "    \n",
    "    ins = inputs.split(' ')\n",
    "    num_inputs = int(ins[0])\n",
    "    \n",
    "    # generate the bundles of input wires\n",
    "    w = 0\n",
    "    input_bundle_sizes = [int(x) for x in inputs.split(' ')[1:]]\n",
    "    inputs = []\n",
    "    for bundle_size in ins[1:]:\n",
    "        inputs.append(list(range(w, w+int(bundle_size))))\n",
    "        w += int(bundle_size)\n",
    "\n",
    "    # generate the bundles of output wires\n",
    "    output_bundle_sizes = [int(x) for x in outputs.split(' ')[1:]]\n",
    "    total_output_wires = sum(output_bundle_sizes)\n",
    "    w = total_wires - total_output_wires\n",
    "    outputs = []\n",
    "    for bundle_size in output_bundle_sizes:\n",
    "        outputs.append(list(range(w, w+int(bundle_size))))\n",
    "        w += int(bundle_size)\n",
    "    \n",
    "    return Circuit(inputs, outputs, gates)\n",
    "\n",
    "def int_to_bitstring(i, n):\n",
    "    return [int(x) for x in list(reversed('{0:0b}'.format(i).zfill(n)))]\n",
    "\n",
    "def bitstring_to_int(bs):\n",
    "    return sum([int(x)*(2**i) for i, x in enumerate(bs)])"
   ]
  },
  {
   "cell_type": "code",
   "execution_count": null,
   "metadata": {},
   "outputs": [],
   "source": [
    "adder = parse_circuit(adder_txt)\n",
    "sha256 = parse_circuit(sha256_txt)"
   ]
  },
  {
   "cell_type": "code",
   "execution_count": null,
   "metadata": {},
   "outputs": [],
   "source": [
    "# Compute the value of an AND gate, using all additive shares of its inputs\n",
    "def S(s1_i, s1_j, s2_i, s2_j):\n",
    "    return (s1_i + s2_i) * (s1_j + s2_j)\n",
    "\n",
    "# Generate the truth table describing P2's share of an AND gate's output\n",
    "def T_G(r, s1_i, s1_j):\n",
    "    combinations = GF_2([(0,0), (0,1), (1,0), (1,1)])\n",
    "    output_table = []\n",
    "    for s2_i, s2_j in combinations:\n",
    "        s2_k = r + S(s1_i, s1_j, s2_i, s2_j)\n",
    "        output_table.append(s2_k)\n",
    "    return output_table"
   ]
  },
  {
   "cell_type": "markdown",
   "metadata": {},
   "source": [
    "## Question 1\n",
    "\n",
    "Implement the GMW protocol.\n",
    "\n",
    "Reference the following exercise questions:\n",
    "- The definition of 1-out-of-4 Oblivious Transfer (OT) from the 10/02/2023 exercise\n",
    "- The definition of the BGW protocol from the 9/25/2023 exercise\n",
    "- The definition of circuit evaluation from the 9/25/2023 exercise"
   ]
  },
  {
   "cell_type": "code",
   "execution_count": null,
   "metadata": {
    "deletable": false,
    "nbgrader": {
     "cell_type": "code",
     "checksum": "d303c640c9bcdc34e9994a463b326c94",
     "grade": false,
     "grade_id": "cell-43df60ca1dac21b6",
     "locked": false,
     "schema_version": 3,
     "solution": true,
     "task": false
    }
   },
   "outputs": [],
   "source": [
    "class GMW_P1(Party):\n",
    "    def __init__(self):\n",
    "        super().__init__()\n",
    "        self.is_done = False\n",
    "        self.phase = 1\n",
    "        self.wire_vals = {-1: None}\n",
    "\n",
    "    def roundn(self, round_num, circuit, inputs, p2):\n",
    "        # YOUR CODE HERE\n",
    "        raise NotImplementedError()\n",
    "\n",
    "class GMW_P2(Party):\n",
    "    def __init__(self):\n",
    "        super().__init__()\n",
    "        self.is_done = False\n",
    "        self.phase = 1\n",
    "        self.wire_vals = {-1: None}\n",
    "\n",
    "    def roundn(self, round_num, circuit, inputs, p1):\n",
    "        # YOUR CODE HERE\n",
    "        raise NotImplementedError()"
   ]
  },
  {
   "cell_type": "code",
   "execution_count": null,
   "metadata": {},
   "outputs": [],
   "source": [
    "# Driver function for the protocol\n",
    "def run_gmw(circuit, p1_input, p1_bitwidth, p2_input, p2_bitwidth):\n",
    "    p1_inputs = int_to_bitstring(p1_input, p1_bitwidth)\n",
    "    p2_inputs = int_to_bitstring(p2_input, p2_bitwidth)\n",
    "\n",
    "    p1 = GMW_P1()\n",
    "    p2 = GMW_P2()\n",
    "\n",
    "    round_num = 1\n",
    "    while not p1.is_done and not p2.is_done:\n",
    "        p1.roundn(round_num, circuit, p1_inputs, p2)\n",
    "        p2.roundn(round_num, circuit, p2_inputs, p1)\n",
    "        round_num += 1\n",
    "#     print('P1 output:', GF_2(p1.output))\n",
    "#     print('P2 output:', GF_2(p2.output))\n",
    "\n",
    "#     print('P1 output (int):', bitstring_to_int(p1.output))\n",
    "#     print('P2 output (int):', bitstring_to_int(p2.output))\n",
    "    \n",
    "    return bitstring_to_int(p1.output), bitstring_to_int(p2.output)"
   ]
  },
  {
   "cell_type": "code",
   "execution_count": null,
   "metadata": {
    "deletable": false,
    "editable": false,
    "nbgrader": {
     "cell_type": "code",
     "checksum": "467953ebc2ce312e5413a86a269baaa1",
     "grade": true,
     "grade_id": "cell-da398f17236fbcd9",
     "locked": true,
     "points": 50,
     "schema_version": 3,
     "solution": false,
     "task": false
    }
   },
   "outputs": [],
   "source": [
    "## ADDER TEST CASE\n",
    "for _ in range(10):\n",
    "    n1 = np.random.randint(0, 1000)\n",
    "    n2 = np.random.randint(0, 1000)\n",
    "    \n",
    "    o1, o2 = run_gmw(adder, n1, 64, n2, 64)\n",
    "    assert o1 == o2 == n1 + n2, f'Mismatch! Inputs {n1}, {n2}, outputs {o1}, {o2}'"
   ]
  },
  {
   "cell_type": "code",
   "execution_count": null,
   "metadata": {},
   "outputs": [],
   "source": [
    "### SHA256 TEST CASE\n",
    "### Warning: takes about a minute to run\n",
    "\n",
    "o1, o2 = run_gmw(sha256, 1, 512, 2, 256)\n",
    "assert o1 == o2 == 62635937818952219496566001010706647480343244544051980721954351996715678910351"
   ]
  }
 ],
 "metadata": {
  "kernelspec": {
   "display_name": "Python 3 (ipykernel)",
   "language": "python",
   "name": "python3"
  },
  "language_info": {
   "codemirror_mode": {
    "name": "ipython",
    "version": 3
   },
   "file_extension": ".py",
   "mimetype": "text/x-python",
   "name": "python",
   "nbconvert_exporter": "python",
   "pygments_lexer": "ipython3",
   "version": "3.10.12"
  }
 },
 "nbformat": 4,
 "nbformat_minor": 4
}
