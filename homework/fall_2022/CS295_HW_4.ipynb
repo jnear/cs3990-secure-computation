{
 "cells": [
  {
   "cell_type": "markdown",
   "metadata": {},
   "source": [
    "# CS295/395: Secure Distributed Computation\n",
    "## Homework 4"
   ]
  },
  {
   "cell_type": "markdown",
   "metadata": {},
   "source": [
    "## Definitions"
   ]
  },
  {
   "cell_type": "code",
   "execution_count": null,
   "metadata": {},
   "outputs": [],
   "source": [
    "# Imports and definitions\n",
    "import numpy as np\n",
    "from collections import defaultdict\n",
    "import urllib.request\n",
    "import galois\n",
    "GF = galois.GF(2 ** 13 - 1)\n",
    "\n",
    "class Party:\n",
    "    \"\"\"A participant in a multiparty computation protocol.\"\"\"\n",
    "    def __init__(self):\n",
    "        \"\"\"Initialize the field size and dictionary to hold received messages.\"\"\"\n",
    "        self.input = None\n",
    "        self.output = None\n",
    "        self.received = defaultdict(list)\n",
    "    \n",
    "    def send(self, other, round, msg):\n",
    "        \"\"\"Simulate sending a message `msg` to another party `other` during round `round`\"\"\"\n",
    "        other.received[round].append(msg)\n",
    "\n",
    "    def get_view(self):\n",
    "        \"\"\"Returns the view of this party: its input, output, and received messages.\"\"\"\n",
    "        return (self.input, self.output, dict(self.received))\n",
    "\n",
    "# Generate Shamir shares for secret v with threshold t and number of shares n\n",
    "def shamir_share(v, t, n):\n",
    "    coefficients = GF([GF.Random() for _ in range(t-1)] + [v])\n",
    "    poly = galois.Poly(coefficients)\n",
    "    shares = [(GF(x), poly(GF(x))) for x in range(1, n+1)]\n",
    "    return shares\n",
    "\n",
    "# Reconstruct the secret from at least t Shamir shares\n",
    "def reconstruct(shares):\n",
    "    xs = GF([s[0] for s in shares])\n",
    "    ys = GF([s[1] for s in shares])\n",
    "    poly = galois.lagrange_poly(xs, ys)\n",
    "    #print(poly)\n",
    "    secret = poly(0)\n",
    "    \n",
    "    return secret"
   ]
  },
  {
   "cell_type": "markdown",
   "metadata": {},
   "source": [
    "## Question 1 (20 points)\n",
    "\n",
    "Describe a protocol to multiply three input numbers. The input numbers will be secret-shared according to a $(t,n)$ Shamir secret sharing scheme before the protocol starts, and each party will receive one share of each number. Each party should output *one share of the product*, using a $(t, n)$ Shamir secret sharing scheme (i.e. the threshold for the output should be the same as the threshold for the input).\n",
    "\n",
    "\\begin{equation*}\n",
    "\\textbf{Functionality: Multiply Three Numbers}\\\\\n",
    "\\fbox{$\\mathcal{F}(a, b, c) = a \\cdot b \\cdot c$}\n",
    "\\end{equation*}\n",
    "\n",
    "**HINT**: reference the in-class exercise from 9/19/2022."
   ]
  },
  {
   "cell_type": "markdown",
   "metadata": {
    "deletable": false,
    "nbgrader": {
     "cell_type": "markdown",
     "checksum": "ab496ff40c62741773f1f797dcb98854",
     "grade": true,
     "grade_id": "cell-6df68c07c24abf58",
     "locked": false,
     "points": 20,
     "schema_version": 3,
     "solution": true,
     "task": false
    }
   },
   "source": [
    "YOUR ANSWER HERE"
   ]
  },
  {
   "cell_type": "markdown",
   "metadata": {},
   "source": [
    "## Question 2\n",
    "\n",
    "Implement your protocol from question 1."
   ]
  },
  {
   "cell_type": "code",
   "execution_count": null,
   "metadata": {
    "deletable": false,
    "nbgrader": {
     "cell_type": "code",
     "checksum": "6d2be65c3f31b1c50bf4fa705307b583",
     "grade": false,
     "grade_id": "cell-47362684de6912c6",
     "locked": false,
     "schema_version": 3,
     "solution": true,
     "task": false
    }
   },
   "outputs": [],
   "source": [
    "class MultThreeParty(Party):\n",
    "    def round1(self, parties, a_shr, b_shr, c_shr, t):\n",
    "        self.input = (a_shr, b_shr, c_shr)\n",
    "        self.c_shr = c_shr # save this one for later\n",
    "        self.parties = parties\n",
    "        n = len(parties)\n",
    "        assert t <= n/2\n",
    "        \n",
    "        # YOUR CODE HERE\n",
    "        raise NotImplementedError()\n",
    "\n",
    "    def round2(self):\n",
    "        n = len(self.parties)\n",
    "        \n",
    "        # YOUR CODE HERE\n",
    "        raise NotImplementedError()\n",
    "    \n",
    "    def round3(self):\n",
    "        n = len(self.parties)\n",
    "        \n",
    "        # YOUR CODE HERE\n",
    "        raise NotImplementedError()"
   ]
  },
  {
   "cell_type": "code",
   "execution_count": null,
   "metadata": {
    "deletable": false,
    "editable": false,
    "nbgrader": {
     "cell_type": "code",
     "checksum": "9c1a0b1ef554cba2696c9581f8b8042d",
     "grade": true,
     "grade_id": "cell-0151a9043c28b815",
     "locked": true,
     "points": 20,
     "schema_version": 3,
     "solution": false,
     "task": false
    }
   },
   "outputs": [],
   "source": [
    "# TEST CASE for question 2\n",
    "\n",
    "NUM_PARTIES = 6\n",
    "# (t, n)-Shamir scheme\n",
    "n = NUM_PARTIES\n",
    "t = 3\n",
    "\n",
    "shares1 = shamir_share(5, t, n)\n",
    "shares2 = shamir_share(6, t, n)\n",
    "shares3 = shamir_share(7, t, n)\n",
    "\n",
    "parties = [MultThreeParty() for _ in range(NUM_PARTIES)]\n",
    "\n",
    "for p,s1,s2,s3 in zip(parties, shares1, shares2, shares3):\n",
    "    p.round1(parties, s1, s2, s3, t)\n",
    "for p in parties:\n",
    "    p.round2()\n",
    "for p in parties:\n",
    "    p.round3()\n",
    "for p in parties:\n",
    "    # print(p.get_view())\n",
    "    print(p.output)\n",
    "\n",
    "output_shares = [p.output for p in parties]\n",
    "print('Reconstruction, with all shares:', reconstruct(output_shares))\n",
    "print('Reconstruction, with 3 shares:', reconstruct(output_shares[:3]))\n",
    "print('Reconstruction, with 2 shares:', reconstruct(output_shares[:2]))\n",
    "\n",
    "assert reconstruct(output_shares) == 210\n",
    "assert reconstruct(output_shares[:3]) == 210\n",
    "assert reconstruct(output_shares[:2]) != 210"
   ]
  },
  {
   "cell_type": "markdown",
   "metadata": {},
   "source": [
    "## Question 3\n",
    "\n",
    "Describe a protocol to compute the product of a list of $k$ numbers. The input numbers will be secret-shared according to a $(t,n)$ Shamir secret sharing scheme before the protocol starts, and each party will receive a list containing one share of each number. Each party should output *one share of the product*, using a $(t, n)$ Shamir secret sharing scheme (i.e. the threshold for the output should be the same as the threshold for the input).\n",
    "\n",
    "\\begin{equation*}\n",
    "\\textbf{Functionality: Product of $k$ Numbers}\\\\\n",
    "\\fbox{$\\mathcal{F}(x_1, \\dots, x_k) = \\prod_{i=1}^k x_i$}\n",
    "\\end{equation*}\n",
    "\n",
    "**HINT**: This problem is intentionally open-ended. The number of rounds of communication between the parties will depend on $k$."
   ]
  },
  {
   "cell_type": "markdown",
   "metadata": {
    "deletable": false,
    "nbgrader": {
     "cell_type": "markdown",
     "checksum": "53c9c27a96d7c98adcd6db53a5814e42",
     "grade": true,
     "grade_id": "cell-3c058e250a99af4a",
     "locked": false,
     "points": 20,
     "schema_version": 3,
     "solution": true,
     "task": false
    }
   },
   "source": [
    "YOUR ANSWER HERE"
   ]
  },
  {
   "cell_type": "markdown",
   "metadata": {},
   "source": [
    "## Question 4\n",
    "\n",
    "Implement your protocol from question 3."
   ]
  },
  {
   "cell_type": "code",
   "execution_count": null,
   "metadata": {
    "deletable": false,
    "nbgrader": {
     "cell_type": "code",
     "checksum": "576ab48c1106bc7625e7aa35c9c7ea50",
     "grade": false,
     "grade_id": "cell-1fe3ab52cdff1e68",
     "locked": false,
     "schema_version": 3,
     "solution": true,
     "task": false
    }
   },
   "outputs": [],
   "source": [
    "class MultListParty(Party):\n",
    "    def round1(self, parties, xs, t):\n",
    "        self.input = xs\n",
    "        self.xs = xs\n",
    "        self.parties = parties\n",
    "        self.is_done = False\n",
    "        n = len(parties)\n",
    "        assert t <= n/2\n",
    "        \n",
    "        # YOUR CODE HERE\n",
    "        raise NotImplementedError()\n",
    "\n",
    "    def roundn(self, round):\n",
    "        n = len(self.parties)\n",
    "        \n",
    "        # YOUR CODE HERE\n",
    "        raise NotImplementedError()"
   ]
  },
  {
   "cell_type": "code",
   "execution_count": null,
   "metadata": {},
   "outputs": [],
   "source": [
    "# Driver function for question 4\n",
    "# NOTE: you can modify this function, if it helps for your implementation\n",
    "# You may also want to uncomment pieces of the function for debugging\n",
    "def run_list_prod():\n",
    "    NUM_PARTIES = 6\n",
    "    # (t, n)-Shamir scheme\n",
    "    n = NUM_PARTIES\n",
    "    t = 3\n",
    "    k = 5\n",
    "\n",
    "    parties = [MultListParty() for _ in range(NUM_PARTIES)]\n",
    "    nums = [i+1 for i in range(k)]\n",
    "    shares = [shamir_share(x, t, n) for x in nums]\n",
    "    share_groups = list(zip(*shares))\n",
    "\n",
    "    for p,xs in zip(parties, share_groups):\n",
    "        p.round1(parties, xs, t)\n",
    "\n",
    "    round_num = 2\n",
    "    while not parties[0].is_done:\n",
    "        for p in parties:\n",
    "            p.roundn(round_num)       \n",
    "        round_num += 1\n",
    "\n",
    "    output_shares = [p.output for p in parties]\n",
    "    \n",
    "    print('Reconstruction, with all shares:', reconstruct(output_shares))\n",
    "    print('Reconstruction, with 3 shares:', reconstruct(output_shares[:3]))\n",
    "    print('Reconstruction, with 2 shares:', reconstruct(output_shares[:2]))\n",
    "    return nums, output_shares"
   ]
  },
  {
   "cell_type": "code",
   "execution_count": null,
   "metadata": {
    "deletable": false,
    "editable": false,
    "nbgrader": {
     "cell_type": "code",
     "checksum": "6139413bdec5fac9b5e0cc7f26a7fe0d",
     "grade": true,
     "grade_id": "cell-c4b396dc2ba93187",
     "locked": true,
     "points": 20,
     "schema_version": 3,
     "solution": false,
     "task": false
    }
   },
   "outputs": [],
   "source": [
    "# TEST CASE for question 4\n",
    "nums, output_shares = run_list_prod()\n",
    "assert reconstruct(output_shares) == np.prod(nums)\n",
    "assert reconstruct(output_shares[:3]) == np.prod(nums)\n",
    "assert reconstruct(output_shares[:2]) != np.prod(nums)"
   ]
  },
  {
   "cell_type": "code",
   "execution_count": null,
   "metadata": {},
   "outputs": [],
   "source": []
  }
 ],
 "metadata": {
  "kernelspec": {
   "display_name": "Python 3 (ipykernel)",
   "language": "python",
   "name": "python3"
  },
  "language_info": {
   "codemirror_mode": {
    "name": "ipython",
    "version": 3
   },
   "file_extension": ".py",
   "mimetype": "text/x-python",
   "name": "python",
   "nbconvert_exporter": "python",
   "pygments_lexer": "ipython3",
   "version": "3.10.4"
  }
 },
 "nbformat": 4,
 "nbformat_minor": 4
}
