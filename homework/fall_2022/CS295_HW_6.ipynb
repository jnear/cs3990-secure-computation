{
 "cells": [
  {
   "cell_type": "markdown",
   "metadata": {},
   "source": [
    "# CS295/395: Secure Distributed Computation\n",
    "## Homework 6"
   ]
  },
  {
   "cell_type": "markdown",
   "metadata": {},
   "source": [
    "# Part 1\n",
    "\n",
    "Consider the Danish Sugar Beet Auction, where MPC was used to set the market price for sugar beets. \n",
    "\n",
    "First, read the following references:\n",
    "- [Wikipedia](https://en.wikipedia.org/wiki/Danish_Sugar_Beet_Auction)\n",
    "- [Slides by Tomas Toft](https://csrc.nist.gov/csrc/media/events/meeting-on-privacy-enhancing-cryptography/documents/toft.pdf)\n",
    "  - Page 6: Auction definition\n",
    "  - Page 11: System architecture\n",
    "  - Page 15-16: The protocol\n",
    "- [The original paper](https://eprint.iacr.org/2008/068.pdf)"
   ]
  },
  {
   "cell_type": "markdown",
   "metadata": {},
   "source": [
    "## Question 1\n",
    "\n",
    "Describe the *threat model* of the approach for the sugar beet auction. Include:\n",
    "- The threat model itself\n",
    "- Limitations of the threat model\n",
    "- Plausible attacks on the system under this threat model"
   ]
  },
  {
   "cell_type": "markdown",
   "metadata": {
    "deletable": false,
    "nbgrader": {
     "cell_type": "markdown",
     "checksum": "a5aab7c68ac6ff91d555a23430a95849",
     "grade": true,
     "grade_id": "cell-4166471696204a17",
     "locked": false,
     "points": 10,
     "schema_version": 3,
     "solution": true,
     "task": false
    }
   },
   "source": [
    "YOUR ANSWER HERE"
   ]
  },
  {
   "cell_type": "markdown",
   "metadata": {},
   "source": [
    "## Question 2\n",
    "\n",
    "Describe a potential protocol for solving this problem. Justify your decisions."
   ]
  },
  {
   "cell_type": "markdown",
   "metadata": {
    "deletable": false,
    "nbgrader": {
     "cell_type": "markdown",
     "checksum": "293766d6b138bf5ee10a1dd8a60f99fd",
     "grade": true,
     "grade_id": "cell-3f77c3e60c21444b",
     "locked": false,
     "points": 10,
     "schema_version": 3,
     "solution": true,
     "task": false
    }
   },
   "source": [
    "YOUR ANSWER HERE"
   ]
  },
  {
   "cell_type": "markdown",
   "metadata": {},
   "source": [
    "# Part 2\n",
    "\n",
    "Consider the deployment of MPC to measure pay disparity by the Boston Women's Workforce Council.\n",
    "\n",
    "First, read the following references:\n",
    "- [Communications of the ACM Article](https://dl.acm.org/doi/10.1145/3029603) (then click \"pdf\")\n",
    "- [Interview with Mayank Varia](https://blog.trustedci.org/2020/01/transition-to-practice-success-story.html)\n",
    "- [Paper and video about this work](https://www.usenix.org/conference/soups2019/presentation/qin) (go to 4:30 in the video for a description of the system architecture)\n",
    "- [BWWC's Page](https://thebwwc.org/mpc)\n",
    "- [Data submission page for the system](https://100talent.org/) (you can't submit data without a valid ID)"
   ]
  },
  {
   "cell_type": "markdown",
   "metadata": {},
   "source": [
    "## Question 3\n",
    "\n",
    "Describe the *threat model* of the approach taken for the BWWC system. Include:\n",
    "- The threat model itself\n",
    "- Limitations of the threat model\n",
    "- Plausible attacks on the system under this threat model"
   ]
  },
  {
   "cell_type": "markdown",
   "metadata": {
    "deletable": false,
    "nbgrader": {
     "cell_type": "markdown",
     "checksum": "756bb02dddb491ff46d472a71c7e29c2",
     "grade": true,
     "grade_id": "cell-70ccf7a912734531",
     "locked": false,
     "points": 10,
     "schema_version": 3,
     "solution": true,
     "task": false
    }
   },
   "source": [
    "YOUR ANSWER HERE"
   ]
  },
  {
   "cell_type": "markdown",
   "metadata": {},
   "source": [
    "## Question 4\n",
    "\n",
    "Describe a potential protocol for solving this problem. Justify your decisions."
   ]
  },
  {
   "cell_type": "markdown",
   "metadata": {
    "deletable": false,
    "nbgrader": {
     "cell_type": "markdown",
     "checksum": "de98fd8705abf2f971a873ce0822775d",
     "grade": true,
     "grade_id": "cell-eef5ff8a40809eeb",
     "locked": false,
     "points": 10,
     "schema_version": 3,
     "solution": true,
     "task": false
    }
   },
   "source": [
    "YOUR ANSWER HERE"
   ]
  },
  {
   "cell_type": "markdown",
   "metadata": {},
   "source": [
    "## Question 5\n",
    "\n",
    "Describe the similarities and differences between these two problems and the associated solutions."
   ]
  },
  {
   "cell_type": "markdown",
   "metadata": {
    "deletable": false,
    "nbgrader": {
     "cell_type": "markdown",
     "checksum": "bc3b1844f0c59d790f5affb1d2db9a52",
     "grade": true,
     "grade_id": "cell-7802a40104ccb3ce",
     "locked": false,
     "points": 10,
     "schema_version": 3,
     "solution": true,
     "task": false
    }
   },
   "source": [
    "YOUR ANSWER HERE"
   ]
  }
 ],
 "metadata": {
  "kernelspec": {
   "display_name": "Python 3 (ipykernel)",
   "language": "python",
   "name": "python3"
  },
  "language_info": {
   "codemirror_mode": {
    "name": "ipython",
    "version": 3
   },
   "file_extension": ".py",
   "mimetype": "text/x-python",
   "name": "python",
   "nbconvert_exporter": "python",
   "pygments_lexer": "ipython3",
   "version": "3.10.4"
  }
 },
 "nbformat": 4,
 "nbformat_minor": 4
}
