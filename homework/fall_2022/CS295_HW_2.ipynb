{
 "cells": [
  {
   "cell_type": "markdown",
   "metadata": {},
   "source": [
    "# CS295/395: Secure Distributed Computation\n",
    "## Homework 2"
   ]
  },
  {
   "cell_type": "markdown",
   "metadata": {},
   "source": [
    "## Definitions"
   ]
  },
  {
   "cell_type": "code",
   "execution_count": null,
   "metadata": {},
   "outputs": [],
   "source": [
    "# IMPORTS & DEFINITIONS\n",
    "\n",
    "from scipy import stats\n",
    "import numpy as np\n",
    "from collections import defaultdict\n",
    "import galois\n",
    "\n",
    "GF = galois.GF(97)\n",
    "\n",
    "def make_additive_shares(n, x):\n",
    "    \"\"\"Create additive secret shares of the input, so that the shares look random but add up to the input.\n",
    "    n: number of shares to create\n",
    "    x: input value\"\"\"\n",
    "    first_shares = GF.Random(n-1)\n",
    "    last_share = x - first_shares.sum()\n",
    "    return GF(list(first_shares) + [last_share])\n",
    "\n",
    "class Party:\n",
    "    \"\"\"A participant in a multiparty computation protocol.\"\"\"\n",
    "    def __init__(self, field_size):\n",
    "        \"\"\"Initialize the field size and dictionary to hold received messages.\"\"\"\n",
    "        self.field_size = field_size\n",
    "        self.received = defaultdict(list)\n",
    "    \n",
    "    def send(self, other, round, msg):\n",
    "        \"\"\"Simulate sending a message `msg` to another party `other` during round `round`\"\"\"\n",
    "        other.received[round].append(msg)"
   ]
  },
  {
   "cell_type": "markdown",
   "metadata": {},
   "source": [
    "## Question 1 (30 points)\n",
    "\n",
    "Implement the `SecureAggregationParty` class, which implements an aggregation protocol secure against semi-honest adversaries."
   ]
  },
  {
   "cell_type": "code",
   "execution_count": null,
   "metadata": {
    "deletable": false,
    "nbgrader": {
     "cell_type": "code",
     "checksum": "14709a6ef4ba19b28783760a4e8e2f90",
     "grade": false,
     "grade_id": "cell-20035979d990a4de",
     "locked": false,
     "schema_version": 3,
     "solution": true,
     "task": false
    }
   },
   "outputs": [],
   "source": [
    "class SecureAggregationParty(Party):\n",
    "    \"\"\"A protocol for secure aggregation using additive secret sharing.\"\"\"\n",
    "    def round1(self, parties, input):\n",
    "        \"\"\"In round 1, each party shares out `input` and sends one share \n",
    "        to each party (including itself).\"\"\"\n",
    "        self.input = input\n",
    "        \n",
    "        # YOUR CODE HERE\n",
    "        raise NotImplementedError()\n",
    "\n",
    "    def round2(self, parties):\n",
    "        \"\"\"In round 2, each party sums up the shares it has received and\n",
    "        sends the result to all parties (including itself).\"\"\"\n",
    "        \n",
    "        # YOUR CODE HERE\n",
    "        raise NotImplementedError()\n",
    "            \n",
    "    def round3(self):\n",
    "        \"\"\"In round 3, each party outputs the sum of the sums it has received\n",
    "        (by setting `self.output` to the sum).\"\"\"\n",
    "        \n",
    "        # YOUR CODE HERE\n",
    "        raise NotImplementedError()\n",
    "    \n",
    "    def get_view(self):\n",
    "        \"\"\"Returns the view of this party: its input, output, and received messages.\"\"\"\n",
    "        return (self.input, self.output, self.received[1], self.received[2])"
   ]
  },
  {
   "cell_type": "code",
   "execution_count": null,
   "metadata": {
    "deletable": false,
    "editable": false,
    "nbgrader": {
     "cell_type": "code",
     "checksum": "adba7bc4ec25b01f6c6ecb3e8d769562",
     "grade": true,
     "grade_id": "cell-098b059ab9e8f58c",
     "locked": true,
     "points": 30,
     "schema_version": 3,
     "solution": false,
     "task": false
    }
   },
   "outputs": [],
   "source": [
    "# TEST CASE for question 1\n",
    "\n",
    "# field size 100, 5 parties\n",
    "p = 100\n",
    "parties = [SecureAggregationParty(p) for i in range(5)]\n",
    "inputs = [np.random.randint(1, 10) for _ in parties]\n",
    "\n",
    "# run round 1\n",
    "for party, x_p in zip(parties, inputs):\n",
    "    party.round1(parties, x_p)\n",
    "\n",
    "# run round 2\n",
    "for party in parties:\n",
    "    party.round2(parties)\n",
    "\n",
    "# run round 3\n",
    "for party in parties:\n",
    "    assert party.round3() == sum(inputs)"
   ]
  },
  {
   "cell_type": "code",
   "execution_count": null,
   "metadata": {},
   "outputs": [],
   "source": [
    "# Example: how to print the view of a party\n",
    "# Must run this cell *after* running the test case above\n",
    "for party in parties:\n",
    "    print(party.get_view())"
   ]
  },
  {
   "cell_type": "markdown",
   "metadata": {},
   "source": [
    "## Question 2 (15 points)\n",
    "\n",
    "Implement the `CorruptAggregationParty` class, a malicious participant in the secure aggregation protocol from Question 1. The `CorruptAggregationParty` should output the correct answer, but cause other parties to output the wrong answer."
   ]
  },
  {
   "cell_type": "code",
   "execution_count": null,
   "metadata": {
    "deletable": false,
    "nbgrader": {
     "cell_type": "code",
     "checksum": "ba3a12f32f079da8457f8ac152d0c2fd",
     "grade": false,
     "grade_id": "cell-a4d73c2d2aefb13d",
     "locked": false,
     "schema_version": 3,
     "solution": true,
     "task": false
    }
   },
   "outputs": [],
   "source": [
    "class CorruptAggregationParty(Party):\n",
    "    \"\"\"A corrupted party for secure aggregation.\"\"\"\n",
    "    def round1(self, parties, input):\n",
    "        # YOUR CODE HERE\n",
    "        raise NotImplementedError()\n",
    "\n",
    "    def round2(self, parties):\n",
    "        # YOUR CODE HERE\n",
    "        raise NotImplementedError()\n",
    "            \n",
    "    def round3(self):\n",
    "        # YOUR CODE HERE\n",
    "        raise NotImplementedError()"
   ]
  },
  {
   "cell_type": "code",
   "execution_count": null,
   "metadata": {
    "deletable": false,
    "editable": false,
    "nbgrader": {
     "cell_type": "code",
     "checksum": "9596122550ebcb17d96454ffc1c5e1f4",
     "grade": true,
     "grade_id": "cell-bfd983438b6804fc",
     "locked": true,
     "points": 15,
     "schema_version": 3,
     "solution": false,
     "task": false
    }
   },
   "outputs": [],
   "source": [
    "# TEST CASE for question 2\n",
    "\n",
    "# field size 100, 5 honest parties and 1 corrupt party\n",
    "p = 100\n",
    "parties = [SecureAggregationParty(p) for i in range(5)]\n",
    "parties.append(CorruptAggregationParty(p))\n",
    "\n",
    "# run round 1\n",
    "for party in parties:\n",
    "    party.round1(parties, 10)\n",
    "\n",
    "# run round 2\n",
    "for party in parties:\n",
    "    party.round2(parties)\n",
    "\n",
    "# run round 3\n",
    "for party in parties:\n",
    "    output = party.round3()\n",
    "    if isinstance(party, SecureAggregationParty):\n",
    "        assert output != 60   # honest parties output the *wrong* answer\n",
    "    else:\n",
    "        assert output == 60   # corrupt party outputs the *right* answer"
   ]
  },
  {
   "cell_type": "markdown",
   "metadata": {},
   "source": [
    "## Question 3 (15 points)\n",
    "\n",
    "Write a function that implements a simulator for `SecureAggregationParty`. Your function should simulate one party. It should take the size of the finite field, the number of parties participating, the simulated party's input, and the output of the functionality (the information available in the ideal world) as arguments. Your function should print a view that is indistinguishable from one printed by the `print_view` method of the `SecureAggregationParty` class."
   ]
  },
  {
   "cell_type": "code",
   "execution_count": null,
   "metadata": {
    "deletable": false,
    "nbgrader": {
     "cell_type": "code",
     "checksum": "54e540c5b0f9f6fd27c27cdab3a35df5",
     "grade": false,
     "grade_id": "cell-8f00df3bbc4fc45f",
     "locked": false,
     "schema_version": 3,
     "solution": true,
     "task": false
    }
   },
   "outputs": [],
   "source": [
    "def simulator(n, input, output):\n",
    "    \"\"\"Simulate the view of a single `SecureAggregationParty` using only the functionality's\n",
    "    input and output, field size p, and number of parties n. Outputs a 4-tuple.\"\"\"\n",
    "    \n",
    "    # YOUR CODE HERE\n",
    "    raise NotImplementedError()\n",
    "    return (input, output, round1_view, round2_view)"
   ]
  },
  {
   "cell_type": "code",
   "execution_count": null,
   "metadata": {
    "deletable": false,
    "editable": false,
    "nbgrader": {
     "cell_type": "code",
     "checksum": "888b5eda9e6af6f8c97b6ff7d3f6c0f3",
     "grade": true,
     "grade_id": "cell-8914f84cdf421d85",
     "locked": true,
     "points": 15,
     "schema_version": 3,
     "solution": false,
     "task": false
    }
   },
   "outputs": [],
   "source": [
    "# TEST CASE 1 for question 3\n",
    "\n",
    "# run the simulator 1000 times\n",
    "simulator_runs = [simulator(5, 5, 50) for _ in range(1000)]\n",
    "\n",
    "# check that the views have the correct input and output\n",
    "for input, output, round1_view, round2_view in simulator_runs:\n",
    "    assert input == 5\n",
    "    assert output == 50\n",
    "\n",
    "# generate 5000 uniformly random field elements\n",
    "unif = np.array([GF.Random() for _ in range(1000*5)])\n",
    "\n",
    "# check that the views have the correct randomness\n",
    "r1s = np.array([s[2] for s in simulator_runs]).flat\n",
    "r2s = np.array([s[3] for s in simulator_runs]).flat\n",
    "assert stats.wasserstein_distance(r1s, unif) <= 2\n",
    "assert stats.wasserstein_distance(r2s, unif) <= 2"
   ]
  },
  {
   "cell_type": "code",
   "execution_count": null,
   "metadata": {},
   "outputs": [],
   "source": [
    "# TEST CASE 2 for question 3\n",
    "\n",
    "real_world_views = []\n",
    "\n",
    "# run the simulator 1000 times\n",
    "simulator_runs = [simulator(5, 5, 50) for _ in range(1000)]\n",
    "\n",
    "# check that the views have the correct input and output\n",
    "for input, output, round1_view, round2_view in simulator_runs:\n",
    "    assert input == 5\n",
    "    assert output == 50\n",
    "\n",
    "# run the real protocol 1000 times\n",
    "for _ in range(1000):\n",
    "    # field size 100, 5 parties\n",
    "    p = 100\n",
    "    parties = [SecureAggregationParty(p) for i in range(5)]\n",
    "\n",
    "    # run round 1\n",
    "    for party in parties:\n",
    "        party.round1(parties, 10)\n",
    "\n",
    "    # run round 2\n",
    "    for party in parties:\n",
    "        party.round2(parties)\n",
    "\n",
    "    # run round 3\n",
    "    for party in parties:\n",
    "        assert party.round3() == 50\n",
    "        real_world_views.append(party.get_view())\n",
    "\n",
    "# check that the simulated views in the ideal world have the same \n",
    "# randomness as the real world views\n",
    "r1s_ideal = np.array([s[2] for s in simulator_runs]).flat\n",
    "r2s_ideal = np.array([s[3] for s in simulator_runs]).flat\n",
    "r1s_real = np.array([s[2] for s in real_world_views]).flat\n",
    "r2s_real = np.array([s[3] for s in real_world_views]).flat\n",
    "\n",
    "assert stats.wasserstein_distance(r1s_ideal, r1s_real) <= 2\n",
    "assert stats.wasserstein_distance(r2s_ideal, r2s_real) <= 2"
   ]
  }
 ],
 "metadata": {
  "kernelspec": {
   "display_name": "Python 3 (ipykernel)",
   "language": "python",
   "name": "python3"
  },
  "language_info": {
   "codemirror_mode": {
    "name": "ipython",
    "version": 3
   },
   "file_extension": ".py",
   "mimetype": "text/x-python",
   "name": "python",
   "nbconvert_exporter": "python",
   "pygments_lexer": "ipython3",
   "version": "3.10.4"
  }
 },
 "nbformat": 4,
 "nbformat_minor": 4
}
